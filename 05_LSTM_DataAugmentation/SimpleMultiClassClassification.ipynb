{
  "nbformat": 4,
  "nbformat_minor": 0,
  "metadata": {
    "colab": {
      "name": "SimpleMultiClassClassification.ipynb",
      "provenance": []
    },
    "kernelspec": {
      "name": "python3",
      "display_name": "Python 3"
    },
    "language_info": {
      "name": "python"
    },
    "accelerator": "GPU"
  },
  "cells": [
    {
      "cell_type": "markdown",
      "metadata": {
        "id": "xrrvwBn1dPSz"
      },
      "source": [
        "### Load the datasets"
      ]
    },
    {
      "cell_type": "code",
      "metadata": {
        "colab": {
          "resources": {
            "http://localhost:8080/nbextensions/google.colab/files.js": {
              "data": "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",
              "ok": true,
              "headers": [
                [
                  "content-type",
                  "application/javascript"
                ]
              ],
              "status": 200,
              "status_text": "OK"
            }
          },
          "base_uri": "https://localhost:8080/",
          "height": 146
        },
        "id": "1Uf3sfGURZ1m",
        "outputId": "77d8d073-7d9f-443a-a66a-52ebca8659f8"
      },
      "source": [
        "from google.colab import files\n",
        "uploaded = files.upload()"
      ],
      "execution_count": 1,
      "outputs": [
        {
          "output_type": "display_data",
          "data": {
            "text/html": [
              "\n",
              "     <input type=\"file\" id=\"files-2b3d6547-fa64-4420-be19-8c76604d2160\" name=\"files[]\" multiple disabled\n",
              "        style=\"border:none\" />\n",
              "     <output id=\"result-2b3d6547-fa64-4420-be19-8c76604d2160\">\n",
              "      Upload widget is only available when the cell has been executed in the\n",
              "      current browser session. Please rerun this cell to enable.\n",
              "      </output>\n",
              "      <script src=\"/nbextensions/google.colab/files.js\"></script> "
            ],
            "text/plain": [
              "<IPython.core.display.HTML object>"
            ]
          },
          "metadata": {
            "tags": []
          }
        },
        {
          "output_type": "stream",
          "text": [
            "Saving datasetSentences.txt to datasetSentences.txt\n",
            "Saving dictionary.txt to dictionary.txt\n",
            "Saving sentiment_labels.txt to sentiment_labels.txt\n"
          ],
          "name": "stdout"
        }
      ]
    },
    {
      "cell_type": "code",
      "metadata": {
        "id": "sbfY9Ls5TZGz"
      },
      "source": [
        "import pandas as pd"
      ],
      "execution_count": 2,
      "outputs": []
    },
    {
      "cell_type": "code",
      "metadata": {
        "colab": {
          "base_uri": "https://localhost:8080/",
          "height": 206
        },
        "id": "A3dBXfxoUpsf",
        "outputId": "0b1ade58-a1eb-4a1d-e4bf-2426819511a5"
      },
      "source": [
        "dataset = pd.read_csv('datasetSentences.txt', sep='\\t')\n",
        "dataset.head()"
      ],
      "execution_count": 3,
      "outputs": [
        {
          "output_type": "execute_result",
          "data": {
            "text/html": [
              "<div>\n",
              "<style scoped>\n",
              "    .dataframe tbody tr th:only-of-type {\n",
              "        vertical-align: middle;\n",
              "    }\n",
              "\n",
              "    .dataframe tbody tr th {\n",
              "        vertical-align: top;\n",
              "    }\n",
              "\n",
              "    .dataframe thead th {\n",
              "        text-align: right;\n",
              "    }\n",
              "</style>\n",
              "<table border=\"1\" class=\"dataframe\">\n",
              "  <thead>\n",
              "    <tr style=\"text-align: right;\">\n",
              "      <th></th>\n",
              "      <th>sentence_index</th>\n",
              "      <th>sentence</th>\n",
              "    </tr>\n",
              "  </thead>\n",
              "  <tbody>\n",
              "    <tr>\n",
              "      <th>0</th>\n",
              "      <td>1</td>\n",
              "      <td>The Rock is destined to be the 21st Century 's...</td>\n",
              "    </tr>\n",
              "    <tr>\n",
              "      <th>1</th>\n",
              "      <td>2</td>\n",
              "      <td>The gorgeously elaborate continuation of `` Th...</td>\n",
              "    </tr>\n",
              "    <tr>\n",
              "      <th>2</th>\n",
              "      <td>3</td>\n",
              "      <td>Effective but too-tepid biopic</td>\n",
              "    </tr>\n",
              "    <tr>\n",
              "      <th>3</th>\n",
              "      <td>4</td>\n",
              "      <td>If you sometimes like to go to the movies to h...</td>\n",
              "    </tr>\n",
              "    <tr>\n",
              "      <th>4</th>\n",
              "      <td>5</td>\n",
              "      <td>Emerges as something rare , an issue movie tha...</td>\n",
              "    </tr>\n",
              "  </tbody>\n",
              "</table>\n",
              "</div>"
            ],
            "text/plain": [
              "   sentence_index                                           sentence\n",
              "0               1  The Rock is destined to be the 21st Century 's...\n",
              "1               2  The gorgeously elaborate continuation of `` Th...\n",
              "2               3                     Effective but too-tepid biopic\n",
              "3               4  If you sometimes like to go to the movies to h...\n",
              "4               5  Emerges as something rare , an issue movie tha..."
            ]
          },
          "metadata": {
            "tags": []
          },
          "execution_count": 3
        }
      ]
    },
    {
      "cell_type": "code",
      "metadata": {
        "colab": {
          "base_uri": "https://localhost:8080/",
          "height": 206
        },
        "id": "bsYV2j7CVLtE",
        "outputId": "15c00b9a-a992-42ed-ace8-711d6537d54c"
      },
      "source": [
        "dictionary = pd.read_csv('dictionary.txt', sep='|', names = ['phrase', 'id'])\n",
        "dictionary.head()"
      ],
      "execution_count": 4,
      "outputs": [
        {
          "output_type": "execute_result",
          "data": {
            "text/html": [
              "<div>\n",
              "<style scoped>\n",
              "    .dataframe tbody tr th:only-of-type {\n",
              "        vertical-align: middle;\n",
              "    }\n",
              "\n",
              "    .dataframe tbody tr th {\n",
              "        vertical-align: top;\n",
              "    }\n",
              "\n",
              "    .dataframe thead th {\n",
              "        text-align: right;\n",
              "    }\n",
              "</style>\n",
              "<table border=\"1\" class=\"dataframe\">\n",
              "  <thead>\n",
              "    <tr style=\"text-align: right;\">\n",
              "      <th></th>\n",
              "      <th>phrase</th>\n",
              "      <th>id</th>\n",
              "    </tr>\n",
              "  </thead>\n",
              "  <tbody>\n",
              "    <tr>\n",
              "      <th>0</th>\n",
              "      <td>!</td>\n",
              "      <td>0</td>\n",
              "    </tr>\n",
              "    <tr>\n",
              "      <th>1</th>\n",
              "      <td>! '</td>\n",
              "      <td>22935</td>\n",
              "    </tr>\n",
              "    <tr>\n",
              "      <th>2</th>\n",
              "      <td>! ''</td>\n",
              "      <td>18235</td>\n",
              "    </tr>\n",
              "    <tr>\n",
              "      <th>3</th>\n",
              "      <td>! Alas</td>\n",
              "      <td>179257</td>\n",
              "    </tr>\n",
              "    <tr>\n",
              "      <th>4</th>\n",
              "      <td>! Brilliant</td>\n",
              "      <td>22936</td>\n",
              "    </tr>\n",
              "  </tbody>\n",
              "</table>\n",
              "</div>"
            ],
            "text/plain": [
              "        phrase      id\n",
              "0            !       0\n",
              "1          ! '   22935\n",
              "2         ! ''   18235\n",
              "3       ! Alas  179257\n",
              "4  ! Brilliant   22936"
            ]
          },
          "metadata": {
            "tags": []
          },
          "execution_count": 4
        }
      ]
    },
    {
      "cell_type": "code",
      "metadata": {
        "colab": {
          "base_uri": "https://localhost:8080/",
          "height": 206
        },
        "id": "JHRwLyYKUySN",
        "outputId": "879d2b05-7db8-4582-a7ac-367f7aa598ed"
      },
      "source": [
        "sentiment_labels = pd.read_csv('sentiment_labels.txt', sep='|', names = ['id', 'sentiment_values'], header=0)\n",
        "sentiment_labels.head()"
      ],
      "execution_count": 5,
      "outputs": [
        {
          "output_type": "execute_result",
          "data": {
            "text/html": [
              "<div>\n",
              "<style scoped>\n",
              "    .dataframe tbody tr th:only-of-type {\n",
              "        vertical-align: middle;\n",
              "    }\n",
              "\n",
              "    .dataframe tbody tr th {\n",
              "        vertical-align: top;\n",
              "    }\n",
              "\n",
              "    .dataframe thead th {\n",
              "        text-align: right;\n",
              "    }\n",
              "</style>\n",
              "<table border=\"1\" class=\"dataframe\">\n",
              "  <thead>\n",
              "    <tr style=\"text-align: right;\">\n",
              "      <th></th>\n",
              "      <th>id</th>\n",
              "      <th>sentiment_values</th>\n",
              "    </tr>\n",
              "  </thead>\n",
              "  <tbody>\n",
              "    <tr>\n",
              "      <th>0</th>\n",
              "      <td>0</td>\n",
              "      <td>0.50000</td>\n",
              "    </tr>\n",
              "    <tr>\n",
              "      <th>1</th>\n",
              "      <td>1</td>\n",
              "      <td>0.50000</td>\n",
              "    </tr>\n",
              "    <tr>\n",
              "      <th>2</th>\n",
              "      <td>2</td>\n",
              "      <td>0.44444</td>\n",
              "    </tr>\n",
              "    <tr>\n",
              "      <th>3</th>\n",
              "      <td>3</td>\n",
              "      <td>0.50000</td>\n",
              "    </tr>\n",
              "    <tr>\n",
              "      <th>4</th>\n",
              "      <td>4</td>\n",
              "      <td>0.42708</td>\n",
              "    </tr>\n",
              "  </tbody>\n",
              "</table>\n",
              "</div>"
            ],
            "text/plain": [
              "   id  sentiment_values\n",
              "0   0           0.50000\n",
              "1   1           0.50000\n",
              "2   2           0.44444\n",
              "3   3           0.50000\n",
              "4   4           0.42708"
            ]
          },
          "metadata": {
            "tags": []
          },
          "execution_count": 5
        }
      ]
    },
    {
      "cell_type": "markdown",
      "metadata": {
        "id": "gVvIMdxDW0Ef"
      },
      "source": [
        "### Convert Labels into 5 Classes"
      ]
    },
    {
      "cell_type": "code",
      "metadata": {
        "id": "w6aeEgfXWaPu"
      },
      "source": [
        "import numpy as np"
      ],
      "execution_count": 6,
      "outputs": []
    },
    {
      "cell_type": "code",
      "metadata": {
        "id": "TQgNFz2zYQMg"
      },
      "source": [
        "def createClass(a):\n",
        "  if a <= 0.2 : \n",
        "    return 0\n",
        "  elif a <=0.4 :\n",
        "   return 1\n",
        "  elif a <=0.6 :\n",
        "   return 2\n",
        "  elif a <=0.8 :\n",
        "   return 3\n",
        "  else :\n",
        "    return 4"
      ],
      "execution_count": 7,
      "outputs": []
    },
    {
      "cell_type": "code",
      "metadata": {
        "id": "tanclRODZLfT"
      },
      "source": [
        "sentiment_labels['label'] = sentiment_labels.sentiment_values.apply(createClass)"
      ],
      "execution_count": 8,
      "outputs": []
    },
    {
      "cell_type": "code",
      "metadata": {
        "colab": {
          "base_uri": "https://localhost:8080/",
          "height": 424
        },
        "id": "jVwbyuFgaCHF",
        "outputId": "bb218b5b-a102-4765-aba9-6cf0f0db1428"
      },
      "source": [
        "sentiment_labels"
      ],
      "execution_count": 9,
      "outputs": [
        {
          "output_type": "execute_result",
          "data": {
            "text/html": [
              "<div>\n",
              "<style scoped>\n",
              "    .dataframe tbody tr th:only-of-type {\n",
              "        vertical-align: middle;\n",
              "    }\n",
              "\n",
              "    .dataframe tbody tr th {\n",
              "        vertical-align: top;\n",
              "    }\n",
              "\n",
              "    .dataframe thead th {\n",
              "        text-align: right;\n",
              "    }\n",
              "</style>\n",
              "<table border=\"1\" class=\"dataframe\">\n",
              "  <thead>\n",
              "    <tr style=\"text-align: right;\">\n",
              "      <th></th>\n",
              "      <th>id</th>\n",
              "      <th>sentiment_values</th>\n",
              "      <th>label</th>\n",
              "    </tr>\n",
              "  </thead>\n",
              "  <tbody>\n",
              "    <tr>\n",
              "      <th>0</th>\n",
              "      <td>0</td>\n",
              "      <td>0.50000</td>\n",
              "      <td>2</td>\n",
              "    </tr>\n",
              "    <tr>\n",
              "      <th>1</th>\n",
              "      <td>1</td>\n",
              "      <td>0.50000</td>\n",
              "      <td>2</td>\n",
              "    </tr>\n",
              "    <tr>\n",
              "      <th>2</th>\n",
              "      <td>2</td>\n",
              "      <td>0.44444</td>\n",
              "      <td>2</td>\n",
              "    </tr>\n",
              "    <tr>\n",
              "      <th>3</th>\n",
              "      <td>3</td>\n",
              "      <td>0.50000</td>\n",
              "      <td>2</td>\n",
              "    </tr>\n",
              "    <tr>\n",
              "      <th>4</th>\n",
              "      <td>4</td>\n",
              "      <td>0.42708</td>\n",
              "      <td>2</td>\n",
              "    </tr>\n",
              "    <tr>\n",
              "      <th>...</th>\n",
              "      <td>...</td>\n",
              "      <td>...</td>\n",
              "      <td>...</td>\n",
              "    </tr>\n",
              "    <tr>\n",
              "      <th>239227</th>\n",
              "      <td>239227</td>\n",
              "      <td>0.36111</td>\n",
              "      <td>1</td>\n",
              "    </tr>\n",
              "    <tr>\n",
              "      <th>239228</th>\n",
              "      <td>239228</td>\n",
              "      <td>0.38889</td>\n",
              "      <td>1</td>\n",
              "    </tr>\n",
              "    <tr>\n",
              "      <th>239229</th>\n",
              "      <td>239229</td>\n",
              "      <td>0.33333</td>\n",
              "      <td>1</td>\n",
              "    </tr>\n",
              "    <tr>\n",
              "      <th>239230</th>\n",
              "      <td>239230</td>\n",
              "      <td>0.88889</td>\n",
              "      <td>4</td>\n",
              "    </tr>\n",
              "    <tr>\n",
              "      <th>239231</th>\n",
              "      <td>239231</td>\n",
              "      <td>0.50000</td>\n",
              "      <td>2</td>\n",
              "    </tr>\n",
              "  </tbody>\n",
              "</table>\n",
              "<p>239232 rows × 3 columns</p>\n",
              "</div>"
            ],
            "text/plain": [
              "            id  sentiment_values  label\n",
              "0            0           0.50000      2\n",
              "1            1           0.50000      2\n",
              "2            2           0.44444      2\n",
              "3            3           0.50000      2\n",
              "4            4           0.42708      2\n",
              "...        ...               ...    ...\n",
              "239227  239227           0.36111      1\n",
              "239228  239228           0.38889      1\n",
              "239229  239229           0.33333      1\n",
              "239230  239230           0.88889      4\n",
              "239231  239231           0.50000      2\n",
              "\n",
              "[239232 rows x 3 columns]"
            ]
          },
          "metadata": {
            "tags": []
          },
          "execution_count": 9
        }
      ]
    },
    {
      "cell_type": "markdown",
      "metadata": {
        "id": "HRaS6mrzdekq"
      },
      "source": [
        "### Merge and Create the datasets"
      ]
    },
    {
      "cell_type": "code",
      "metadata": {
        "colab": {
          "base_uri": "https://localhost:8080/",
          "height": 424
        },
        "id": "D8dA0Mota-Q7",
        "outputId": "bd64fb9c-a578-4f8b-9aa9-0d4839f387f0"
      },
      "source": [
        "mergedPhrases = pd.merge(dictionary, sentiment_labels, on ='id')\n",
        "mergedPhrases"
      ],
      "execution_count": 10,
      "outputs": [
        {
          "output_type": "execute_result",
          "data": {
            "text/html": [
              "<div>\n",
              "<style scoped>\n",
              "    .dataframe tbody tr th:only-of-type {\n",
              "        vertical-align: middle;\n",
              "    }\n",
              "\n",
              "    .dataframe tbody tr th {\n",
              "        vertical-align: top;\n",
              "    }\n",
              "\n",
              "    .dataframe thead th {\n",
              "        text-align: right;\n",
              "    }\n",
              "</style>\n",
              "<table border=\"1\" class=\"dataframe\">\n",
              "  <thead>\n",
              "    <tr style=\"text-align: right;\">\n",
              "      <th></th>\n",
              "      <th>phrase</th>\n",
              "      <th>id</th>\n",
              "      <th>sentiment_values</th>\n",
              "      <th>label</th>\n",
              "    </tr>\n",
              "  </thead>\n",
              "  <tbody>\n",
              "    <tr>\n",
              "      <th>0</th>\n",
              "      <td>!</td>\n",
              "      <td>0</td>\n",
              "      <td>0.50000</td>\n",
              "      <td>2</td>\n",
              "    </tr>\n",
              "    <tr>\n",
              "      <th>1</th>\n",
              "      <td>! '</td>\n",
              "      <td>22935</td>\n",
              "      <td>0.52778</td>\n",
              "      <td>2</td>\n",
              "    </tr>\n",
              "    <tr>\n",
              "      <th>2</th>\n",
              "      <td>! ''</td>\n",
              "      <td>18235</td>\n",
              "      <td>0.50000</td>\n",
              "      <td>2</td>\n",
              "    </tr>\n",
              "    <tr>\n",
              "      <th>3</th>\n",
              "      <td>! Alas</td>\n",
              "      <td>179257</td>\n",
              "      <td>0.44444</td>\n",
              "      <td>2</td>\n",
              "    </tr>\n",
              "    <tr>\n",
              "      <th>4</th>\n",
              "      <td>! Brilliant</td>\n",
              "      <td>22936</td>\n",
              "      <td>0.86111</td>\n",
              "      <td>4</td>\n",
              "    </tr>\n",
              "    <tr>\n",
              "      <th>...</th>\n",
              "      <td>...</td>\n",
              "      <td>...</td>\n",
              "      <td>...</td>\n",
              "      <td>...</td>\n",
              "    </tr>\n",
              "    <tr>\n",
              "      <th>239227</th>\n",
              "      <td>zoning ordinances to protect your community fr...</td>\n",
              "      <td>220441</td>\n",
              "      <td>0.13889</td>\n",
              "      <td>0</td>\n",
              "    </tr>\n",
              "    <tr>\n",
              "      <th>239228</th>\n",
              "      <td>zzzzzzzzz</td>\n",
              "      <td>179256</td>\n",
              "      <td>0.19444</td>\n",
              "      <td>0</td>\n",
              "    </tr>\n",
              "    <tr>\n",
              "      <th>239229</th>\n",
              "      <td>élan</td>\n",
              "      <td>220442</td>\n",
              "      <td>0.51389</td>\n",
              "      <td>2</td>\n",
              "    </tr>\n",
              "    <tr>\n",
              "      <th>239230</th>\n",
              "      <td>É</td>\n",
              "      <td>220443</td>\n",
              "      <td>0.50000</td>\n",
              "      <td>2</td>\n",
              "    </tr>\n",
              "    <tr>\n",
              "      <th>239231</th>\n",
              "      <td>É um passatempo descompromissado</td>\n",
              "      <td>220444</td>\n",
              "      <td>0.50000</td>\n",
              "      <td>2</td>\n",
              "    </tr>\n",
              "  </tbody>\n",
              "</table>\n",
              "<p>239232 rows × 4 columns</p>\n",
              "</div>"
            ],
            "text/plain": [
              "                                                   phrase  ...  label\n",
              "0                                                       !  ...      2\n",
              "1                                                     ! '  ...      2\n",
              "2                                                    ! ''  ...      2\n",
              "3                                                  ! Alas  ...      2\n",
              "4                                             ! Brilliant  ...      4\n",
              "...                                                   ...  ...    ...\n",
              "239227  zoning ordinances to protect your community fr...  ...      0\n",
              "239228                                          zzzzzzzzz  ...      0\n",
              "239229                                               élan  ...      2\n",
              "239230                                                  É  ...      2\n",
              "239231                   É um passatempo descompromissado  ...      2\n",
              "\n",
              "[239232 rows x 4 columns]"
            ]
          },
          "metadata": {
            "tags": []
          },
          "execution_count": 10
        }
      ]
    },
    {
      "cell_type": "code",
      "metadata": {
        "colab": {
          "base_uri": "https://localhost:8080/"
        },
        "id": "cMWw4GOLb9aG",
        "outputId": "63aa7ec2-27eb-40e5-abd2-097fd82d7a2e"
      },
      "source": [
        "mergedPhrases.label.value_counts()"
      ],
      "execution_count": 11,
      "outputs": [
        {
          "output_type": "execute_result",
          "data": {
            "text/plain": [
              "2    119449\n",
              "3     50148\n",
              "1     43028\n",
              "4     15255\n",
              "0     11352\n",
              "Name: label, dtype: int64"
            ]
          },
          "metadata": {
            "tags": []
          },
          "execution_count": 11
        }
      ]
    },
    {
      "cell_type": "code",
      "metadata": {
        "id": "u1bLeZlhcMUL"
      },
      "source": [
        "sentences = pd.merge(dataset, mergedPhrases, left_on='sentence', right_on='phrase')"
      ],
      "execution_count": 12,
      "outputs": []
    },
    {
      "cell_type": "code",
      "metadata": {
        "colab": {
          "base_uri": "https://localhost:8080/",
          "height": 424
        },
        "id": "WNgk7kcjc6Yh",
        "outputId": "41d230ea-b545-4bb9-9419-8e4755fd4618"
      },
      "source": [
        "sentences"
      ],
      "execution_count": 13,
      "outputs": [
        {
          "output_type": "execute_result",
          "data": {
            "text/html": [
              "<div>\n",
              "<style scoped>\n",
              "    .dataframe tbody tr th:only-of-type {\n",
              "        vertical-align: middle;\n",
              "    }\n",
              "\n",
              "    .dataframe tbody tr th {\n",
              "        vertical-align: top;\n",
              "    }\n",
              "\n",
              "    .dataframe thead th {\n",
              "        text-align: right;\n",
              "    }\n",
              "</style>\n",
              "<table border=\"1\" class=\"dataframe\">\n",
              "  <thead>\n",
              "    <tr style=\"text-align: right;\">\n",
              "      <th></th>\n",
              "      <th>sentence_index</th>\n",
              "      <th>sentence</th>\n",
              "      <th>phrase</th>\n",
              "      <th>id</th>\n",
              "      <th>sentiment_values</th>\n",
              "      <th>label</th>\n",
              "    </tr>\n",
              "  </thead>\n",
              "  <tbody>\n",
              "    <tr>\n",
              "      <th>0</th>\n",
              "      <td>1</td>\n",
              "      <td>The Rock is destined to be the 21st Century 's...</td>\n",
              "      <td>The Rock is destined to be the 21st Century 's...</td>\n",
              "      <td>226166</td>\n",
              "      <td>0.69444</td>\n",
              "      <td>3</td>\n",
              "    </tr>\n",
              "    <tr>\n",
              "      <th>1</th>\n",
              "      <td>2</td>\n",
              "      <td>The gorgeously elaborate continuation of `` Th...</td>\n",
              "      <td>The gorgeously elaborate continuation of `` Th...</td>\n",
              "      <td>226300</td>\n",
              "      <td>0.83333</td>\n",
              "      <td>4</td>\n",
              "    </tr>\n",
              "    <tr>\n",
              "      <th>2</th>\n",
              "      <td>3</td>\n",
              "      <td>Effective but too-tepid biopic</td>\n",
              "      <td>Effective but too-tepid biopic</td>\n",
              "      <td>13995</td>\n",
              "      <td>0.51389</td>\n",
              "      <td>2</td>\n",
              "    </tr>\n",
              "    <tr>\n",
              "      <th>3</th>\n",
              "      <td>4</td>\n",
              "      <td>If you sometimes like to go to the movies to h...</td>\n",
              "      <td>If you sometimes like to go to the movies to h...</td>\n",
              "      <td>14123</td>\n",
              "      <td>0.73611</td>\n",
              "      <td>3</td>\n",
              "    </tr>\n",
              "    <tr>\n",
              "      <th>4</th>\n",
              "      <td>5</td>\n",
              "      <td>Emerges as something rare , an issue movie tha...</td>\n",
              "      <td>Emerges as something rare , an issue movie tha...</td>\n",
              "      <td>13999</td>\n",
              "      <td>0.86111</td>\n",
              "      <td>4</td>\n",
              "    </tr>\n",
              "    <tr>\n",
              "      <th>...</th>\n",
              "      <td>...</td>\n",
              "      <td>...</td>\n",
              "      <td>...</td>\n",
              "      <td>...</td>\n",
              "      <td>...</td>\n",
              "      <td>...</td>\n",
              "    </tr>\n",
              "    <tr>\n",
              "      <th>11281</th>\n",
              "      <td>11851</td>\n",
              "      <td>A real snooze .</td>\n",
              "      <td>A real snooze .</td>\n",
              "      <td>222071</td>\n",
              "      <td>0.11111</td>\n",
              "      <td>0</td>\n",
              "    </tr>\n",
              "    <tr>\n",
              "      <th>11282</th>\n",
              "      <td>11852</td>\n",
              "      <td>No surprises .</td>\n",
              "      <td>No surprises .</td>\n",
              "      <td>225165</td>\n",
              "      <td>0.22222</td>\n",
              "      <td>1</td>\n",
              "    </tr>\n",
              "    <tr>\n",
              "      <th>11283</th>\n",
              "      <td>11853</td>\n",
              "      <td>We 've seen the hippie-turned-yuppie plot befo...</td>\n",
              "      <td>We 've seen the hippie-turned-yuppie plot befo...</td>\n",
              "      <td>226985</td>\n",
              "      <td>0.75000</td>\n",
              "      <td>3</td>\n",
              "    </tr>\n",
              "    <tr>\n",
              "      <th>11284</th>\n",
              "      <td>11854</td>\n",
              "      <td>Her fans walked out muttering words like `` ho...</td>\n",
              "      <td>Her fans walked out muttering words like `` ho...</td>\n",
              "      <td>223632</td>\n",
              "      <td>0.13889</td>\n",
              "      <td>0</td>\n",
              "    </tr>\n",
              "    <tr>\n",
              "      <th>11285</th>\n",
              "      <td>11855</td>\n",
              "      <td>In this case zero .</td>\n",
              "      <td>In this case zero .</td>\n",
              "      <td>224044</td>\n",
              "      <td>0.34722</td>\n",
              "      <td>1</td>\n",
              "    </tr>\n",
              "  </tbody>\n",
              "</table>\n",
              "<p>11286 rows × 6 columns</p>\n",
              "</div>"
            ],
            "text/plain": [
              "       sentence_index  ... label\n",
              "0                   1  ...     3\n",
              "1                   2  ...     4\n",
              "2                   3  ...     2\n",
              "3                   4  ...     3\n",
              "4                   5  ...     4\n",
              "...               ...  ...   ...\n",
              "11281           11851  ...     0\n",
              "11282           11852  ...     1\n",
              "11283           11853  ...     3\n",
              "11284           11854  ...     0\n",
              "11285           11855  ...     1\n",
              "\n",
              "[11286 rows x 6 columns]"
            ]
          },
          "metadata": {
            "tags": []
          },
          "execution_count": 13
        }
      ]
    },
    {
      "cell_type": "code",
      "metadata": {
        "colab": {
          "base_uri": "https://localhost:8080/"
        },
        "id": "bhQDTFk3c7ta",
        "outputId": "d01cacda-5618-4fcc-a316-2dc0699e4a5d"
      },
      "source": [
        "sentences.label.value_counts()"
      ],
      "execution_count": 14,
      "outputs": [
        {
          "output_type": "execute_result",
          "data": {
            "text/plain": [
              "1    2971\n",
              "3    2966\n",
              "2    2144\n",
              "4    1773\n",
              "0    1432\n",
              "Name: label, dtype: int64"
            ]
          },
          "metadata": {
            "tags": []
          },
          "execution_count": 14
        }
      ]
    },
    {
      "cell_type": "code",
      "metadata": {
        "id": "ntWHOyX8dCj-"
      },
      "source": [
        "import torch\n",
        "from torchtext.legacy import data\n",
        "from torchtext.legacy import datasets\n",
        "\n",
        "SEED = 1947\n",
        "\n",
        "torch.manual_seed(SEED)\n",
        "torch.backends.cudnn.deterministic = True\n",
        "\n",
        "\n",
        "ReviewText = data.Field(sequential =True, \n",
        "                        tokenize = 'spacy',\n",
        "                        tokenizer_language = 'en_core_web_sm',\n",
        "                        batch_first =True, \n",
        "                        include_lengths=True) # batch_first means : [batch, channel, r,g,b] : here batch is first\n",
        "\n",
        "Label = data.LabelField(tokenize ='spacy', \n",
        "                        is_target=True, \n",
        "                        batch_first =True, \n",
        "                        sequential =False)\n",
        "                        "
      ],
      "execution_count": 16,
      "outputs": []
    },
    {
      "cell_type": "code",
      "metadata": {
        "id": "qpUILx2rD4GL"
      },
      "source": [
        "fields = [('reviewText', ReviewText), ('label', Label)]"
      ],
      "execution_count": 17,
      "outputs": []
    },
    {
      "cell_type": "code",
      "metadata": {
        "colab": {
          "base_uri": "https://localhost:8080/",
          "height": 36
        },
        "id": "bBHh9ZgqEJnm",
        "outputId": "8ff6089b-d2a5-4537-86a7-4b45ada2b104"
      },
      "source": [
        "sentences['sentence'][0]"
      ],
      "execution_count": 21,
      "outputs": [
        {
          "output_type": "execute_result",
          "data": {
            "application/vnd.google.colaboratory.intrinsic+json": {
              "type": "string"
            },
            "text/plain": [
              "\"The Rock is destined to be the 21st Century 's new `` Conan '' and that he 's going to make a splash even greater than Arnold Schwarzenegger , Jean-Claud Van Damme or Steven Segal .\""
            ]
          },
          "metadata": {
            "tags": []
          },
          "execution_count": 21
        }
      ]
    },
    {
      "cell_type": "code",
      "metadata": {
        "id": "nO3UAd0lELlD"
      },
      "source": [
        "example = [data.Example.fromlist([sentences['sentence'][i],sentences.label[i]], fields) for i in range(sentences.shape[0])] \n",
        "pyDataset = data.Dataset(example, fields)"
      ],
      "execution_count": 22,
      "outputs": []
    },
    {
      "cell_type": "code",
      "metadata": {
        "id": "zAvsO2-5E7tS"
      },
      "source": [
        "import random \n",
        "# Manual Seed\n",
        "SEED = 123\n",
        "torch.manual_seed(SEED)\n",
        "\n",
        "(train, valid) = pyDataset.split(split_ratio=[0.7, 0.3], random_state=random.seed(SEED))"
      ],
      "execution_count": 24,
      "outputs": []
    },
    {
      "cell_type": "code",
      "metadata": {
        "colab": {
          "base_uri": "https://localhost:8080/"
        },
        "id": "Y0K_t30AE_eI",
        "outputId": "026e5cf8-ae09-45f9-9428-a66261721778"
      },
      "source": [
        "MAX_VOCAB_SIZE = 25_000\n",
        "ReviewText.build_vocab(train, max_size = MAX_VOCAB_SIZE, vectors = \"glove.6B.100d\")\n",
        "Label.build_vocab(train)"
      ],
      "execution_count": 25,
      "outputs": [
        {
          "output_type": "stream",
          "text": [
            ".vector_cache/glove.6B.zip: 862MB [02:40, 5.36MB/s]                           \n",
            "100%|█████████▉| 398031/400000 [00:14<00:00, 26238.11it/s]"
          ],
          "name": "stderr"
        }
      ]
    },
    {
      "cell_type": "code",
      "metadata": {
        "colab": {
          "base_uri": "https://localhost:8080/"
        },
        "id": "a1fFv-HFFLc_",
        "outputId": "1f2d9978-66a5-4c28-be6f-ec04743b18c5"
      },
      "source": [
        "print('Size of input vocab : ', len(ReviewText.vocab))\n",
        "print('Size of label vocab : ', len(Label.vocab))\n",
        "print('Top 10 words appreared repeatedly :', list(ReviewText.vocab.freqs.most_common(10)))\n",
        "print('Labels : ', Label.vocab.stoi)"
      ],
      "execution_count": 26,
      "outputs": [
        {
          "output_type": "stream",
          "text": [
            "Size of input vocab :  16417\n",
            "Size of label vocab :  5\n",
            "Top 10 words appreared repeatedly : [('.', 7446), (',', 6570), ('the', 5579), ('and', 4085), ('a', 4013), ('of', 4010), ('to', 2800), ('-', 2555), ('is', 2310), (\"'s\", 2279)]\n",
            "Labels :  defaultdict(None, {1: 0, 3: 1, 2: 2, 4: 3, 0: 4})\n"
          ],
          "name": "stdout"
        }
      ]
    },
    {
      "cell_type": "code",
      "metadata": {
        "id": "7A-iXQ1qFTj8"
      },
      "source": [
        "device = torch.device(\"cuda\" if torch.cuda.is_available() else \"cpu\")"
      ],
      "execution_count": 27,
      "outputs": []
    },
    {
      "cell_type": "code",
      "metadata": {
        "id": "VmpqeBpeFVxI"
      },
      "source": [
        "train_iterator, valid_iterator = data.BucketIterator.splits((train, valid), batch_size = 32, \n",
        "                                                            sort_key = lambda x: len(x.reviewText),\n",
        "                                                            sort_within_batch=True, \n",
        "                                                            device = device)"
      ],
      "execution_count": 29,
      "outputs": []
    },
    {
      "cell_type": "code",
      "metadata": {
        "id": "RlXsSIjTFY5N"
      },
      "source": [
        "import torch.nn as nn\n",
        "\n",
        "class RNN(nn.Module):\n",
        "    def __init__(self, vocab_size, embedding_dim, hidden_dim, output_dim, n_layers, \n",
        "                 bidirectional, dropout, pad_idx):\n",
        "        \n",
        "        super().__init__()\n",
        "        \n",
        "        self.embedding = nn.Embedding(vocab_size, embedding_dim, padding_idx = pad_idx)\n",
        "        \n",
        "        self.rnn = nn.LSTM(embedding_dim, \n",
        "                           hidden_dim, \n",
        "                           num_layers=n_layers, \n",
        "                           bidirectional=bidirectional, \n",
        "                           dropout=dropout)\n",
        "        \n",
        "        self.fc = nn.Linear(hidden_dim * 2, 64)\n",
        "\n",
        "        self.dropout = nn.Dropout(dropout)\n",
        "        \n",
        "        self.fc2 = nn.Linear(64, 32)\n",
        "\n",
        "        self.fc3 = nn.Linear(32, output_dim)\n",
        "        \n",
        "        \n",
        "        \n",
        "    def forward(self, text, text_lengths):\n",
        "        \n",
        "        #text = [sent len, batch size]\n",
        "        \n",
        "        embedded = self.dropout(self.embedding(text))\n",
        "        \n",
        "        #embedded = [sent len, batch size, emb dim]\n",
        "        \n",
        "        #pack sequence\n",
        "        # lengths need to be on CPU!\n",
        "        packed_embedded = nn.utils.rnn.pack_padded_sequence(embedded, text_lengths.to('cpu'), batch_first=True)\n",
        "        \n",
        "        packed_output, (hidden, cell) = self.rnn(packed_embedded)\n",
        "        \n",
        "        #unpack sequence\n",
        "        output, output_lengths = nn.utils.rnn.pad_packed_sequence(packed_output)\n",
        "\n",
        "        #output = [sent len, batch size, hid dim * num directions]\n",
        "        #output over padding tokens are zero tensors\n",
        "        \n",
        "        #hidden = [num layers * num directions, batch size, hid dim]\n",
        "        #cell = [num layers * num directions, batch size, hid dim]\n",
        "        \n",
        "        #concat the final forward (hidden[-2,:,:]) and backward (hidden[-1,:,:]) hidden layers\n",
        "        #and apply dropout\n",
        "        \n",
        "        hidden = self.dropout(torch.cat((hidden[-2,:,:], hidden[-1,:,:]), dim = 1))\n",
        "                \n",
        "        #hidden = [batch size, hid dim * num directions]\n",
        "        out = self.fc(hidden)\n",
        "        \n",
        "        out = self.fc2(out)\n",
        "            \n",
        "        return self.fc3(out)"
      ],
      "execution_count": 30,
      "outputs": []
    },
    {
      "cell_type": "code",
      "metadata": {
        "id": "zjKRuWr6FjKs"
      },
      "source": [
        "INPUT_DIM = len(ReviewText.vocab)\n",
        "EMBEDDING_DIM = 100\n",
        "HIDDEN_DIM = 128\n",
        "OUTPUT_DIM = 5\n",
        "N_LAYERS = 2\n",
        "BIDIRECTIONAL = True\n",
        "DROPOUT = 0.5\n",
        "PAD_IDX = ReviewText.vocab.stoi[ReviewText.pad_token]\n",
        "\n",
        "model = RNN(INPUT_DIM, \n",
        "            EMBEDDING_DIM, \n",
        "            HIDDEN_DIM, \n",
        "            OUTPUT_DIM, \n",
        "            N_LAYERS, \n",
        "            BIDIRECTIONAL, \n",
        "            DROPOUT, \n",
        "            PAD_IDX)"
      ],
      "execution_count": 31,
      "outputs": []
    },
    {
      "cell_type": "code",
      "metadata": {
        "colab": {
          "base_uri": "https://localhost:8080/"
        },
        "id": "Ni7gfFG8FlcP",
        "outputId": "4f463355-21b9-4db0-cd66-06e1e386dc89"
      },
      "source": [
        "model"
      ],
      "execution_count": 32,
      "outputs": [
        {
          "output_type": "execute_result",
          "data": {
            "text/plain": [
              "RNN(\n",
              "  (embedding): Embedding(16417, 100, padding_idx=1)\n",
              "  (rnn): LSTM(100, 128, num_layers=2, dropout=0.5, bidirectional=True)\n",
              "  (fc): Linear(in_features=256, out_features=64, bias=True)\n",
              "  (dropout): Dropout(p=0.5, inplace=False)\n",
              "  (fc2): Linear(in_features=64, out_features=32, bias=True)\n",
              "  (fc3): Linear(in_features=32, out_features=5, bias=True)\n",
              ")"
            ]
          },
          "metadata": {
            "tags": []
          },
          "execution_count": 32
        }
      ]
    },
    {
      "cell_type": "code",
      "metadata": {
        "colab": {
          "base_uri": "https://localhost:8080/"
        },
        "id": "SfKZZugNFnJm",
        "outputId": "cae962eb-8f75-420c-ca3a-9f6b08de0e95"
      },
      "source": [
        "def count_parameters(model):\n",
        "    return sum(p.numel() for p in model.parameters() if p.requires_grad)\n",
        "\n",
        "print(f'The model has {count_parameters(model):,} trainable parameters')"
      ],
      "execution_count": 34,
      "outputs": [
        {
          "output_type": "stream",
          "text": [
            "The model has 2,291,177 trainable parameters\n"
          ],
          "name": "stdout"
        }
      ]
    },
    {
      "cell_type": "code",
      "metadata": {
        "id": "cR2tKaV8Fp4M"
      },
      "source": [
        "import torch.optim as optim\n",
        "\n",
        "optimizer = optim.Adam(model.parameters())"
      ],
      "execution_count": 35,
      "outputs": []
    },
    {
      "cell_type": "code",
      "metadata": {
        "id": "P4r4IfpQF7Gv"
      },
      "source": [
        "criterion = nn.CrossEntropyLoss()\n",
        "\n",
        "model = model.to(device)\n",
        "criterion = criterion.to(device)"
      ],
      "execution_count": 36,
      "outputs": []
    },
    {
      "cell_type": "code",
      "metadata": {
        "id": "TSMZ3fLXGMEg"
      },
      "source": [
        "# Function to get number of correct classifications\n",
        "def get_correct(preds, labels):\n",
        "  return (preds.argmax(dim=1).eq(labels).sum()) / len(preds)"
      ],
      "execution_count": 37,
      "outputs": []
    },
    {
      "cell_type": "code",
      "metadata": {
        "colab": {
          "base_uri": "https://localhost:8080/"
        },
        "id": "G-dO72KoGNfs",
        "outputId": "f342f809-b446-4510-b9ed-790ebf20b3d9"
      },
      "source": [
        "Label.vocab.stoi"
      ],
      "execution_count": 38,
      "outputs": [
        {
          "output_type": "execute_result",
          "data": {
            "text/plain": [
              "defaultdict(None, {0: 4, 1: 0, 2: 2, 3: 1, 4: 3})"
            ]
          },
          "metadata": {
            "tags": []
          },
          "execution_count": 38
        }
      ]
    },
    {
      "cell_type": "code",
      "metadata": {
        "id": "vxYexxhCGQfn"
      },
      "source": [
        "def categorical_accuracy(preds, y):\n",
        "    \"\"\"\n",
        "    Returns accuracy per batch, i.e. if you get 8/10 right, this returns 0.8, NOT 8\n",
        "    \"\"\"\n",
        "    top_pred = preds.argmax(1, keepdim = True)\n",
        "    correct = top_pred.eq(y.view_as(top_pred)).sum()\n",
        "    acc = correct.float() / y.shape[0]\n",
        "    return acc"
      ],
      "execution_count": 39,
      "outputs": []
    },
    {
      "cell_type": "code",
      "metadata": {
        "id": "DbeRXozaGSS-"
      },
      "source": [
        "def train(model, iterator, optimizer, criterion):\n",
        "    \n",
        "    epoch_loss = 0\n",
        "    epoch_acc = 0\n",
        "    \n",
        "    model.train()\n",
        "    \n",
        "    for batch in iterator:\n",
        "        \n",
        "        optimizer.zero_grad()\n",
        "        \n",
        "        # retrieve text and no. of words\n",
        "        text, text_length = batch.reviewText \n",
        "\n",
        "        predictions = model(text, text_length).squeeze(1)\n",
        "        \n",
        "        loss = criterion(predictions, batch.label)\n",
        "        \n",
        "        acc = categorical_accuracy(predictions, batch.label)\n",
        "        \n",
        "        loss.backward()\n",
        "        \n",
        "        optimizer.step()\n",
        "        \n",
        "        epoch_loss += loss.item()\n",
        "        epoch_acc += acc.item()\n",
        "        \n",
        "    return epoch_loss / len(iterator), epoch_acc / len(iterator)"
      ],
      "execution_count": 40,
      "outputs": []
    },
    {
      "cell_type": "code",
      "metadata": {
        "colab": {
          "base_uri": "https://localhost:8080/"
        },
        "id": "yp17A-pzGz8Y",
        "outputId": "a7ce930e-8170-47af-d3df-d06c34ca7e5b"
      },
      "source": [
        "print((next(iter(train_iterator)).label)) # batch.label\n",
        "print((next(iter(train_iterator)).reviewText)[1]) # length_text\n",
        "# print((next(iter(train_iterator)).reviewText)[0]) # text\n",
        "\n",
        "print('length label:', len(next(iter(train_iterator)).label))\n",
        "print('length label:', len((next(iter(train_iterator)).reviewText)[1]))"
      ],
      "execution_count": 41,
      "outputs": [
        {
          "output_type": "stream",
          "text": [
            "tensor([0, 1, 1, 2, 2, 1, 2, 3, 0, 1, 3, 0, 0, 2, 0, 2, 4, 1, 4, 1, 2, 0, 3, 0,\n",
            "        4, 3, 4, 0, 2, 3, 2, 1], device='cuda:0')\n",
            "tensor([25, 25, 25, 25, 25, 25, 25, 25, 25, 25, 25, 25, 25, 25, 25, 25, 25, 25,\n",
            "        25, 25, 25, 25, 25, 25, 25, 25, 25, 25, 25, 25, 25, 24],\n",
            "       device='cuda:0')\n",
            "length label: 32\n",
            "length label: 32\n"
          ],
          "name": "stdout"
        }
      ]
    },
    {
      "cell_type": "code",
      "metadata": {
        "id": "KC5VvyH5G3WR"
      },
      "source": [
        "def evaluate(model, iterator, criterion):\n",
        "    \n",
        "    epoch_loss = 0\n",
        "    epoch_acc = 0\n",
        "    \n",
        "    model.eval()\n",
        "    \n",
        "    with torch.no_grad():\n",
        "    \n",
        "        for batch in iterator:\n",
        "\n",
        "            # retrieve text and no. of words\n",
        "            text, text_length = batch.reviewText \n",
        "\n",
        "            predictions = model(text, text_length).squeeze(1)\n",
        "            \n",
        "            loss = criterion(predictions, batch.label)\n",
        "            \n",
        "            acc = categorical_accuracy(predictions, batch.label)\n",
        "\n",
        "            epoch_loss += loss.item()\n",
        "            epoch_acc += acc.item()\n",
        "        \n",
        "    return epoch_loss / len(iterator), epoch_acc / len( iterator)"
      ],
      "execution_count": 42,
      "outputs": []
    },
    {
      "cell_type": "code",
      "metadata": {
        "id": "Eh09GyTsG71A"
      },
      "source": [
        "import time\n",
        "\n",
        "def epoch_time(start_time, end_time):\n",
        "    elapsed_time = end_time - start_time\n",
        "    elapsed_mins = int(elapsed_time / 60)\n",
        "    elapsed_secs = int(elapsed_time - (elapsed_mins * 60))\n",
        "    return elapsed_mins, elapsed_secs"
      ],
      "execution_count": 43,
      "outputs": []
    },
    {
      "cell_type": "code",
      "metadata": {
        "colab": {
          "base_uri": "https://localhost:8080/"
        },
        "id": "MbaTxa-DG_Ia",
        "outputId": "2e8f8224-09ab-457c-a2a3-c8c14a374279"
      },
      "source": [
        "N_EPOCHS = 55\n",
        "\n",
        "best_valid_loss = float('inf')\n",
        "\n",
        "for epoch in range(N_EPOCHS):\n",
        "\n",
        "    start_time = time.time()\n",
        "    \n",
        "    train_loss, train_acc = train(model, train_iterator, optimizer, criterion)\n",
        "    valid_loss, valid_acc = evaluate(model, valid_iterator, criterion)\n",
        "    \n",
        "    end_time = time.time()\n",
        "\n",
        "    epoch_mins, epoch_secs = epoch_time(start_time, end_time)\n",
        "    \n",
        "    if valid_loss < best_valid_loss:\n",
        "        best_valid_loss = valid_loss\n",
        "        torch.save(model.state_dict(), 'tut5-model.pt')\n",
        "    \n",
        "    print(f'Epoch: {epoch+1:02} | Epoch Time: {epoch_mins}m {epoch_secs}s')\n",
        "    print(f'\\tTrain Loss: {train_loss:.3f} | Train Acc: {train_acc*100:.2f}%')\n",
        "    print(f'\\t Val. Loss: {valid_loss:.3f} |  Val. Acc: {valid_acc*100:.2f}%')"
      ],
      "execution_count": 45,
      "outputs": [
        {
          "output_type": "stream",
          "text": [
            "Epoch: 01 | Epoch Time: 0m 2s\n",
            "\tTrain Loss: 0.911 | Train Acc: 63.34%\n",
            "\t Val. Loss: 1.865 |  Val. Acc: 38.28%\n",
            "Epoch: 02 | Epoch Time: 0m 2s\n",
            "\tTrain Loss: 0.886 | Train Acc: 64.40%\n",
            "\t Val. Loss: 1.811 |  Val. Acc: 38.87%\n",
            "Epoch: 03 | Epoch Time: 0m 2s\n",
            "\tTrain Loss: 0.858 | Train Acc: 65.45%\n",
            "\t Val. Loss: 1.838 |  Val. Acc: 38.92%\n",
            "Epoch: 04 | Epoch Time: 0m 2s\n",
            "\tTrain Loss: 0.821 | Train Acc: 66.80%\n",
            "\t Val. Loss: 1.888 |  Val. Acc: 38.29%\n",
            "Epoch: 05 | Epoch Time: 0m 2s\n",
            "\tTrain Loss: 0.797 | Train Acc: 68.18%\n",
            "\t Val. Loss: 1.831 |  Val. Acc: 38.64%\n",
            "Epoch: 06 | Epoch Time: 0m 2s\n",
            "\tTrain Loss: 0.779 | Train Acc: 69.61%\n",
            "\t Val. Loss: 1.899 |  Val. Acc: 38.41%\n",
            "Epoch: 07 | Epoch Time: 0m 2s\n",
            "\tTrain Loss: 0.744 | Train Acc: 70.56%\n",
            "\t Val. Loss: 2.028 |  Val. Acc: 37.88%\n",
            "Epoch: 08 | Epoch Time: 0m 2s\n",
            "\tTrain Loss: 0.718 | Train Acc: 71.75%\n",
            "\t Val. Loss: 2.099 |  Val. Acc: 37.99%\n",
            "Epoch: 09 | Epoch Time: 0m 2s\n",
            "\tTrain Loss: 0.700 | Train Acc: 72.43%\n",
            "\t Val. Loss: 2.000 |  Val. Acc: 38.18%\n",
            "Epoch: 10 | Epoch Time: 0m 2s\n",
            "\tTrain Loss: 0.685 | Train Acc: 72.85%\n",
            "\t Val. Loss: 2.055 |  Val. Acc: 38.24%\n",
            "Epoch: 11 | Epoch Time: 0m 2s\n",
            "\tTrain Loss: 0.645 | Train Acc: 75.24%\n",
            "\t Val. Loss: 2.168 |  Val. Acc: 39.43%\n",
            "Epoch: 12 | Epoch Time: 0m 2s\n",
            "\tTrain Loss: 0.636 | Train Acc: 75.23%\n",
            "\t Val. Loss: 2.111 |  Val. Acc: 37.79%\n",
            "Epoch: 13 | Epoch Time: 0m 2s\n",
            "\tTrain Loss: 0.625 | Train Acc: 75.52%\n",
            "\t Val. Loss: 2.354 |  Val. Acc: 38.43%\n",
            "Epoch: 14 | Epoch Time: 0m 2s\n",
            "\tTrain Loss: 0.618 | Train Acc: 76.56%\n",
            "\t Val. Loss: 2.136 |  Val. Acc: 39.38%\n",
            "Epoch: 15 | Epoch Time: 0m 2s\n",
            "\tTrain Loss: 0.595 | Train Acc: 76.87%\n",
            "\t Val. Loss: 2.261 |  Val. Acc: 37.99%\n",
            "Epoch: 16 | Epoch Time: 0m 2s\n",
            "\tTrain Loss: 0.562 | Train Acc: 78.08%\n",
            "\t Val. Loss: 2.304 |  Val. Acc: 38.04%\n",
            "Epoch: 17 | Epoch Time: 0m 2s\n",
            "\tTrain Loss: 0.554 | Train Acc: 78.41%\n",
            "\t Val. Loss: 2.349 |  Val. Acc: 39.00%\n",
            "Epoch: 18 | Epoch Time: 0m 2s\n",
            "\tTrain Loss: 0.539 | Train Acc: 79.38%\n",
            "\t Val. Loss: 2.396 |  Val. Acc: 38.12%\n",
            "Epoch: 19 | Epoch Time: 0m 2s\n",
            "\tTrain Loss: 0.518 | Train Acc: 80.12%\n",
            "\t Val. Loss: 2.412 |  Val. Acc: 38.32%\n",
            "Epoch: 20 | Epoch Time: 0m 2s\n",
            "\tTrain Loss: 0.511 | Train Acc: 80.53%\n",
            "\t Val. Loss: 2.428 |  Val. Acc: 39.32%\n",
            "Epoch: 21 | Epoch Time: 0m 2s\n",
            "\tTrain Loss: 0.498 | Train Acc: 81.28%\n",
            "\t Val. Loss: 2.571 |  Val. Acc: 39.70%\n",
            "Epoch: 22 | Epoch Time: 0m 2s\n",
            "\tTrain Loss: 0.477 | Train Acc: 81.66%\n",
            "\t Val. Loss: 2.576 |  Val. Acc: 39.23%\n",
            "Epoch: 23 | Epoch Time: 0m 2s\n",
            "\tTrain Loss: 0.466 | Train Acc: 82.49%\n",
            "\t Val. Loss: 2.602 |  Val. Acc: 39.14%\n",
            "Epoch: 24 | Epoch Time: 0m 2s\n",
            "\tTrain Loss: 0.439 | Train Acc: 83.70%\n",
            "\t Val. Loss: 2.516 |  Val. Acc: 38.94%\n",
            "Epoch: 25 | Epoch Time: 0m 2s\n",
            "\tTrain Loss: 0.444 | Train Acc: 83.34%\n",
            "\t Val. Loss: 2.589 |  Val. Acc: 38.53%\n",
            "Epoch: 26 | Epoch Time: 0m 2s\n",
            "\tTrain Loss: 0.434 | Train Acc: 83.85%\n",
            "\t Val. Loss: 2.638 |  Val. Acc: 38.92%\n",
            "Epoch: 27 | Epoch Time: 0m 2s\n",
            "\tTrain Loss: 0.426 | Train Acc: 83.64%\n",
            "\t Val. Loss: 2.690 |  Val. Acc: 38.13%\n",
            "Epoch: 28 | Epoch Time: 0m 2s\n",
            "\tTrain Loss: 0.418 | Train Acc: 84.51%\n",
            "\t Val. Loss: 2.628 |  Val. Acc: 38.16%\n",
            "Epoch: 29 | Epoch Time: 0m 2s\n",
            "\tTrain Loss: 0.384 | Train Acc: 85.84%\n",
            "\t Val. Loss: 2.891 |  Val. Acc: 38.94%\n",
            "Epoch: 30 | Epoch Time: 0m 2s\n",
            "\tTrain Loss: 0.408 | Train Acc: 84.19%\n",
            "\t Val. Loss: 2.709 |  Val. Acc: 37.66%\n",
            "Epoch: 31 | Epoch Time: 0m 2s\n",
            "\tTrain Loss: 0.377 | Train Acc: 85.84%\n",
            "\t Val. Loss: 2.896 |  Val. Acc: 37.65%\n",
            "Epoch: 32 | Epoch Time: 0m 2s\n",
            "\tTrain Loss: 0.383 | Train Acc: 86.09%\n",
            "\t Val. Loss: 2.760 |  Val. Acc: 38.83%\n",
            "Epoch: 33 | Epoch Time: 0m 2s\n",
            "\tTrain Loss: 0.374 | Train Acc: 86.14%\n",
            "\t Val. Loss: 2.803 |  Val. Acc: 38.53%\n",
            "Epoch: 34 | Epoch Time: 0m 2s\n",
            "\tTrain Loss: 0.366 | Train Acc: 86.43%\n",
            "\t Val. Loss: 2.935 |  Val. Acc: 38.18%\n",
            "Epoch: 35 | Epoch Time: 0m 2s\n",
            "\tTrain Loss: 0.347 | Train Acc: 87.13%\n",
            "\t Val. Loss: 2.832 |  Val. Acc: 37.93%\n",
            "Epoch: 36 | Epoch Time: 0m 2s\n",
            "\tTrain Loss: 0.345 | Train Acc: 87.15%\n",
            "\t Val. Loss: 3.121 |  Val. Acc: 38.78%\n",
            "Epoch: 37 | Epoch Time: 0m 2s\n",
            "\tTrain Loss: 0.334 | Train Acc: 87.94%\n",
            "\t Val. Loss: 2.907 |  Val. Acc: 37.74%\n",
            "Epoch: 38 | Epoch Time: 0m 2s\n",
            "\tTrain Loss: 0.329 | Train Acc: 87.76%\n",
            "\t Val. Loss: 3.051 |  Val. Acc: 38.16%\n",
            "Epoch: 39 | Epoch Time: 0m 2s\n",
            "\tTrain Loss: 0.326 | Train Acc: 87.58%\n",
            "\t Val. Loss: 3.018 |  Val. Acc: 38.34%\n",
            "Epoch: 40 | Epoch Time: 0m 2s\n",
            "\tTrain Loss: 0.300 | Train Acc: 89.17%\n",
            "\t Val. Loss: 3.144 |  Val. Acc: 38.25%\n",
            "Epoch: 41 | Epoch Time: 0m 2s\n",
            "\tTrain Loss: 0.308 | Train Acc: 88.57%\n",
            "\t Val. Loss: 3.003 |  Val. Acc: 38.26%\n",
            "Epoch: 42 | Epoch Time: 0m 2s\n",
            "\tTrain Loss: 0.295 | Train Acc: 88.58%\n",
            "\t Val. Loss: 3.067 |  Val. Acc: 38.86%\n",
            "Epoch: 43 | Epoch Time: 0m 2s\n",
            "\tTrain Loss: 0.306 | Train Acc: 88.69%\n",
            "\t Val. Loss: 2.902 |  Val. Acc: 38.58%\n",
            "Epoch: 44 | Epoch Time: 0m 2s\n",
            "\tTrain Loss: 0.299 | Train Acc: 89.38%\n",
            "\t Val. Loss: 3.045 |  Val. Acc: 38.41%\n",
            "Epoch: 45 | Epoch Time: 0m 2s\n",
            "\tTrain Loss: 0.294 | Train Acc: 89.16%\n",
            "\t Val. Loss: 3.191 |  Val. Acc: 38.60%\n",
            "Epoch: 46 | Epoch Time: 0m 2s\n",
            "\tTrain Loss: 0.267 | Train Acc: 90.23%\n",
            "\t Val. Loss: 3.304 |  Val. Acc: 37.00%\n",
            "Epoch: 47 | Epoch Time: 0m 2s\n",
            "\tTrain Loss: 0.283 | Train Acc: 89.89%\n",
            "\t Val. Loss: 3.300 |  Val. Acc: 37.42%\n",
            "Epoch: 48 | Epoch Time: 0m 2s\n",
            "\tTrain Loss: 0.273 | Train Acc: 90.40%\n",
            "\t Val. Loss: 3.261 |  Val. Acc: 38.37%\n",
            "Epoch: 49 | Epoch Time: 0m 2s\n",
            "\tTrain Loss: 0.263 | Train Acc: 90.70%\n",
            "\t Val. Loss: 3.278 |  Val. Acc: 37.78%\n",
            "Epoch: 50 | Epoch Time: 0m 2s\n",
            "\tTrain Loss: 0.271 | Train Acc: 90.49%\n",
            "\t Val. Loss: 3.109 |  Val. Acc: 37.72%\n",
            "Epoch: 51 | Epoch Time: 0m 2s\n",
            "\tTrain Loss: 0.264 | Train Acc: 90.68%\n",
            "\t Val. Loss: 3.260 |  Val. Acc: 38.16%\n",
            "Epoch: 52 | Epoch Time: 0m 2s\n",
            "\tTrain Loss: 0.246 | Train Acc: 90.84%\n",
            "\t Val. Loss: 3.486 |  Val. Acc: 38.81%\n",
            "Epoch: 53 | Epoch Time: 0m 2s\n",
            "\tTrain Loss: 0.241 | Train Acc: 91.51%\n",
            "\t Val. Loss: 3.372 |  Val. Acc: 39.37%\n",
            "Epoch: 54 | Epoch Time: 0m 2s\n",
            "\tTrain Loss: 0.242 | Train Acc: 91.38%\n",
            "\t Val. Loss: 3.320 |  Val. Acc: 38.89%\n",
            "Epoch: 55 | Epoch Time: 0m 2s\n",
            "\tTrain Loss: 0.243 | Train Acc: 91.35%\n",
            "\t Val. Loss: 3.368 |  Val. Acc: 39.18%\n"
          ],
          "name": "stdout"
        }
      ]
    },
    {
      "cell_type": "code",
      "metadata": {
        "id": "SGHTiwKxHDUJ"
      },
      "source": [
        "import spacy\n",
        "nlp = spacy.load('en_core_web_sm')\n",
        "\n",
        "def predict_class(model, sentence):\n",
        "    model.eval()\n",
        "    tokenized = [tok.text for tok in nlp.tokenizer(sentence)]\n",
        "    indexed = [ReviewText.vocab.stoi[t] for t in tokenized]\n",
        "    length = [len(indexed)]\n",
        "    #print(indexed)\n",
        "    tensor = torch.LongTensor(indexed).to(device)\n",
        "    tensor = tensor.unsqueeze(1).T\n",
        "    length_tensor = torch.LongTensor(length)\n",
        "    #print(length_tensor)\n",
        "    preds = model(tensor, length_tensor)\n",
        "    max_preds = preds.argmax(dim = 1)\n",
        "    return max_preds.item()"
      ],
      "execution_count": 59,
      "outputs": []
    },
    {
      "cell_type": "code",
      "metadata": {
        "colab": {
          "base_uri": "https://localhost:8080/"
        },
        "id": "i3regQP2M_b8",
        "outputId": "e02d83e2-ff24-45b3-f727-3578390cf3c3"
      },
      "source": [
        "for j in range(10):\n",
        "  i = random.randint(1, 1000)\n",
        "  pred_class = predict_class(model, sentences.sentence[i])\n",
        "  print('Sentence : ', sentences.sentence[i])\n",
        "  print('Actual Class   : ', sentences.label[i])\n",
        "\n",
        "  print('Predicted class: ', Label.vocab.itos[pred_class])"
      ],
      "execution_count": 64,
      "outputs": [
        {
          "output_type": "stream",
          "text": [
            "Sentence :  The film starts out as competent but unremarkable ... and gradually grows into something of considerable power .\n",
            "Actual Class   :  3\n",
            "Predicted class:  3\n",
            "Sentence :  Still pretentious and filled with subtext , but entertaining enough at ` face value ' to recommend to anyone looking for something different .\n",
            "Actual Class   :  3\n",
            "Predicted class:  3\n",
            "Sentence :  It wo n't rock any boats but is solid meat-and-potatoes filmmaking .\n",
            "Actual Class   :  2\n",
            "Predicted class:  2\n",
            "Sentence :  What makes the movie a comedy is the way it avoids the more serious emotions involved .\n",
            "Actual Class   :  3\n",
            "Predicted class:  3\n",
            "Sentence :  The movie has a soft , percolating magic , a deadpan suspense .\n",
            "Actual Class   :  4\n",
            "Predicted class:  4\n",
            "Sentence :  As if to prove a female director can make a movie with no soft edges , Kathryn Bigelow offers no sugar-coating or interludes of lightness .\n",
            "Actual Class   :  3\n",
            "Predicted class:  3\n",
            "Sentence :  What could have become just another cautionary fable is allowed to play out as a clever , charming tale -- as pleasantly in its own way as its self-dramatizing characters .\n",
            "Actual Class   :  3\n",
            "Predicted class:  3\n",
            "Sentence :  Ms. Fulford-Wierzbicki is almost spooky in her sulky , calculating Lolita turn .\n",
            "Actual Class   :  3\n",
            "Predicted class:  3\n",
            "Sentence :  The 3D images only enhance the film 's otherworldly quality , giving it a strange combo of you-are-there closeness with the disorienting unreality of the seemingly broken-down fourth wall of the movie screen .\n",
            "Actual Class   :  4\n",
            "Predicted class:  4\n",
            "Sentence :  This clever caper movie has twists worthy of David Mamet and is enormous fun for thinking audiences .\n",
            "Actual Class   :  4\n",
            "Predicted class:  4\n"
          ],
          "name": "stdout"
        }
      ]
    },
    {
      "cell_type": "code",
      "metadata": {
        "id": "_5lvC_BtIljj"
      },
      "source": [
        ""
      ],
      "execution_count": null,
      "outputs": []
    }
  ]
}