{
  "nbformat": 4,
  "nbformat_minor": 0,
  "metadata": {
    "colab": {
      "name": "20210605EncoderDecoder.ipynb",
      "provenance": [],
      "collapsed_sections": []
    },
    "kernelspec": {
      "name": "python3",
      "display_name": "Python 3"
    },
    "language_info": {
      "name": "python"
    }
  },
  "cells": [
    {
      "cell_type": "markdown",
      "metadata": {
        "id": "dgkpAv_VDx1H"
      },
      "source": [
        "## Upload the dataset"
      ]
    },
    {
      "cell_type": "code",
      "metadata": {
        "colab": {
          "resources": {
            "http://localhost:8080/nbextensions/google.colab/files.js": {
              "data": "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",
              "ok": true,
              "headers": [
                [
                  "content-type",
                  "application/javascript"
                ]
              ],
              "status": 200,
              "status_text": "OK"
            }
          },
          "base_uri": "https://localhost:8080/",
          "height": 75
        },
        "id": "QuGhFr5H1YF9",
        "outputId": "9c5070c5-7511-4b85-a23c-490e9d6e2ce0"
      },
      "source": [
        "from google.colab import files\n",
        "uploaded = files.upload()"
      ],
      "execution_count": 1,
      "outputs": [
        {
          "output_type": "display_data",
          "data": {
            "text/html": [
              "\n",
              "     <input type=\"file\" id=\"files-e3d73990-e4c1-4559-8bdc-d58bf804129e\" name=\"files[]\" multiple disabled\n",
              "        style=\"border:none\" />\n",
              "     <output id=\"result-e3d73990-e4c1-4559-8bdc-d58bf804129e\">\n",
              "      Upload widget is only available when the cell has been executed in the\n",
              "      current browser session. Please rerun this cell to enable.\n",
              "      </output>\n",
              "      <script src=\"/nbextensions/google.colab/files.js\"></script> "
            ],
            "text/plain": [
              "<IPython.core.display.HTML object>"
            ]
          },
          "metadata": {
            "tags": []
          }
        },
        {
          "output_type": "stream",
          "text": [
            "Saving tweets.csv to tweets.csv\n"
          ],
          "name": "stdout"
        }
      ]
    },
    {
      "cell_type": "markdown",
      "metadata": {
        "id": "gaCiKWz4D46o"
      },
      "source": [
        "## Read the file and inspect"
      ]
    },
    {
      "cell_type": "code",
      "metadata": {
        "colab": {
          "base_uri": "https://localhost:8080/",
          "height": 206
        },
        "id": "VQFbbfu21YIz",
        "outputId": "87d41787-b064-4798-92bc-ccf766cb19e4"
      },
      "source": [
        "import pandas as pd\n",
        "df = pd.read_csv('./tweets.csv')\n",
        "df.head()"
      ],
      "execution_count": 2,
      "outputs": [
        {
          "output_type": "execute_result",
          "data": {
            "text/html": [
              "<div>\n",
              "<style scoped>\n",
              "    .dataframe tbody tr th:only-of-type {\n",
              "        vertical-align: middle;\n",
              "    }\n",
              "\n",
              "    .dataframe tbody tr th {\n",
              "        vertical-align: top;\n",
              "    }\n",
              "\n",
              "    .dataframe thead th {\n",
              "        text-align: right;\n",
              "    }\n",
              "</style>\n",
              "<table border=\"1\" class=\"dataframe\">\n",
              "  <thead>\n",
              "    <tr style=\"text-align: right;\">\n",
              "      <th></th>\n",
              "      <th>tweets</th>\n",
              "      <th>labels</th>\n",
              "    </tr>\n",
              "  </thead>\n",
              "  <tbody>\n",
              "    <tr>\n",
              "      <th>0</th>\n",
              "      <td>Obama has called the GOP budget social Darwini...</td>\n",
              "      <td>1</td>\n",
              "    </tr>\n",
              "    <tr>\n",
              "      <th>1</th>\n",
              "      <td>In his teen years, Obama has been known to use...</td>\n",
              "      <td>0</td>\n",
              "    </tr>\n",
              "    <tr>\n",
              "      <th>2</th>\n",
              "      <td>IPA Congratulates President Barack Obama for L...</td>\n",
              "      <td>0</td>\n",
              "    </tr>\n",
              "    <tr>\n",
              "      <th>3</th>\n",
              "      <td>RT @Professor_Why: #WhatsRomneyHiding - his co...</td>\n",
              "      <td>0</td>\n",
              "    </tr>\n",
              "    <tr>\n",
              "      <th>4</th>\n",
              "      <td>RT @wardollarshome: Obama has approved more ta...</td>\n",
              "      <td>1</td>\n",
              "    </tr>\n",
              "  </tbody>\n",
              "</table>\n",
              "</div>"
            ],
            "text/plain": [
              "                                              tweets  labels\n",
              "0  Obama has called the GOP budget social Darwini...       1\n",
              "1  In his teen years, Obama has been known to use...       0\n",
              "2  IPA Congratulates President Barack Obama for L...       0\n",
              "3  RT @Professor_Why: #WhatsRomneyHiding - his co...       0\n",
              "4  RT @wardollarshome: Obama has approved more ta...       1"
            ]
          },
          "metadata": {
            "tags": []
          },
          "execution_count": 2
        }
      ]
    },
    {
      "cell_type": "code",
      "metadata": {
        "colab": {
          "base_uri": "https://localhost:8080/"
        },
        "id": "JfPRNqlo1YLd",
        "outputId": "ae6c7bd2-7cdc-4d16-81e1-66f53188af81"
      },
      "source": [
        "df.labels.value_counts()"
      ],
      "execution_count": 3,
      "outputs": [
        {
          "output_type": "execute_result",
          "data": {
            "text/plain": [
              "0    931\n",
              "1    352\n",
              "2     81\n",
              "Name: labels, dtype: int64"
            ]
          },
          "metadata": {
            "tags": []
          },
          "execution_count": 3
        }
      ]
    },
    {
      "cell_type": "code",
      "metadata": {
        "colab": {
          "base_uri": "https://localhost:8080/"
        },
        "id": "8xVuKxIM1YN7",
        "outputId": "617e950e-d537-4d9d-8fbc-d01093b22cf5"
      },
      "source": [
        "# Calling all GODs\n",
        "import random\n",
        "import torch, torchtext\n",
        "from torchtext.legacy import data \n",
        "\n",
        "# Manual Seed\n",
        "SEED = 123\n",
        "torch.manual_seed(SEED)"
      ],
      "execution_count": 4,
      "outputs": [
        {
          "output_type": "execute_result",
          "data": {
            "text/plain": [
              "<torch._C.Generator at 0x7f8491239a30>"
            ]
          },
          "metadata": {
            "tags": []
          },
          "execution_count": 4
        }
      ]
    },
    {
      "cell_type": "markdown",
      "metadata": {
        "id": "AWiaLnBHEKMO"
      },
      "source": [
        "## Tokenize using *Spacy* package"
      ]
    },
    {
      "cell_type": "code",
      "metadata": {
        "id": "VGiS3O7s23vR"
      },
      "source": [
        "Tweet = data.Field(sequential = True, \n",
        "                   tokenize = 'spacy', \n",
        "                   batch_first =True, \n",
        "                   include_lengths=True) # batch_first means : [batch, channel, r,g,b] : here batch is first\n",
        "\n",
        "Label = data.LabelField(tokenize ='spacy', \n",
        "                        is_target=True, \n",
        "                        batch_first =True, \n",
        "                        sequential =False)"
      ],
      "execution_count": 5,
      "outputs": []
    },
    {
      "cell_type": "code",
      "metadata": {
        "id": "SCRyVoVr23sd"
      },
      "source": [
        "fields = [('tweet', Tweet), ('label', Label)]"
      ],
      "execution_count": 6,
      "outputs": []
    },
    {
      "cell_type": "code",
      "metadata": {
        "id": "li8rC3oB23p2"
      },
      "source": [
        "example = [torchtext.legacy.data.Example.fromlist([df.tweets[i],df.labels[i]], fields) for i in range(df.shape[0])] "
      ],
      "execution_count": 7,
      "outputs": []
    },
    {
      "cell_type": "code",
      "metadata": {
        "id": "tFHxriwS23nj"
      },
      "source": [
        "twitterDataset = torchtext.legacy.data.Dataset(example, fields)"
      ],
      "execution_count": 8,
      "outputs": []
    },
    {
      "cell_type": "markdown",
      "metadata": {
        "id": "4P1IMAJXEXHl"
      },
      "source": [
        "## Split into Train and Validation dataset"
      ]
    },
    {
      "cell_type": "markdown",
      "metadata": {
        "id": "EZyJ6Eo9EhTd"
      },
      "source": [
        "Could also use stratified sampling here"
      ]
    },
    {
      "cell_type": "code",
      "metadata": {
        "id": "8QntXK0q23lH"
      },
      "source": [
        "(train, valid) = twitterDataset.split(split_ratio=[0.85, 0.15], random_state=random.seed(SEED))"
      ],
      "execution_count": 9,
      "outputs": []
    },
    {
      "cell_type": "code",
      "metadata": {
        "colab": {
          "base_uri": "https://localhost:8080/"
        },
        "id": "9mL_sNTr23ig",
        "outputId": "4903d287-291f-4e7f-d972-50031da7f290"
      },
      "source": [
        "(len(train), len(valid))"
      ],
      "execution_count": 10,
      "outputs": [
        {
          "output_type": "execute_result",
          "data": {
            "text/plain": [
              "(1159, 205)"
            ]
          },
          "metadata": {
            "tags": []
          },
          "execution_count": 10
        }
      ]
    },
    {
      "cell_type": "code",
      "metadata": {
        "colab": {
          "base_uri": "https://localhost:8080/"
        },
        "id": "lCFDEqZR23fZ",
        "outputId": "6d273b08-8d63-4447-d0a6-6ec1b5d2483f"
      },
      "source": [
        "vars(train.examples[5]) # returning dict attributes"
      ],
      "execution_count": 11,
      "outputs": [
        {
          "output_type": "execute_result",
          "data": {
            "text/plain": [
              "{'label': 0,\n",
              " 'tweet': ['@Harry_Styles',\n",
              "  'Barack',\n",
              "  'obama',\n",
              "  'should',\n",
              "  'hide',\n",
              "  'his',\n",
              "  'kids',\n",
              "  'and',\n",
              "  'hide',\n",
              "  'his',\n",
              "  'wife']}"
            ]
          },
          "metadata": {
            "tags": []
          },
          "execution_count": 11
        }
      ]
    },
    {
      "cell_type": "code",
      "metadata": {
        "id": "QSdz0ijt23cz"
      },
      "source": [
        "Tweet.build_vocab(train)\n",
        "Label.build_vocab(train)"
      ],
      "execution_count": 12,
      "outputs": []
    },
    {
      "cell_type": "code",
      "metadata": {
        "colab": {
          "base_uri": "https://localhost:8080/"
        },
        "id": "4WC2Zxiy23a_",
        "outputId": "993c137e-0124-40eb-ba2f-a344d326bb2a"
      },
      "source": [
        "print('Size of input vocab : ', len(Tweet.vocab))\n",
        "print('Size of label vocab : ', len(Label.vocab))\n",
        "print('Top 10 words appreared repeatedly :', list(Tweet.vocab.freqs.most_common(10)))\n",
        "print('Labels : ', Label.vocab.stoi)"
      ],
      "execution_count": 13,
      "outputs": [
        {
          "output_type": "stream",
          "text": [
            "Size of input vocab :  4652\n",
            "Size of label vocab :  3\n",
            "Top 10 words appreared repeatedly : [('Obama', 1062), (':', 797), ('#', 787), ('.', 748), (',', 601), ('\"', 573), ('the', 540), ('RT', 513), ('?', 415), ('to', 401)]\n",
            "Labels :  defaultdict(None, {0: 0, 1: 1, 2: 2})\n"
          ],
          "name": "stdout"
        }
      ]
    },
    {
      "cell_type": "code",
      "metadata": {
        "id": "VR8Ilzwq23YW"
      },
      "source": [
        "device = torch.device(\"cuda\" if torch.cuda.is_available() else \"cpu\")"
      ],
      "execution_count": 14,
      "outputs": []
    },
    {
      "cell_type": "markdown",
      "metadata": {
        "id": "lXoCRVHeEwul"
      },
      "source": [
        "## Create an Iterator, used to fetch a batch of records at once"
      ]
    },
    {
      "cell_type": "code",
      "metadata": {
        "id": "FdPlKPXK23S5"
      },
      "source": [
        "train_iterator, valid_iterator = torchtext.legacy.data.BucketIterator.splits((train, valid), batch_size = 32, \n",
        "                                                            sort_key = lambda x: len(x.tweet),\n",
        "                                                            sort_within_batch=True, device = device)"
      ],
      "execution_count": 15,
      "outputs": []
    },
    {
      "cell_type": "code",
      "metadata": {
        "colab": {
          "base_uri": "https://localhost:8080/"
        },
        "id": "npKk2I4X23QD",
        "outputId": "36c02dfa-cdfa-4ac0-d619-0e1fac29addc"
      },
      "source": [
        "next(iter(train_iterator))\n",
        "#len(train.examples[11].tweet)"
      ],
      "execution_count": 16,
      "outputs": [
        {
          "output_type": "execute_result",
          "data": {
            "text/plain": [
              "\n",
              "[torchtext.legacy.data.batch.Batch of size 32]\n",
              "\t[.tweet]:('[torch.LongTensor of size 32x30]', '[torch.LongTensor of size 32]')\n",
              "\t[.label]:[torch.LongTensor of size 32]"
            ]
          },
          "metadata": {
            "tags": []
          },
          "execution_count": 16
        }
      ]
    },
    {
      "cell_type": "code",
      "metadata": {
        "id": "_LLXBVFG23Nt"
      },
      "source": [
        "import os, pickle\n",
        "with open('tokenizer.pkl', 'wb') as tokens: \n",
        "    pickle.dump(Tweet.vocab.stoi, tokens)"
      ],
      "execution_count": 17,
      "outputs": []
    },
    {
      "cell_type": "markdown",
      "metadata": {
        "id": "BTRoRRMYFIiv"
      },
      "source": [
        "## Playground with sample dataset\n",
        "\n",
        "### To understand step by step encoder- decoder (LSTM, RNN), input/ outputs"
      ]
    },
    {
      "cell_type": "code",
      "metadata": {
        "colab": {
          "base_uri": "https://localhost:8080/"
        },
        "id": "yJa0oXIWiHGh",
        "outputId": "c0f4cd2d-556b-4d8b-8db1-7a3bfa5ad6dd"
      },
      "source": [
        "for batch in train_iterator:\n",
        "  tweet, tweet_lengths = batch.tweet\n",
        "  break\n",
        "\n",
        "#print('tweet:', tweet, '')\n",
        "print('tweet length: ', tweet_lengths)"
      ],
      "execution_count": 18,
      "outputs": [
        {
          "output_type": "stream",
          "text": [
            "tweet length:  tensor([16, 16, 16, 16, 16, 16, 16, 16, 16, 16, 16, 16, 15, 15, 15, 15, 15, 15,\n",
            "        15, 15, 15, 15, 15, 15, 15, 15, 15, 15, 15, 15, 15, 15])\n"
          ],
          "name": "stdout"
        }
      ]
    },
    {
      "cell_type": "code",
      "metadata": {
        "colab": {
          "base_uri": "https://localhost:8080/"
        },
        "id": "LFT301Q9jhiE",
        "outputId": "10a94685-b183-408e-bcb3-dcb462b768cc"
      },
      "source": [
        "vocab_size = len(Tweet.vocab)\n",
        "vocab_size"
      ],
      "execution_count": 19,
      "outputs": [
        {
          "output_type": "execute_result",
          "data": {
            "text/plain": [
              "4652"
            ]
          },
          "metadata": {
            "tags": []
          },
          "execution_count": 19
        }
      ]
    },
    {
      "cell_type": "code",
      "metadata": {
        "colab": {
          "base_uri": "https://localhost:8080/"
        },
        "id": "Yj8VHRaUkhy-",
        "outputId": "fceaf6b5-9062-4fba-a481-60d45d1abd96"
      },
      "source": [
        "print(tweet[2,])\n",
        "print(tweet_lengths[2,])\n",
        "print('tweet.shape : ', tweet.shape)\n",
        "print('tweet_length shape : ', tweet_lengths.shape)"
      ],
      "execution_count": 20,
      "outputs": [
        {
          "output_type": "stream",
          "text": [
            "tensor([   9,  656,    3,    7,  870,  963, 3190,    5,   64,    2, 2528, 2554,\n",
            "           3, 3779,   69,  238])\n",
            "tensor(16)\n",
            "tweet.shape :  torch.Size([32, 16])\n",
            "tweet_length shape :  torch.Size([32])\n"
          ],
          "name": "stdout"
        }
      ]
    },
    {
      "cell_type": "markdown",
      "metadata": {
        "id": "nyn3OJcRF3s9"
      },
      "source": [
        "### Sample Encoder step by step"
      ]
    },
    {
      "cell_type": "code",
      "metadata": {
        "colab": {
          "base_uri": "https://localhost:8080/"
        },
        "id": "X1y-8SdSjN_B",
        "outputId": "1cc67784-13fc-4ff8-f2f2-2563e9260c5e"
      },
      "source": [
        "import torch.nn as nn\n",
        "import torch.nn.functional as F\n",
        "\n",
        "embedding_dim = 300\n",
        "hidden_dim = 100\n",
        "\n",
        "# Encoder Sample\n",
        "embedding = nn.Embedding(vocab_size, embedding_dim)\n",
        "\n",
        "encoder = nn.LSTM(embedding_dim, \n",
        "                           hidden_dim, \n",
        "                           num_layers=1, \n",
        "                           batch_first=True\n",
        "                          )\n",
        "# Forward Pass\n",
        "embedded = embedding(tweet)\n",
        "print('embedded.shape: ', embedded.shape)\n",
        "\n",
        "packed_embedded = nn.utils.rnn.pack_padded_sequence(embedded, tweet_lengths.cpu(), batch_first=True)\n",
        "\n",
        "# ENCODER Passing through\n",
        "packed_output, (hidden, cell) = encoder(packed_embedded)\n",
        "\n",
        "# Unpack\n",
        "output, output_lengths = nn.utils.rnn.pad_packed_sequence(packed_output, batch_first=True)\n",
        "print('output shape: ', output.shape)\n",
        "\n",
        "print('hidden : ', hidden.shape)\n",
        "print('cell : ', cell.shape)\n"
      ],
      "execution_count": 21,
      "outputs": [
        {
          "output_type": "stream",
          "text": [
            "embedded.shape:  torch.Size([32, 16, 300])\n",
            "output shape:  torch.Size([32, 16, 100])\n",
            "hidden :  torch.Size([1, 32, 100])\n",
            "cell :  torch.Size([1, 32, 100])\n"
          ],
          "name": "stdout"
        }
      ]
    },
    {
      "cell_type": "code",
      "metadata": {
        "id": "_TEYOrqJP_84",
        "colab": {
          "base_uri": "https://localhost:8080/"
        },
        "outputId": "3874ed2e-6bf3-473f-a7b0-fbc61bc111bb"
      },
      "source": [
        "print(cell)\n",
        "print(hidden)"
      ],
      "execution_count": 22,
      "outputs": [
        {
          "output_type": "stream",
          "text": [
            "tensor([[[ 0.5995,  0.3513, -0.0652,  ..., -0.1756, -0.0627, -0.6227],\n",
            "         [-0.5119, -0.0560,  0.4343,  ..., -0.1676, -0.0839, -0.2324],\n",
            "         [ 0.0118,  0.0953,  0.0258,  ...,  0.0281, -0.6045,  0.4446],\n",
            "         ...,\n",
            "         [ 0.7540,  0.0751, -0.3182,  ..., -0.2279,  0.2224, -0.2980],\n",
            "         [-0.4197,  0.1607,  0.1608,  ...,  0.2872, -0.2453,  0.4741],\n",
            "         [ 0.4902,  0.3600, -0.3287,  ...,  0.0116,  0.0177, -0.6820]]],\n",
            "       grad_fn=<StackBackward>)\n",
            "tensor([[[ 0.3661,  0.1778, -0.0535,  ..., -0.1221, -0.0317, -0.3342],\n",
            "         [-0.2726, -0.0117,  0.2815,  ..., -0.0532, -0.0625, -0.0995],\n",
            "         [ 0.0049,  0.0665,  0.0214,  ...,  0.0106, -0.3701,  0.1403],\n",
            "         ...,\n",
            "         [ 0.4124,  0.0413, -0.2577,  ..., -0.1558,  0.1198, -0.1739],\n",
            "         [-0.1004,  0.1108,  0.0507,  ...,  0.1993, -0.1042,  0.2071],\n",
            "         [ 0.2052,  0.2689, -0.1969,  ...,  0.0039,  0.0130, -0.1544]]],\n",
            "       grad_fn=<StackBackward>)\n"
          ],
          "name": "stdout"
        }
      ]
    },
    {
      "cell_type": "code",
      "metadata": {
        "colab": {
          "base_uri": "https://localhost:8080/"
        },
        "id": "6PjS6ALExYYy",
        "outputId": "662708f7-5005-4ca4-e636-2bec551909bf"
      },
      "source": [
        "packed_output.data[0,]\n",
        "print('output_lengths : ', output_lengths.shape)\n",
        "\n",
        "print(output[0,0,:]) # first Batch, first sentence, first word"
      ],
      "execution_count": 23,
      "outputs": [
        {
          "output_type": "stream",
          "text": [
            "output_lengths :  torch.Size([32])\n",
            "tensor([-0.0414, -0.1430,  0.1530, -0.1467, -0.3452,  0.0542,  0.1843,  0.1219,\n",
            "        -0.0265,  0.2277,  0.0518, -0.1262, -0.1704,  0.0439, -0.1707, -0.2472,\n",
            "        -0.0945, -0.0299, -0.0788,  0.1532, -0.0148, -0.1048, -0.0446, -0.0786,\n",
            "        -0.3029,  0.1788, -0.0614,  0.0672,  0.0799,  0.1016,  0.0386,  0.1359,\n",
            "         0.0271,  0.0088, -0.0759,  0.0549, -0.2611,  0.0819,  0.2373,  0.2670,\n",
            "         0.0356,  0.0319,  0.1002,  0.0064,  0.1675,  0.1593,  0.0324, -0.0473,\n",
            "         0.0653, -0.2006, -0.0619, -0.2141,  0.0822, -0.0832, -0.1290,  0.0444,\n",
            "         0.3977, -0.1298,  0.1112, -0.1089, -0.1077,  0.2292, -0.0251,  0.2253,\n",
            "         0.0407,  0.1509, -0.1392,  0.3322,  0.1274,  0.1091, -0.0953, -0.5174,\n",
            "         0.0875,  0.0338,  0.3810, -0.0725,  0.0193, -0.3379,  0.0532, -0.0948,\n",
            "         0.1146,  0.1629, -0.2807,  0.0423, -0.2807,  0.0483, -0.1101,  0.1432,\n",
            "         0.4219,  0.1708, -0.1254, -0.0538,  0.0313,  0.3626,  0.1155,  0.0799,\n",
            "        -0.0370,  0.0850, -0.2564, -0.2161], grad_fn=<SliceBackward>)\n"
          ],
          "name": "stdout"
        }
      ]
    },
    {
      "cell_type": "code",
      "metadata": {
        "colab": {
          "base_uri": "https://localhost:8080/"
        },
        "id": "ffZ57bvpwRdo",
        "outputId": "37f8b8ce-fbd2-44c9-c5f8-baf76c4ab3ba"
      },
      "source": [
        "packed_output.data.shape # so we need to unpack"
      ],
      "execution_count": 24,
      "outputs": [
        {
          "output_type": "execute_result",
          "data": {
            "text/plain": [
              "torch.Size([492, 100])"
            ]
          },
          "metadata": {
            "tags": []
          },
          "execution_count": 24
        }
      ]
    },
    {
      "cell_type": "code",
      "metadata": {
        "colab": {
          "base_uri": "https://localhost:8080/"
        },
        "id": "NiVonxujRs6L",
        "outputId": "c5c9af61-f3bc-4128-e884-6bfa25bede94"
      },
      "source": [
        "encoder_output = output\n",
        "output.shape"
      ],
      "execution_count": 25,
      "outputs": [
        {
          "output_type": "execute_result",
          "data": {
            "text/plain": [
              "torch.Size([32, 16, 100])"
            ]
          },
          "metadata": {
            "tags": []
          },
          "execution_count": 25
        }
      ]
    },
    {
      "cell_type": "markdown",
      "metadata": {
        "id": "WyZ1EKPfGm04"
      },
      "source": [
        "### Sample Decoder step by step"
      ]
    },
    {
      "cell_type": "code",
      "metadata": {
        "colab": {
          "base_uri": "https://localhost:8080/"
        },
        "id": "eNaIUujEQAo4",
        "outputId": "01335f96-b6e1-4d0e-f601-e0272e6eb47b"
      },
      "source": [
        "# Sample Decoder\n",
        "\n",
        "# Define\n",
        "decoder = nn.LSTM(100, \n",
        "                  75, \n",
        "                  num_layers=1, \n",
        "                  batch_first=True)\n",
        "\n",
        "fc= nn.Linear(75, 3)\n",
        "\n",
        "# Pass\n",
        "output, (hidden_decoder, cell_decoder) = decoder(encoder_output)\n",
        "print('decoder output shape', output.shape)\n",
        "print('decoder hidden shape', hidden_decoder.shape)\n",
        "print('decoder cell shape', cell_decoder.shape)\n",
        "\n",
        "dense_outputs = fc(hidden_decoder)\n",
        "print('decoder cell shape', cell_decoder.shape)\n",
        "\n",
        "final_output = F.softmax(dense_outputs[0], dim=1)\n",
        "print('final_output Shape', final_output.shape)"
      ],
      "execution_count": 26,
      "outputs": [
        {
          "output_type": "stream",
          "text": [
            "decoder output shape torch.Size([32, 16, 75])\n",
            "decoder hidden shape torch.Size([1, 32, 75])\n",
            "decoder cell shape torch.Size([1, 32, 75])\n",
            "decoder cell shape torch.Size([1, 32, 75])\n",
            "final_output Shape torch.Size([32, 3])\n"
          ],
          "name": "stdout"
        }
      ]
    },
    {
      "cell_type": "markdown",
      "metadata": {
        "id": "kduhVMACHmCR"
      },
      "source": [
        "## Encoder Class\n",
        "\n",
        "Let's write an encoder class from above understanding\n",
        "\n",
        "It does \n",
        "1. Embeddings\n",
        "2. Word from a sentence + last hidden vector -> encoder (LSTM )\n",
        "3. Output \n",
        "\n",
        "  a. single vector ( to be used by Decoder )\n",
        "\n",
        "  b. embeddings of word ( to be used for visualization purpose )"
      ]
    },
    {
      "cell_type": "code",
      "metadata": {
        "id": "vnoCPcrRNnJQ"
      },
      "source": [
        "#********************************************************************************\n",
        "#******************** Final Econder Class ***************************************\n",
        "#********************************************************************************\n",
        "\n",
        "class Encoder(nn.Module):\n",
        "    \n",
        "    # Define all the layers used in model\n",
        "    def __init__(self, vocab_size, embedding_dim, hidden_dim, n_layers):\n",
        "        super().__init__()          \n",
        "        \n",
        "        # Embedding layer\n",
        "        self.embedding = nn.Embedding(vocab_size, embedding_dim)\n",
        "        \n",
        "        # LSTM layer\n",
        "        self.encoder = nn.LSTM(embedding_dim, \n",
        "                           hidden_dim, \n",
        "                           num_layers=n_layers, \n",
        "                           #dropout=dropout,\n",
        "                           batch_first=True)\n",
        "\n",
        "\n",
        "    def forward(self, text, text_lengths):\n",
        "        \n",
        "        # text = [batch size, sent_length]\n",
        "        embedded = self.embedding(text)\n",
        "        # embedded = [batch size, sent_len, emb dim]\n",
        "      \n",
        "        # packed sequence\n",
        "        packed_embedded = nn.utils.rnn.pack_padded_sequence(embedded, text_lengths.cpu(), batch_first=True)\n",
        "        \n",
        "        # pass to encoder\n",
        "        packed_output, (hidden_encoder, cell_encoder) = self.encoder(packed_embedded)\n",
        "\n",
        "        # unpack sequence\n",
        "        encoder_output, encoder_output_lengths = nn.utils.rnn.pad_packed_sequence(packed_output, batch_first=True)\n",
        "    \n",
        "        # encoder o/p for decoder ; embedded for visualization purpose\n",
        "        return encoder_output, embedded\n",
        "\n"
      ],
      "execution_count": 27,
      "outputs": []
    },
    {
      "cell_type": "code",
      "metadata": {
        "id": "X5P1AVkOZBNK"
      },
      "source": [
        "# Can we do some custom initialization here??"
      ],
      "execution_count": 28,
      "outputs": []
    },
    {
      "cell_type": "code",
      "metadata": {
        "id": "skYuKdc9Nm7s"
      },
      "source": [
        "# Define hyperparameters\n",
        "size_of_vocab = len(Tweet.vocab)\n",
        "embedding_dim = 324 \n",
        "num_hidden_nodes = 144\n",
        "num_layers = 1\n",
        "\n",
        "# Instantiate the Encoder\n",
        "encoder = Encoder(size_of_vocab, embedding_dim, num_hidden_nodes, num_layers)"
      ],
      "execution_count": 29,
      "outputs": []
    },
    {
      "cell_type": "code",
      "metadata": {
        "colab": {
          "base_uri": "https://localhost:8080/"
        },
        "id": "eQn2Zg1Y23GI",
        "outputId": "7fd33d69-ec15-4039-8306-7e99dad74f61"
      },
      "source": [
        "print(encoder)\n",
        "\n",
        "#No. of trianable parameters\n",
        "def count_parameters(encoder):\n",
        "    return sum(p.numel() for p in encoder.parameters() if p.requires_grad)\n",
        "    \n",
        "print(f'The ecoder has {count_parameters(encoder):,} trainable parameters')"
      ],
      "execution_count": 30,
      "outputs": [
        {
          "output_type": "stream",
          "text": [
            "Encoder(\n",
            "  (embedding): Embedding(4652, 324)\n",
            "  (encoder): LSTM(324, 144, batch_first=True)\n",
            ")\n",
            "The ecoder has 1,777,968 trainable parameters\n"
          ],
          "name": "stdout"
        }
      ]
    },
    {
      "cell_type": "markdown",
      "metadata": {
        "id": "Zar4OnpDIgVT"
      },
      "source": [
        "## Decoder Class\n",
        "\n",
        "Let's write an decoder class from above sample understanding\n",
        "\n",
        "It does\n",
        "\n",
        "1. takes single vector (for each word in a sentence )+ last hidden vector \n",
        "\n",
        "2. decoder ( LSTM ) -> Gives Output : Single vector\n",
        "\n",
        "3. Single vector -> FC layer -> Prediction\n"
      ]
    },
    {
      "cell_type": "code",
      "metadata": {
        "id": "5wZWya1yNnAe"
      },
      "source": [
        "#********************************************************************************\n",
        "#******************** Final Decoder Class ***************************************\n",
        "#********************************************************************************\n",
        "\n",
        "class Decoder(nn.Module):\n",
        "    \n",
        "    # Define all the layers used in model\n",
        "    def __init__(self, vocab_size, encoder_output_dim, hidden_dim, output_dim, n_layers):\n",
        "        \n",
        "        super().__init__()          \n",
        "        \n",
        "        # LSTM layer\n",
        "        self.decoder = nn.LSTM(encoder_output_dim, \n",
        "                           hidden_dim, \n",
        "                           num_layers=n_layers, \n",
        "                           batch_first=True)\n",
        "\n",
        "        self.fc= nn.Linear(hidden_dim, output_dim)\n",
        "\n",
        "\n",
        "    def forward(self, encoder_output):\n",
        "        \n",
        "        # pass to decoder\n",
        "        output, (hidden_decoder, cell_decoder) = self.decoder(encoder_output)\n",
        "\n",
        "        # Linear\n",
        "        dense_outputs = self.fc(hidden_decoder)   \n",
        "\n",
        "        final_output = F.softmax(dense_outputs[0], dim=1)\n",
        "\n",
        "        # final_output is prediction & output is decoder output for visualization purpose\n",
        "        return final_output, output"
      ],
      "execution_count": 31,
      "outputs": []
    },
    {
      "cell_type": "code",
      "metadata": {
        "id": "AF-zRSsP1kfU"
      },
      "source": [
        "# Define hyperparameters\n",
        "size_of_vocab = len(Tweet.vocab)\n",
        "encoder_output_dim = 144\n",
        "n_hidden_nodes = 64\n",
        "num_output_nodes = 3\n",
        "num_layers = 1\n",
        "\n",
        "# Instantiate the Decoder\n",
        "decoder = Decoder(size_of_vocab, encoder_output_dim, n_hidden_nodes, num_output_nodes, num_layers)"
      ],
      "execution_count": 32,
      "outputs": []
    },
    {
      "cell_type": "code",
      "metadata": {
        "colab": {
          "base_uri": "https://localhost:8080/"
        },
        "id": "LJRr2ZEW2wlY",
        "outputId": "c131c737-b56c-40b6-de9e-bcc2d93dc7da"
      },
      "source": [
        "print(decoder)\n",
        "\n",
        "#No. of trianable parameters\n",
        "def count_parameters(decoder):\n",
        "    return sum(p.numel() for p in decoder.parameters() if p.requires_grad)\n",
        "    \n",
        "print(f'The decoder has {count_parameters(decoder):,} trainable parameters')"
      ],
      "execution_count": 33,
      "outputs": [
        {
          "output_type": "stream",
          "text": [
            "Decoder(\n",
            "  (decoder): LSTM(144, 64, batch_first=True)\n",
            "  (fc): Linear(in_features=64, out_features=3, bias=True)\n",
            ")\n",
            "The decoder has 53,955 trainable parameters\n"
          ],
          "name": "stdout"
        }
      ]
    },
    {
      "cell_type": "markdown",
      "metadata": {
        "id": "jP1sahXrKmbp"
      },
      "source": [
        "## Define the Optimizer to be used\n",
        "### Two optimiser - one each for encoder and decoder\n",
        "- Can be improvised to use only one ( if encoder is instantiate inside the Decoder, need to check this )"
      ]
    },
    {
      "cell_type": "code",
      "metadata": {
        "id": "UkjPR4dN23Dp"
      },
      "source": [
        "import torch.optim as optim\n",
        "\n",
        "# define optimizer and loss\n",
        "encoder_optimizer = optim.Adam(encoder.parameters(), lr=2e-4)\n",
        "decoder_optimizer = optim.Adam(decoder.parameters(), lr=2e-4)\n",
        "criterion = nn.CrossEntropyLoss()\n",
        "\n",
        "# define metric\n",
        "def binary_accuracy(preds, y):\n",
        "    #round predictions to the closest integer\n",
        "    _, predictions = torch.max(preds, 1)\n",
        "    \n",
        "    correct = (predictions == y).float() \n",
        "    acc = correct.sum() / len(correct)\n",
        "    return acc\n",
        "    \n",
        "# push to cuda if available\n",
        "encoder = encoder.to(device)\n",
        "decoder = decoder.to(device)\n",
        "criterion = criterion.to(device)"
      ],
      "execution_count": 34,
      "outputs": []
    },
    {
      "cell_type": "code",
      "metadata": {
        "id": "2cotkoF623A7"
      },
      "source": [
        "def train(encoder, decoder, iterator, encoder_optimizer, decoder_optimizer, criterion):\n",
        "    \n",
        "    # initialize every epoch \n",
        "    epoch_loss = 0\n",
        "    epoch_acc = 0\n",
        "    \n",
        "    # set the model in training phase\n",
        "    encoder.train()  \n",
        "    decoder.train()\n",
        "    \n",
        "    for batch in iterator:\n",
        "        \n",
        "        # resets the gradients after every batch\n",
        "        encoder_optimizer.zero_grad()   \n",
        "        decoder_optimizer.zero_grad()   \n",
        "        \n",
        "        # retrieve text and no. of words\n",
        "        tweet, tweet_lengths = batch.tweet  \n",
        "        \n",
        "        # convert to 1D tensor\n",
        "        encoder_out, embedding = encoder(tweet, tweet_lengths)\n",
        "        \n",
        "        predictions, decoder_out = decoder(encoder_out)\n",
        "        predictions = predictions.squeeze() \n",
        "\n",
        "        # compute the loss\n",
        "        loss = criterion(predictions, batch.label)        \n",
        "        \n",
        "        # compute the binary accuracy\n",
        "        acc = binary_accuracy(predictions, batch.label)   \n",
        "        \n",
        "        # backpropage the loss and compute the gradients\n",
        "        loss.backward()       \n",
        "        \n",
        "        # update the weights\n",
        "        encoder_optimizer.step()\n",
        "        decoder_optimizer.step()\n",
        "        \n",
        "        # loss and accuracy\n",
        "        epoch_loss += loss.item()  \n",
        "        epoch_acc += acc.item()    \n",
        "        \n",
        "    return epoch_loss / len(iterator), epoch_acc / len(iterator)"
      ],
      "execution_count": 35,
      "outputs": []
    },
    {
      "cell_type": "code",
      "metadata": {
        "id": "ESyjFiqN22-W"
      },
      "source": [
        "def evaluate(encoder, decoder, iterator, criterion):\n",
        "    \n",
        "    # initialize every epoch\n",
        "    epoch_loss = 0\n",
        "    epoch_acc = 0\n",
        "\n",
        "    # deactivating dropout layers\n",
        "    encoder.eval()\n",
        "    decoder.eval()\n",
        "    \n",
        "    # deactivates autograd\n",
        "    with torch.no_grad():\n",
        "    \n",
        "        for batch in iterator:\n",
        "        \n",
        "            # retrieve text and no. of words\n",
        "            tweet, tweet_lengths = batch.tweet\n",
        "            \n",
        "            # convert to 1d tensor\n",
        "            encoder_out, embedding = encoder(tweet, tweet_lengths)\n",
        "        \n",
        "            predictions , decoder_out = decoder(encoder_out)\n",
        "            predictions = predictions.squeeze() \n",
        "            \n",
        "            # compute loss and accuracy\n",
        "            loss = criterion(predictions, batch.label)\n",
        "            acc = binary_accuracy(predictions, batch.label)\n",
        "            \n",
        "            # keep track of loss and accuracy\n",
        "            epoch_loss += loss.item()\n",
        "            epoch_acc += acc.item()\n",
        "        \n",
        "    return epoch_loss / len(iterator), epoch_acc / len(iterator)"
      ],
      "execution_count": 36,
      "outputs": []
    },
    {
      "cell_type": "code",
      "metadata": {
        "colab": {
          "base_uri": "https://localhost:8080/"
        },
        "id": "2W6A3qg08coX",
        "outputId": "9beae294-ab74-49cd-ca00-130280ad38f8"
      },
      "source": [
        "for batch in train_iterator:\n",
        "        \n",
        "        # resets the gradients after every batch\n",
        "        encoder_optimizer.zero_grad()   \n",
        "        decoder_optimizer.zero_grad()   \n",
        "        \n",
        "        # retrieve text and no. of words\n",
        "        tweet, tweet_lengths = batch.tweet \n",
        "\n",
        "        break\n",
        "\n",
        "encoder_out, embeddings = encoder(tweet, tweet_lengths)\n",
        "print(encoder_out.shape)\n",
        "print(embeddings.shape)\n",
        "print('**************')\n",
        "\n",
        "predictions , decoder_out = decoder(encoder_out)\n",
        "predictions = predictions.squeeze() \n",
        "\n",
        "print(decoder_out.shape)\n",
        "print(predictions.shape)"
      ],
      "execution_count": 37,
      "outputs": [
        {
          "output_type": "stream",
          "text": [
            "torch.Size([32, 25, 144])\n",
            "torch.Size([32, 25, 324])\n",
            "**************\n",
            "torch.Size([32, 25, 64])\n",
            "torch.Size([32, 3])\n"
          ],
          "name": "stdout"
        }
      ]
    },
    {
      "cell_type": "code",
      "metadata": {
        "colab": {
          "base_uri": "https://localhost:8080/"
        },
        "id": "y8uRxvhk227u",
        "outputId": "8d3801b8-e710-40ee-9fa2-ec12c534cce9"
      },
      "source": [
        "N_EPOCHS = 10\n",
        "best_valid_loss = float('inf')\n",
        "\n",
        "trainLoss = []\n",
        "validLoss = []\n",
        "trainAcc = []\n",
        "validAcc = []\n",
        "\n",
        "for epoch in range(N_EPOCHS):\n",
        "     \n",
        "    # train the model\n",
        "    train_loss, train_acc = train(encoder, decoder, train_iterator, encoder_optimizer, decoder_optimizer, criterion)\n",
        "    \n",
        "    # evaluate the model\n",
        "    valid_loss, valid_acc = evaluate(encoder, decoder, valid_iterator, criterion)\n",
        "    \n",
        "    # save the best model\n",
        "    if valid_loss < best_valid_loss:\n",
        "        best_valid_loss = valid_loss\n",
        "        torch.save(encoder.state_dict(), 'encoder_saved_weights.pt')\n",
        "        torch.save(decoder.state_dict(), 'decoder_saved_weights.pt')\n",
        "    \n",
        "    print(f'\\tTrain Loss: {train_loss:.3f} | Train Acc: {train_acc*100:.2f}%')\n",
        "    print(f'\\t Val. Loss: {valid_loss:.3f} |  Val. Acc: {valid_acc*100:.2f}% \\n')\n",
        "    \n",
        "    trainLoss.append(train_loss)\n",
        "    validLoss.append(valid_loss)\n",
        "\n",
        "    trainAcc.append(train_acc)\n",
        "    validAcc.append(valid_acc)"
      ],
      "execution_count": 38,
      "outputs": [
        {
          "output_type": "stream",
          "text": [
            "\tTrain Loss: 1.089 | Train Acc: 40.62%\n",
            "\t Val. Loss: 1.060 |  Val. Acc: 70.09% \n",
            "\n",
            "\tTrain Loss: 0.987 | Train Acc: 68.79%\n",
            "\t Val. Loss: 0.900 |  Val. Acc: 70.09% \n",
            "\n",
            "\tTrain Loss: 0.873 | Train Acc: 68.79%\n",
            "\t Val. Loss: 0.852 |  Val. Acc: 70.09% \n",
            "\n",
            "\tTrain Loss: 0.839 | Train Acc: 71.32%\n",
            "\t Val. Loss: 0.842 |  Val. Acc: 73.66% \n",
            "\n",
            "\tTrain Loss: 0.812 | Train Acc: 76.73%\n",
            "\t Val. Loss: 0.811 |  Val. Acc: 79.02% \n",
            "\n",
            "\tTrain Loss: 0.779 | Train Acc: 80.49%\n",
            "\t Val. Loss: 0.790 |  Val. Acc: 79.91% \n",
            "\n",
            "\tTrain Loss: 0.743 | Train Acc: 83.70%\n",
            "\t Val. Loss: 0.782 |  Val. Acc: 78.12% \n",
            "\n",
            "\tTrain Loss: 0.718 | Train Acc: 85.05%\n",
            "\t Val. Loss: 0.772 |  Val. Acc: 77.68% \n",
            "\n",
            "\tTrain Loss: 0.695 | Train Acc: 86.91%\n",
            "\t Val. Loss: 0.756 |  Val. Acc: 79.02% \n",
            "\n",
            "\tTrain Loss: 0.680 | Train Acc: 87.92%\n",
            "\t Val. Loss: 0.767 |  Val. Acc: 78.57% \n",
            "\n"
          ],
          "name": "stdout"
        }
      ]
    },
    {
      "cell_type": "markdown",
      "metadata": {
        "id": "Tl1hMAlQNqTR"
      },
      "source": [
        "## Train and Validation Loss\n",
        "\n",
        "Plot a graph"
      ]
    },
    {
      "cell_type": "code",
      "metadata": {
        "colab": {
          "base_uri": "https://localhost:8080/",
          "height": 573
        },
        "id": "bWa36_-dOkbx",
        "outputId": "16e762b0-0c19-4a88-e2e4-4bd34de17344"
      },
      "source": [
        "# Plotting metrics to see how model as learned and loss decreased\n",
        "import numpy as np\n",
        "import matplotlib.pyplot as plt\n",
        "\n",
        "plt.plot(range(N_EPOCHS), trainLoss, marker='o')\n",
        "plt.plot(range(N_EPOCHS), validLoss, marker = 'x')\n",
        "plt.xlabel(\"Epoch\")\n",
        "plt.ylabel(\"Loss\")\n",
        "plt.legend([\"Train Loss\", \"Valid Loss\"])\n",
        "plt.title(\"Loss\")\n",
        "plt.ylim([0,1.5])\n",
        "plt.show()\n",
        "\n",
        "plt.plot(range(N_EPOCHS), np.dot(trainAcc,100), linestyle='dashed')\n",
        "plt.plot(range(N_EPOCHS), np.dot(validAcc,100), marker = 'x')\n",
        "plt.xlabel(\"Epoch\")\n",
        "plt.ylabel(\"%Accuracy\")\n",
        "plt.legend([\"Train ACC\", \"Valid ACC\"])\n",
        "plt.title(\"%Accuracy\")\n",
        "plt.ylim([0,100])\n",
        "plt.show()"
      ],
      "execution_count": 39,
      "outputs": [
        {
          "output_type": "display_data",
          "data": {
            "image/png": "[encoded data removed]",
            "text/plain": [
              "<Figure size 432x288 with 1 Axes>"
            ]
          },
          "metadata": {
            "tags": [],
            "needs_background": "light"
          }
        },
        {
          "output_type": "display_data",
          "data": {
            "image/png": "[encoded data removed]",
            "text/plain": [
              "<Figure size 432x288 with 1 Axes>"
            ]
          },
          "metadata": {
            "tags": [],
            "needs_background": "light"
          }
        }
      ]
    },
    {
      "cell_type": "markdown",
      "metadata": {
        "id": "MNAglcBQSLbo"
      },
      "source": [
        "## Confusion Matrix\n",
        "Using only validatin dataset"
      ]
    },
    {
      "cell_type": "code",
      "metadata": {
        "id": "3QT0gdnUV-i6"
      },
      "source": [
        "import seaborn as sns\n",
        "import matplotlib.pyplot as plt\n",
        "import numpy as np\n",
        "import sklearn.metrics"
      ],
      "execution_count": 40,
      "outputs": []
    },
    {
      "cell_type": "code",
      "metadata": {
        "colab": {
          "base_uri": "https://localhost:8080/"
        },
        "id": "RDUKwcAbkRx0",
        "outputId": "1961fdca-8ad1-4726-fbba-b1a16891ceaf"
      },
      "source": [
        "y_true = []\n",
        "y_pred = []\n",
        "x_tweet = []\n",
        "\n",
        "for batch in valid_iterator:\n",
        "  # retrieve text and no. of words\n",
        "  tweet, tweet_lengths = batch.tweet\n",
        "  \n",
        "  # convert to 1d tensor\n",
        "  encoder_out, embedding = encoder(tweet, tweet_lengths)\n",
        "\n",
        "  predictions , decoder_out = decoder(encoder_out)\n",
        "  _, pred = torch.max(predictions, 1) \n",
        "  y_pred = np.concatenate((y_pred, pred))\n",
        "\n",
        "  y_true = np.concatenate((y_true, batch.label.detach().numpy() ))\n",
        "  x_tweet = tweet\n",
        "  \n",
        "#print(tweet)\n",
        "#print(len(y_true))\n",
        "#print(y_true)\n",
        "#print(y_pred)\n",
        "\n",
        "r = sklearn.metrics.multilabel_confusion_matrix(y_true, y_pred, labels=[0, 1, 2])\n",
        "r"
      ],
      "execution_count": 41,
      "outputs": [
        {
          "output_type": "execute_result",
          "data": {
            "text/plain": [
              "array([[[ 47,  20],\n",
              "        [ 23, 115]],\n",
              "\n",
              "       [[121,  28],\n",
              "        [ 14,  42]],\n",
              "\n",
              "       [[194,   0],\n",
              "        [ 11,   0]]])"
            ]
          },
          "metadata": {
            "tags": []
          },
          "execution_count": 41
        }
      ]
    },
    {
      "cell_type": "code",
      "metadata": {
        "colab": {
          "base_uri": "https://localhost:8080/"
        },
        "id": "tSr4pqcayKN3",
        "outputId": "7c82e76a-eee7-4316-ddd7-caf6094b23aa"
      },
      "source": [
        "#sns.heatmap(r[0], cmap=\"YlGnBu\", annot=True, yticklabels=['Pred_Negative', 'Pred_Positive'])\n",
        "print( sklearn.metrics.classification_report(y_true,y_pred))"
      ],
      "execution_count": 52,
      "outputs": [
        {
          "output_type": "stream",
          "text": [
            "              precision    recall  f1-score   support\n",
            "\n",
            "         0.0       0.85      0.83      0.84       138\n",
            "         1.0       0.60      0.75      0.67        56\n",
            "         2.0       0.00      0.00      0.00        11\n",
            "\n",
            "    accuracy                           0.77       205\n",
            "   macro avg       0.48      0.53      0.50       205\n",
            "weighted avg       0.74      0.77      0.75       205\n",
            "\n"
          ],
          "name": "stdout"
        },
        {
          "output_type": "stream",
          "text": [
            "/usr/local/lib/python3.7/dist-packages/sklearn/metrics/_classification.py:1272: UndefinedMetricWarning: Precision and F-score are ill-defined and being set to 0.0 in labels with no predicted samples. Use `zero_division` parameter to control this behavior.\n",
            "  _warn_prf(average, modifier, msg_start, len(result))\n"
          ],
          "name": "stderr"
        }
      ]
    },
    {
      "cell_type": "markdown",
      "metadata": {
        "id": "7jOjmHaYSYLz"
      },
      "source": [
        "## Examples of wrongly classified tweets\n",
        "Will it be difficult for human as well to classify the sentiment?"
      ]
    },
    {
      "cell_type": "markdown",
      "metadata": {
        "id": "l15WoxVVQ9De"
      },
      "source": [
        "## Sample Output from Encoder & Decoder"
      ]
    },
    {
      "cell_type": "markdown",
      "metadata": {
        "id": "E8jx2nMES4U5"
      },
      "source": [
        "## Only one o/p per sentence"
      ]
    },
    {
      "cell_type": "code",
      "metadata": {
        "id": "W3voTj_vV-Xe"
      },
      "source": [
        "# write a function which \n",
        "# i/p : 1d array, n(shape)\n",
        "# plots the heat maps\n",
        "\n",
        "def power_plot(m, n1, n2, token, t='title'):\n",
        "  m = m.reshape(n1, n2)\n",
        "  plt.figure(figsize=(8, 6), dpi=80)\n",
        "  sns.heatmap(m, cmap=\"YlGnBu\", yticklabels=token)\n",
        "  plt.title(t)\n",
        "  plt.show()"
      ],
      "execution_count": 48,
      "outputs": []
    },
    {
      "cell_type": "code",
      "metadata": {
        "id": "RIDdxOtvMPVe"
      },
      "source": [
        "#load weights and tokenizer\n",
        "\n",
        "en_path='./encoder_saved_weights.pt'\n",
        "encoder.load_state_dict(torch.load(en_path));\n",
        "encoder.eval();\n",
        "\n",
        "de_path='./decoder_saved_weights.pt'\n",
        "decoder.load_state_dict(torch.load(de_path));\n",
        "decoder.eval();\n",
        "\n",
        "tokenizer_file = open('./tokenizer.pkl', 'rb')\n",
        "tokenizer = pickle.load(tokenizer_file)\n",
        "\n",
        "#inference \n",
        "\n",
        "import spacy\n",
        "nlp = spacy.load('en')\n",
        "\n",
        "def explainNclassify_tweet(tweet):\n",
        "    \n",
        "    categories = {0: \"Negative\", 1:\"Positive\", 2:\"Neutral\"}\n",
        "    \n",
        "    # tokenize the tweet \n",
        "    tokenized = [tok.text for tok in nlp.tokenizer(tweet)] \n",
        "    # convert to integer sequence using predefined tokenizer dictionary\n",
        "    indexed = [tokenizer[t] for t in tokenized]        \n",
        "    # compute no. of words        \n",
        "    length = [len(indexed)]\n",
        "    # convert to tensor                                    \n",
        "    tensor = torch.LongTensor(indexed).to(device)   \n",
        "    # reshape in form of batch, no. of words           \n",
        "    tensor = tensor.unsqueeze(1).T  \n",
        "    # convert to tensor                          \n",
        "    length_tensor = torch.LongTensor(length)\n",
        "    # Get the model prediction                  \n",
        "    # prediction = model(tensor, length_tensor)\n",
        "    encoder_out, embedding = encoder(tensor, length_tensor)\n",
        "    prediction, decoder_out = decoder(encoder_out) #.squeeze()\n",
        "\n",
        "    _, pred = torch.max(prediction, 1) \n",
        "    \n",
        "    print('Tokenized : ', tokenized)\n",
        "    print('Index of words : ', indexed)\n",
        "    print('Number of words : ', length[0])\n",
        "    print('tensor', tensor.shape)\n",
        "    print('tensor', tensor)\n",
        "    print('**********************************************************')\n",
        "    \n",
        "    power_plot(embedding[0,:,:].detach().numpy(), length[0], 324, tokenized, 'Embeddings Output' )\n",
        "    print(embedding.shape)\n",
        "\n",
        "    power_plot(encoder_out[0,:,:].detach().numpy(), length[0], 144, tokenized, 'Encoder Output' )\n",
        "    print(encoder_out.shape)\n",
        "\n",
        "    power_plot(decoder_out[0,:,:].detach().numpy(), length[0], 64, tokenized, 'Decoder Output' )\n",
        "    print(decoder_out.shape)\n",
        "\n",
        "    print('*********************************************************')\n",
        "    kpiMedian = []\n",
        "    kpiMean = []\n",
        "    kpiStd = []\n",
        "    for i in range(length[0]):\n",
        "      kpiMedian.append(np.median(encoder_out[0,i,:].detach().numpy()))\n",
        "      kpiMean.append(np.mean(encoder_out[0,i,:].detach().numpy()))\n",
        "      kpiStd.append(np.std(encoder_out[0,i,:].detach().numpy()))\n",
        "\n",
        "    plt.figure(figsize=(5, 1), dpi=80)\n",
        "    sns.heatmap(np.array(kpiMedian).reshape(1,3), cmap=\"YlGnBu\", annot=True, xticklabels=tokenized, yticklabels='')\n",
        "    plt.title('Median of Decoder LSTM Output')\n",
        "    plt.show()\n",
        "    plt.figure(figsize=(5, 1), dpi=80)\n",
        "    sns.heatmap(np.array(kpiMean).reshape(1,3), cmap=\"YlGnBu\", annot=True, xticklabels=tokenized, yticklabels='')\n",
        "    plt.title('Mean of Decoder LSTM Output')\n",
        "    plt.show()\n",
        "    plt.figure(figsize=(5, 1), dpi=80)\n",
        "    sns.heatmap(np.array(kpiStd).reshape(1,3), cmap=\"YlGnBu\", annot=True, xticklabels=tokenized, yticklabels='')\n",
        "    plt.title('Stdev of Decoder LSTM Output')\n",
        "    plt.show()\n",
        "\n",
        "\n",
        "    return categories[pred.item()]"
      ],
      "execution_count": 49,
      "outputs": []
    },
    {
      "cell_type": "code",
      "metadata": {
        "colab": {
          "base_uri": "https://localhost:8080/",
          "height": 1000
        },
        "id": "XlJj0ly1MMnV",
        "outputId": "e75af378-f08e-402a-8797-cc6816463cb6"
      },
      "source": [
        "print(explainNclassify_tweet(\"Not best experience\"))"
      ],
      "execution_count": 50,
      "outputs": [
        {
          "output_type": "stream",
          "text": [
            "Tokenized :  ['Not', 'best', 'experience']\n",
            "Index of words :  [365, 738, 0]\n",
            "Number of words :  3\n",
            "tensor torch.Size([1, 3])\n",
            "tensor tensor([[365, 738,   0]])\n",
            "**********************************************************\n"
          ],
          "name": "stdout"
        },
        {
          "output_type": "display_data",
          "data": {
            "image/png": "[encoded data removed]",
            "text/plain": [
              "<Figure size 640x480 with 2 Axes>"
            ]
          },
          "metadata": {
            "tags": [],
            "needs_background": "light"
          }
        },
        {
          "output_type": "stream",
          "text": [
            "torch.Size([1, 3, 324])\n"
          ],
          "name": "stdout"
        },
        {
          "output_type": "display_data",
          "data": {
            "image/png": "[encoded data removed]",
            "text/plain": [
              "<Figure size 640x480 with 2 Axes>"
            ]
          },
          "metadata": {
            "tags": [],
            "needs_background": "light"
          }
        },
        {
          "output_type": "stream",
          "text": [
            "torch.Size([1, 3, 144])\n"
          ],
          "name": "stdout"
        },
        {
          "output_type": "display_data",
          "data": {
            "image/png": "[encoded data removed]",
            "text/plain": [
              "<Figure size 640x480 with 2 Axes>"
            ]
          },
          "metadata": {
            "tags": [],
            "needs_background": "light"
          }
        },
        {
          "output_type": "stream",
          "text": [
            "torch.Size([1, 3, 64])\n",
            "*********************************************************\n"
          ],
          "name": "stdout"
        },
        {
          "output_type": "display_data",
          "data": {
            "image/png": "[encoded data removed]",
            "text/plain": [
              "<Figure size 400x80 with 2 Axes>"
            ]
          },
          "metadata": {
            "tags": [],
            "needs_background": "light"
          }
        },
        {
          "output_type": "display_data",
          "data": {
            "image/png": "[encoded data removed]",
            "text/plain": [
              "<Figure size 400x80 with 2 Axes>"
            ]
          },
          "metadata": {
            "tags": [],
            "needs_background": "light"
          }
        },
        {
          "output_type": "display_data",
          "data": {
            "image/png": "[encoded data removed]",
            "text/plain": [
              "<Figure size 400x80 with 2 Axes>"
            ]
          },
          "metadata": {
            "tags": [],
            "needs_background": "light"
          }
        },
        {
          "output_type": "stream",
          "text": [
            "Negative\n"
          ],
          "name": "stdout"
        }
      ]
    },
    {
      "cell_type": "code",
      "metadata": {
        "colab": {
          "base_uri": "https://localhost:8080/",
          "height": 1000
        },
        "id": "e2Wd6n1Qt33E",
        "outputId": "d9db6cb2-6338-48b1-c968-5eeeb9d06a20"
      },
      "source": [
        "print(explainNclassify_tweet(\"The best experience\"))"
      ],
      "execution_count": 51,
      "outputs": [
        {
          "output_type": "stream",
          "text": [
            "Tokenized :  ['The', 'best', 'experience']\n",
            "Index of words :  [61, 738, 0]\n",
            "Number of words :  3\n",
            "tensor torch.Size([1, 3])\n",
            "tensor tensor([[ 61, 738,   0]])\n",
            "**********************************************************\n"
          ],
          "name": "stdout"
        },
        {
          "output_type": "display_data",
          "data": {
            "image/png": "[encoded data removed]",
            "text/plain": [
              "<Figure size 640x480 with 2 Axes>"
            ]
          },
          "metadata": {
            "tags": [],
            "needs_background": "light"
          }
        },
        {
          "output_type": "stream",
          "text": [
            "torch.Size([1, 3, 324])\n"
          ],
          "name": "stdout"
        },
        {
          "output_type": "display_data",
          "data": {
            "image/png": "[encoded data removed]",
            "text/plain": [
              "<Figure size 640x480 with 2 Axes>"
            ]
          },
          "metadata": {
            "tags": [],
            "needs_background": "light"
          }
        },
        {
          "output_type": "stream",
          "text": [
            "torch.Size([1, 3, 144])\n"
          ],
          "name": "stdout"
        },
        {
          "output_type": "display_data",
          "data": {
            "image/png": "[encoded data removed]",
            "text/plain": [
              "<Figure size 640x480 with 2 Axes>"
            ]
          },
          "metadata": {
            "tags": [],
            "needs_background": "light"
          }
        },
        {
          "output_type": "stream",
          "text": [
            "torch.Size([1, 3, 64])\n",
            "*********************************************************\n"
          ],
          "name": "stdout"
        },
        {
          "output_type": "display_data",
          "data": {
            "image/png": "[encoded data removed]",
            "text/plain": [
              "<Figure size 400x80 with 2 Axes>"
            ]
          },
          "metadata": {
            "tags": [],
            "needs_background": "light"
          }
        },
        {
          "output_type": "display_data",
          "data": {
            "image/png": "[encoded data removed]",
            "text/plain": [
              "<Figure size 400x80 with 2 Axes>"
            ]
          },
          "metadata": {
            "tags": [],
            "needs_background": "light"
          }
        },
        {
          "output_type": "display_data",
          "data": {
            "image/png": "[encoded data removed]",
            "text/plain": [
              "<Figure size 400x80 with 2 Axes>"
            ]
          },
          "metadata": {
            "tags": [],
            "needs_background": "light"
          }
        },
        {
          "output_type": "stream",
          "text": [
            "Positive\n"
          ],
          "name": "stdout"
        }
      ]
    },
    {
      "cell_type": "code",
      "metadata": {
        "id": "_Sn25HOcJRKI"
      },
      "source": [
        ""
      ],
      "execution_count": 47,
      "outputs": []
    }
  ]
}