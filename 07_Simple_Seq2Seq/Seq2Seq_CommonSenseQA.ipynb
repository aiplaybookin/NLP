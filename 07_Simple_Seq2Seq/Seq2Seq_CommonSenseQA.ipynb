{
  "nbformat": 4,
  "nbformat_minor": 0,
  "metadata": {
    "colab": {
      "name": "Seq2Seq_CommonSenseQA.ipynb",
      "provenance": [],
      "collapsed_sections": []
    },
    "kernelspec": {
      "name": "python3",
      "display_name": "Python 3"
    },
    "language_info": {
      "name": "python"
    },
    "accelerator": "GPU"
  },
  "cells": [
    {
      "cell_type": "markdown",
      "metadata": {
        "id": "te9l3ue1d4gq"
      },
      "source": [
        "## CommonsenseQA\n",
        "CommonsenseQA is a new multiple-choice question answering dataset that requires different types of commonsense knowledge to predict the correct answers . It contains 12,102 questions with one correct answer and four distractor answers."
      ]
    },
    {
      "cell_type": "code",
      "metadata": {
        "colab": {
          "base_uri": "https://localhost:8080/"
        },
        "id": "0Ek63ZEzGh2n",
        "outputId": "6c9c438d-5ff4-481b-a738-4c3e315356dc"
      },
      "source": [
        "!wget https://s3.amazonaws.com/commensenseqa/train_rand_split.jsonl"
      ],
      "execution_count": 3,
      "outputs": [
        {
          "output_type": "stream",
          "text": [
            "--2021-06-24 15:53:38--  https://s3.amazonaws.com/commensenseqa/train_rand_split.jsonl\n",
            "Resolving s3.amazonaws.com (s3.amazonaws.com)... 52.216.21.69\n",
            "Connecting to s3.amazonaws.com (s3.amazonaws.com)|52.216.21.69|:443... connected.\n",
            "HTTP request sent, awaiting response... 200 OK\n",
            "Length: 3785890 (3.6M) [binary/octet-stream]\n",
            "Saving to: ‘train_rand_split.jsonl.1’\n",
            "\n",
            "train_rand_split.js 100%[===================>]   3.61M  2.45MB/s    in 1.5s    \n",
            "\n",
            "2021-06-24 15:53:40 (2.45 MB/s) - ‘train_rand_split.jsonl.1’ saved [3785890/3785890]\n",
            "\n"
          ],
          "name": "stdout"
        }
      ]
    },
    {
      "cell_type": "code",
      "metadata": {
        "id": "dfNogbRmtWeP"
      },
      "source": [
        "import pandas as pd\n",
        "import json"
      ],
      "execution_count": 4,
      "outputs": []
    },
    {
      "cell_type": "markdown",
      "metadata": {
        "id": "u-Yd0P3seJ4P"
      },
      "source": [
        "#### Data Prep from JSON file"
      ]
    },
    {
      "cell_type": "code",
      "metadata": {
        "id": "7SFCgKDhuINb"
      },
      "source": [
        "with open('train_rand_split.jsonl', encoding=\"utf8\") as f:\n",
        "    data = f.readlines()\n",
        "    data = [json.loads(line) for line in data] #convert string to dict format"
      ],
      "execution_count": 5,
      "outputs": []
    },
    {
      "cell_type": "code",
      "metadata": {
        "colab": {
          "base_uri": "https://localhost:8080/"
        },
        "id": "APC0PzH_ykZj",
        "outputId": "4fa391c6-7df4-4e5d-bd4e-95002a54da17"
      },
      "source": [
        "len(data)"
      ],
      "execution_count": 6,
      "outputs": [
        {
          "output_type": "execute_result",
          "data": {
            "text/plain": [
              "9741"
            ]
          },
          "metadata": {
            "tags": []
          },
          "execution_count": 6
        }
      ]
    },
    {
      "cell_type": "code",
      "metadata": {
        "id": "dHci6rGdymug"
      },
      "source": [
        "ques = []\n",
        "ans = []\n",
        "ch_a = []\n",
        "ch_b = []\n",
        "ch_c = []\n",
        "ch_d = []\n",
        "ch_e = []\n",
        "\n",
        "for i in range(len(data)):\n",
        "  q = data[i]['question']['stem']\n",
        "  ques.append(q)\n",
        "\n",
        "  for j in range(5):\n",
        "    if (data[i]['question']['choices'][j]['label'] == data[i]['answerKey']):\n",
        "      a = data[i]['question']['choices'][j]['text']\n",
        "      ans.append(a)\n",
        "      \n",
        "    if j == 0: ch_a.append(data[i]['question']['choices'][j]['text'])\n",
        "    if j == 1: ch_b.append(data[i]['question']['choices'][j]['text'])\n",
        "    if j == 2: ch_c.append(data[i]['question']['choices'][j]['text'])\n",
        "    if j == 3: ch_d.append(data[i]['question']['choices'][j]['text'])\n",
        "    if j == 4: ch_e.append(data[i]['question']['choices'][j]['text'])"
      ],
      "execution_count": 7,
      "outputs": []
    },
    {
      "cell_type": "code",
      "metadata": {
        "colab": {
          "base_uri": "https://localhost:8080/"
        },
        "id": "Bg0qwCjNrGuW",
        "outputId": "4d3bf1d3-8930-4041-f027-9a8df01bd202"
      },
      "source": [
        "data[i]['question']"
      ],
      "execution_count": 8,
      "outputs": [
        {
          "output_type": "execute_result",
          "data": {
            "text/plain": [
              "{'choices': [{'label': 'A', 'text': 'put in to the water'},\n",
              "  {'label': 'B', 'text': 'cause fire'},\n",
              "  {'label': 'C', 'text': 'produce heat'},\n",
              "  {'label': 'D', 'text': 'short fuse'},\n",
              "  {'label': 'E', 'text': 'shock'}],\n",
              " 'question_concept': 'electricity',\n",
              " 'stem': \"I forgot to pay the electricity bill, now what can't I do with my ground pump?\"}"
            ]
          },
          "metadata": {
            "tags": []
          },
          "execution_count": 8
        }
      ]
    },
    {
      "cell_type": "code",
      "metadata": {
        "colab": {
          "base_uri": "https://localhost:8080/"
        },
        "id": "9tx216rJzxVS",
        "outputId": "a1fab684-1dcd-4b4b-b8a0-127444285ce5"
      },
      "source": [
        "len(ans) == len(ques)"
      ],
      "execution_count": 9,
      "outputs": [
        {
          "output_type": "execute_result",
          "data": {
            "text/plain": [
              "True"
            ]
          },
          "metadata": {
            "tags": []
          },
          "execution_count": 9
        }
      ]
    },
    {
      "cell_type": "code",
      "metadata": {
        "colab": {
          "base_uri": "https://localhost:8080/"
        },
        "id": "3YNlXFnhlEYc",
        "outputId": "64f9e1a1-67cd-40db-b235-71c914663f38"
      },
      "source": [
        "data[i]['question']['choices']"
      ],
      "execution_count": 10,
      "outputs": [
        {
          "output_type": "execute_result",
          "data": {
            "text/plain": [
              "[{'label': 'A', 'text': 'put in to the water'},\n",
              " {'label': 'B', 'text': 'cause fire'},\n",
              " {'label': 'C', 'text': 'produce heat'},\n",
              " {'label': 'D', 'text': 'short fuse'},\n",
              " {'label': 'E', 'text': 'shock'}]"
            ]
          },
          "metadata": {
            "tags": []
          },
          "execution_count": 10
        }
      ]
    },
    {
      "cell_type": "code",
      "metadata": {
        "colab": {
          "base_uri": "https://localhost:8080/",
          "height": 424
        },
        "id": "JLV9AylUuiiJ",
        "outputId": "16f3f157-bf35-4c1b-b057-64f2d7544ba1"
      },
      "source": [
        "df = pd.DataFrame({'ques': ques, 'ans': ans, 'ch_a': ch_a, 'ch_b': ch_b, 'ch_c': ch_c, 'ch_d': ch_d, 'ch_e': ch_e}).reset_index()\n",
        "df"
      ],
      "execution_count": 11,
      "outputs": [
        {
          "output_type": "execute_result",
          "data": {
            "text/html": [
              "<div>\n",
              "<style scoped>\n",
              "    .dataframe tbody tr th:only-of-type {\n",
              "        vertical-align: middle;\n",
              "    }\n",
              "\n",
              "    .dataframe tbody tr th {\n",
              "        vertical-align: top;\n",
              "    }\n",
              "\n",
              "    .dataframe thead th {\n",
              "        text-align: right;\n",
              "    }\n",
              "</style>\n",
              "<table border=\"1\" class=\"dataframe\">\n",
              "  <thead>\n",
              "    <tr style=\"text-align: right;\">\n",
              "      <th></th>\n",
              "      <th>index</th>\n",
              "      <th>ques</th>\n",
              "      <th>ans</th>\n",
              "      <th>ch_a</th>\n",
              "      <th>ch_b</th>\n",
              "      <th>ch_c</th>\n",
              "      <th>ch_d</th>\n",
              "      <th>ch_e</th>\n",
              "    </tr>\n",
              "  </thead>\n",
              "  <tbody>\n",
              "    <tr>\n",
              "      <th>0</th>\n",
              "      <td>0</td>\n",
              "      <td>The sanctions against the school were a punish...</td>\n",
              "      <td>ignore</td>\n",
              "      <td>ignore</td>\n",
              "      <td>enforce</td>\n",
              "      <td>authoritarian</td>\n",
              "      <td>yell at</td>\n",
              "      <td>avoid</td>\n",
              "    </tr>\n",
              "    <tr>\n",
              "      <th>1</th>\n",
              "      <td>1</td>\n",
              "      <td>Sammy wanted to go to where the people were.  ...</td>\n",
              "      <td>populated areas</td>\n",
              "      <td>race track</td>\n",
              "      <td>populated areas</td>\n",
              "      <td>the desert</td>\n",
              "      <td>apartment</td>\n",
              "      <td>roadblock</td>\n",
              "    </tr>\n",
              "    <tr>\n",
              "      <th>2</th>\n",
              "      <td>2</td>\n",
              "      <td>To locate a choker not located in a jewelry bo...</td>\n",
              "      <td>jewelry store</td>\n",
              "      <td>jewelry store</td>\n",
              "      <td>neck</td>\n",
              "      <td>jewlery box</td>\n",
              "      <td>jewelry box</td>\n",
              "      <td>boutique</td>\n",
              "    </tr>\n",
              "    <tr>\n",
              "      <th>3</th>\n",
              "      <td>3</td>\n",
              "      <td>Google Maps and other highway and street GPS s...</td>\n",
              "      <td>atlas</td>\n",
              "      <td>united states</td>\n",
              "      <td>mexico</td>\n",
              "      <td>countryside</td>\n",
              "      <td>atlas</td>\n",
              "      <td>oceans</td>\n",
              "    </tr>\n",
              "    <tr>\n",
              "      <th>4</th>\n",
              "      <td>4</td>\n",
              "      <td>The fox walked from the city into the forest, ...</td>\n",
              "      <td>natural habitat</td>\n",
              "      <td>pretty flowers.</td>\n",
              "      <td>hen house</td>\n",
              "      <td>natural habitat</td>\n",
              "      <td>storybook</td>\n",
              "      <td>dense forest</td>\n",
              "    </tr>\n",
              "    <tr>\n",
              "      <th>...</th>\n",
              "      <td>...</td>\n",
              "      <td>...</td>\n",
              "      <td>...</td>\n",
              "      <td>...</td>\n",
              "      <td>...</td>\n",
              "      <td>...</td>\n",
              "      <td>...</td>\n",
              "      <td>...</td>\n",
              "    </tr>\n",
              "    <tr>\n",
              "      <th>9736</th>\n",
              "      <td>9736</td>\n",
              "      <td>What would someone need to do if he or she wan...</td>\n",
              "      <td>telling all</td>\n",
              "      <td>consequences</td>\n",
              "      <td>being ridiculed</td>\n",
              "      <td>more money</td>\n",
              "      <td>more funding</td>\n",
              "      <td>telling all</td>\n",
              "    </tr>\n",
              "    <tr>\n",
              "      <th>9737</th>\n",
              "      <td>9737</td>\n",
              "      <td>Where might you find a chair at an office?</td>\n",
              "      <td>cubicle</td>\n",
              "      <td>stadium</td>\n",
              "      <td>kitchen</td>\n",
              "      <td>porch</td>\n",
              "      <td>cubicle</td>\n",
              "      <td>living room</td>\n",
              "    </tr>\n",
              "    <tr>\n",
              "      <th>9738</th>\n",
              "      <td>9738</td>\n",
              "      <td>Where would you buy jeans in a place with a la...</td>\n",
              "      <td>shopping mall</td>\n",
              "      <td>shopping mall</td>\n",
              "      <td>laundromat</td>\n",
              "      <td>hospital</td>\n",
              "      <td>clothing store</td>\n",
              "      <td>thrift store</td>\n",
              "    </tr>\n",
              "    <tr>\n",
              "      <th>9739</th>\n",
              "      <td>9739</td>\n",
              "      <td>John fell down the well.  he couldn't believe ...</td>\n",
              "      <td>fairytale</td>\n",
              "      <td>fairytale</td>\n",
              "      <td>farm yard</td>\n",
              "      <td>farm country</td>\n",
              "      <td>michigan</td>\n",
              "      <td>horror movie</td>\n",
              "    </tr>\n",
              "    <tr>\n",
              "      <th>9740</th>\n",
              "      <td>9740</td>\n",
              "      <td>I forgot to pay the electricity bill, now what...</td>\n",
              "      <td>produce heat</td>\n",
              "      <td>put in to the water</td>\n",
              "      <td>cause fire</td>\n",
              "      <td>produce heat</td>\n",
              "      <td>short fuse</td>\n",
              "      <td>shock</td>\n",
              "    </tr>\n",
              "  </tbody>\n",
              "</table>\n",
              "<p>9741 rows × 8 columns</p>\n",
              "</div>"
            ],
            "text/plain": [
              "      index  ...          ch_e\n",
              "0         0  ...         avoid\n",
              "1         1  ...     roadblock\n",
              "2         2  ...      boutique\n",
              "3         3  ...        oceans\n",
              "4         4  ...  dense forest\n",
              "...     ...  ...           ...\n",
              "9736   9736  ...   telling all\n",
              "9737   9737  ...   living room\n",
              "9738   9738  ...  thrift store\n",
              "9739   9739  ...  horror movie\n",
              "9740   9740  ...         shock\n",
              "\n",
              "[9741 rows x 8 columns]"
            ]
          },
          "metadata": {
            "tags": []
          },
          "execution_count": 11
        }
      ]
    },
    {
      "cell_type": "code",
      "metadata": {
        "colab": {
          "base_uri": "https://localhost:8080/"
        },
        "id": "jLfKP1yMzgNy",
        "outputId": "d2901612-f21c-40ea-bda2-9251e8090e42"
      },
      "source": [
        "print('Ques: ', df.ques[1])\n",
        "print('Ans : ', df.ans[1])\n",
        "print('Ans : ', df.ch_a[1])\n",
        "print('Ans : ', df.ch_b[1])\n",
        "print('Ans : ', df.ch_c[1])\n",
        "print('Ans : ', df.ch_d[1])\n",
        "print('Ans : ', df.ch_e[1])"
      ],
      "execution_count": 12,
      "outputs": [
        {
          "output_type": "stream",
          "text": [
            "Ques:  Sammy wanted to go to where the people were.  Where might he go?\n",
            "Ans :  populated areas\n",
            "Ans :  race track\n",
            "Ans :  populated areas\n",
            "Ans :  the desert\n",
            "Ans :  apartment\n",
            "Ans :  roadblock\n"
          ],
          "name": "stdout"
        }
      ]
    },
    {
      "cell_type": "code",
      "metadata": {
        "colab": {
          "base_uri": "https://localhost:8080/"
        },
        "id": "cYEqCvAmsUfD",
        "outputId": "e06fe771-9bf9-40f2-f7ce-05f0cfb1447f"
      },
      "source": [
        "!python -m spacy download en_core_web_lg"
      ],
      "execution_count": 29,
      "outputs": [
        {
          "output_type": "stream",
          "text": [
            "Requirement already satisfied: en_core_web_lg==2.2.5 from https://github.com/explosion/spacy-models/releases/download/en_core_web_lg-2.2.5/en_core_web_lg-2.2.5.tar.gz#egg=en_core_web_lg==2.2.5 in /usr/local/lib/python3.7/dist-packages (2.2.5)\n",
            "Requirement already satisfied: spacy>=2.2.2 in /usr/local/lib/python3.7/dist-packages (from en_core_web_lg==2.2.5) (2.2.4)\n",
            "Requirement already satisfied: catalogue<1.1.0,>=0.0.7 in /usr/local/lib/python3.7/dist-packages (from spacy>=2.2.2->en_core_web_lg==2.2.5) (1.0.0)\n",
            "Requirement already satisfied: requests<3.0.0,>=2.13.0 in /usr/local/lib/python3.7/dist-packages (from spacy>=2.2.2->en_core_web_lg==2.2.5) (2.23.0)\n",
            "Requirement already satisfied: plac<1.2.0,>=0.9.6 in /usr/local/lib/python3.7/dist-packages (from spacy>=2.2.2->en_core_web_lg==2.2.5) (1.1.3)\n",
            "Requirement already satisfied: murmurhash<1.1.0,>=0.28.0 in /usr/local/lib/python3.7/dist-packages (from spacy>=2.2.2->en_core_web_lg==2.2.5) (1.0.5)\n",
            "Requirement already satisfied: cymem<2.1.0,>=2.0.2 in /usr/local/lib/python3.7/dist-packages (from spacy>=2.2.2->en_core_web_lg==2.2.5) (2.0.5)\n",
            "Requirement already satisfied: srsly<1.1.0,>=1.0.2 in /usr/local/lib/python3.7/dist-packages (from spacy>=2.2.2->en_core_web_lg==2.2.5) (1.0.5)\n",
            "Requirement already satisfied: preshed<3.1.0,>=3.0.2 in /usr/local/lib/python3.7/dist-packages (from spacy>=2.2.2->en_core_web_lg==2.2.5) (3.0.5)\n",
            "Requirement already satisfied: numpy>=1.15.0 in /usr/local/lib/python3.7/dist-packages (from spacy>=2.2.2->en_core_web_lg==2.2.5) (1.19.5)\n",
            "Requirement already satisfied: thinc==7.4.0 in /usr/local/lib/python3.7/dist-packages (from spacy>=2.2.2->en_core_web_lg==2.2.5) (7.4.0)\n",
            "Requirement already satisfied: blis<0.5.0,>=0.4.0 in /usr/local/lib/python3.7/dist-packages (from spacy>=2.2.2->en_core_web_lg==2.2.5) (0.4.1)\n",
            "Requirement already satisfied: setuptools in /usr/local/lib/python3.7/dist-packages (from spacy>=2.2.2->en_core_web_lg==2.2.5) (57.0.0)\n",
            "Requirement already satisfied: tqdm<5.0.0,>=4.38.0 in /usr/local/lib/python3.7/dist-packages (from spacy>=2.2.2->en_core_web_lg==2.2.5) (4.41.1)\n",
            "Requirement already satisfied: wasabi<1.1.0,>=0.4.0 in /usr/local/lib/python3.7/dist-packages (from spacy>=2.2.2->en_core_web_lg==2.2.5) (0.8.2)\n",
            "Requirement already satisfied: importlib-metadata>=0.20; python_version < \"3.8\" in /usr/local/lib/python3.7/dist-packages (from catalogue<1.1.0,>=0.0.7->spacy>=2.2.2->en_core_web_lg==2.2.5) (4.5.0)\n",
            "Requirement already satisfied: certifi>=2017.4.17 in /usr/local/lib/python3.7/dist-packages (from requests<3.0.0,>=2.13.0->spacy>=2.2.2->en_core_web_lg==2.2.5) (2021.5.30)\n",
            "Requirement already satisfied: urllib3!=1.25.0,!=1.25.1,<1.26,>=1.21.1 in /usr/local/lib/python3.7/dist-packages (from requests<3.0.0,>=2.13.0->spacy>=2.2.2->en_core_web_lg==2.2.5) (1.24.3)\n",
            "Requirement already satisfied: chardet<4,>=3.0.2 in /usr/local/lib/python3.7/dist-packages (from requests<3.0.0,>=2.13.0->spacy>=2.2.2->en_core_web_lg==2.2.5) (3.0.4)\n",
            "Requirement already satisfied: idna<3,>=2.5 in /usr/local/lib/python3.7/dist-packages (from requests<3.0.0,>=2.13.0->spacy>=2.2.2->en_core_web_lg==2.2.5) (2.10)\n",
            "Requirement already satisfied: typing-extensions>=3.6.4; python_version < \"3.8\" in /usr/local/lib/python3.7/dist-packages (from importlib-metadata>=0.20; python_version < \"3.8\"->catalogue<1.1.0,>=0.0.7->spacy>=2.2.2->en_core_web_lg==2.2.5) (3.7.4.3)\n",
            "Requirement already satisfied: zipp>=0.5 in /usr/local/lib/python3.7/dist-packages (from importlib-metadata>=0.20; python_version < \"3.8\"->catalogue<1.1.0,>=0.0.7->spacy>=2.2.2->en_core_web_lg==2.2.5) (3.4.1)\n",
            "\u001b[38;5;2m✔ Download and installation successful\u001b[0m\n",
            "You can now load the model via spacy.load('en_core_web_lg')\n"
          ],
          "name": "stdout"
        }
      ]
    },
    {
      "cell_type": "code",
      "metadata": {
        "colab": {
          "base_uri": "https://localhost:8080/"
        },
        "id": "k6iJ_JsXroZY",
        "outputId": "9b7bf0cc-66ce-4a9c-8935-004d5a0d6190"
      },
      "source": [
        "import spacy\n",
        "\n",
        "nlp = spacy.load('en_core_web_lg')  # make sure to use larger package!\n",
        "doc1 = nlp(df.ques[1])\n",
        "doc2 = nlp(df.ch_a[1])\n",
        "doc3 = nlp(df.ch_b[1])\n",
        "doc4 = nlp(df.ch_c[1])\n",
        "doc5 = nlp(df.ch_d[1])\n",
        "doc6 = nlp(df.ch_e[1])\n",
        "\n",
        "\n",
        "\n",
        "# Similarity of two documents\n",
        "print(doc1, \"<->\", doc2, doc1.similarity(doc2))\n",
        "print(doc1, \"<->\", doc3, doc1.similarity(doc3))\n",
        "print(doc1, \"<->\", doc4, doc1.similarity(doc4))\n",
        "print(doc1, \"<->\", doc5, doc1.similarity(doc5))\n",
        "print(doc1, \"<->\", doc6, doc1.similarity(doc6))"
      ],
      "execution_count": 16,
      "outputs": [
        {
          "output_type": "stream",
          "text": [
            "Sammy wanted to go to where the people were.  Where might he go? <-> race track 0.5016555105213444\n",
            "Sammy wanted to go to where the people were.  Where might he go? <-> populated areas 0.4213782561167121\n",
            "Sammy wanted to go to where the people were.  Where might he go? <-> the desert 0.6109081264891498\n",
            "Sammy wanted to go to where the people were.  Where might he go? <-> apartment 0.3583721811057241\n",
            "Sammy wanted to go to where the people were.  Where might he go? <-> roadblock 0.15306034075432243\n"
          ],
          "name": "stdout"
        }
      ]
    },
    {
      "cell_type": "code",
      "metadata": {
        "id": "cBX_Movlv4bu"
      },
      "source": [
        "import random"
      ],
      "execution_count": 52,
      "outputs": []
    },
    {
      "cell_type": "markdown",
      "metadata": {
        "id": "70E5mAy0eYtS"
      },
      "source": [
        "## Answering the Questions using Doc (sequence of Token) similarity\n",
        "1. Randomly select a Question\n",
        "2. Compare similarity of Question with each Choice ( Answer )\n",
        "3. Predict one with Maximum Similarity score"
      ]
    },
    {
      "cell_type": "code",
      "metadata": {
        "colab": {
          "base_uri": "https://localhost:8080/"
        },
        "id": "UlamqorNvYFV",
        "outputId": "aa1806c3-2a5f-4d99-ca66-5c22f16be58d"
      },
      "source": [
        "for j in range(10):\n",
        "  i = random.randint(1,9000)\n",
        "  pred = []\n",
        "  print('*'*30)\n",
        "  print('Ques : ', df.ques[i])\n",
        "  ques = nlp(df.ques[i])\n",
        "  for j in range(5):\n",
        "    choice = nlp(df.iloc[i,3+j])\n",
        "    pred.append(ques.similarity(choice))\n",
        "  \n",
        "  m = max(pred)\n",
        "  #print(pred)\n",
        "  #print(pred.index(m))\n",
        "  print('Pred : ', df.iloc[i,3+pred.index(m)])\n",
        "  print('Actual : ',df.ans[i])\n",
        "\n"
      ],
      "execution_count": 55,
      "outputs": [
        {
          "output_type": "stream",
          "text": [
            "******************************\n",
            "Ques :  If something's weight isn't light, what is it?\n",
            "Pred :  heavy\n",
            "Actual :  heavy\n",
            "******************************\n",
            "Ques :  The knowledge was expensive to get, where was it being gained?\n",
            "Pred :  book\n",
            "Actual :  university\n",
            "******************************\n",
            "Ques :  The baker got a new delivery of sugar, he opened the bag and poured it in the storage what?\n",
            "Pred :  neighbor's house\n",
            "Actual :  container\n",
            "******************************\n",
            "Ques :  After loading up his plate with all the food, what did he look for to wash it all down?\n",
            "Pred :  falling down\n",
            "Actual :  cup\n",
            "******************************\n",
            "Ques :  Sitting down in a cushy chair will lead to what?\n",
            "Pred :  sitting\n",
            "Actual :  comfort\n",
            "******************************\n",
            "Ques :  The child dreaded fall and having to what?\n",
            "Pred :  go to school\n",
            "Actual :  go to school\n",
            "******************************\n",
            "Ques :  Where might a chess set outside get frozen?\n",
            "Pred :  toy store\n",
            "Actual :  michigan\n",
            "******************************\n",
            "Ques :  Where would you not be able to hear a telephone?\n",
            "Pred :  friend's house\n",
            "Actual :  party\n",
            "******************************\n",
            "Ques :  They may be out of bed, but for some they don't what until they eat breakfast?\n",
            "Pred :  wake up\n",
            "Actual :  wake up\n",
            "******************************\n",
            "Ques :  What might a saw be part?\n",
            "Pred :  tool shed\n",
            "Actual :  tool kit\n"
          ],
          "name": "stdout"
        }
      ]
    },
    {
      "cell_type": "code",
      "metadata": {
        "id": "qsbdf60XHu7f"
      },
      "source": [
        ""
      ],
      "execution_count": 69,
      "outputs": []
    }
  ]
}