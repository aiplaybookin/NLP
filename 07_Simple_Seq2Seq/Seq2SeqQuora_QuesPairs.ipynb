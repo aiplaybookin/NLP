{
  "nbformat": 4,
  "nbformat_minor": 0,
  "metadata": {
    "colab": {
      "name": "Seq2SeqQuora_QuesPairs.ipynb",
      "provenance": [],
      "collapsed_sections": []
    },
    "kernelspec": {
      "name": "python3",
      "display_name": "Python 3"
    },
    "language_info": {
      "name": "python"
    },
    "accelerator": "GPU"
  },
  "cells": [
    {
      "cell_type": "code",
      "metadata": {
        "colab": {
          "base_uri": "https://localhost:8080/"
        },
        "id": "7hKFBxmtARLx",
        "outputId": "c2146c8a-125b-4ce0-d523-5ac40cabcf5b"
      },
      "source": [
        "from google.colab import drive\n",
        "drive.mount('/content/gdrive')"
      ],
      "execution_count": 1,
      "outputs": [
        {
          "output_type": "stream",
          "text": [
            "Mounted at /content/gdrive\n"
          ],
          "name": "stdout"
        }
      ]
    },
    {
      "cell_type": "code",
      "metadata": {
        "colab": {
          "base_uri": "https://localhost:8080/"
        },
        "id": "2JZbVE9uAaMv",
        "outputId": "44cbbecc-6e34-497d-def5-4dde153818f4"
      },
      "source": [
        "!ls ./gdrive/MyDrive/NLP/"
      ],
      "execution_count": 2,
      "outputs": [
        {
          "output_type": "stream",
          "text": [
            "PracticeData  question2question1.pt  question2question.pt  tokenizer.pkl\n"
          ],
          "name": "stdout"
        }
      ]
    },
    {
      "cell_type": "code",
      "metadata": {
        "colab": {
          "base_uri": "https://localhost:8080/"
        },
        "id": "bantyuaJp0Kk",
        "outputId": "7acda204-4b97-4cd0-d832-7ce1aef9c3d9"
      },
      "source": [
        "!wget http://qim.fs.quoracdn.net/quora_duplicate_questions.tsv"
      ],
      "execution_count": 3,
      "outputs": [
        {
          "output_type": "stream",
          "text": [
            "--2021-06-23 10:42:21--  http://qim.fs.quoracdn.net/quora_duplicate_questions.tsv\n",
            "Resolving qim.fs.quoracdn.net (qim.fs.quoracdn.net)... 151.101.1.2, 151.101.65.2, 151.101.129.2, ...\n",
            "Connecting to qim.fs.quoracdn.net (qim.fs.quoracdn.net)|151.101.1.2|:80... connected.\n",
            "HTTP request sent, awaiting response... 200 OK\n",
            "Length: 58176133 (55M) [text/tab-separated-values]\n",
            "Saving to: ‘quora_duplicate_questions.tsv’\n",
            "\n",
            "quora_duplicate_que 100%[===================>]  55.48M   178MB/s    in 0.3s    \n",
            "\n",
            "2021-06-23 10:42:23 (178 MB/s) - ‘quora_duplicate_questions.tsv’ saved [58176133/58176133]\n",
            "\n"
          ],
          "name": "stdout"
        }
      ]
    },
    {
      "cell_type": "code",
      "metadata": {
        "id": "85loFem9qZqv"
      },
      "source": [
        "import pandas as pd"
      ],
      "execution_count": 4,
      "outputs": []
    },
    {
      "cell_type": "code",
      "metadata": {
        "colab": {
          "base_uri": "https://localhost:8080/",
          "height": 442
        },
        "id": "AvC9KcWAquIv",
        "outputId": "f83f4519-4514-4732-b465-c2dd8313e4fb"
      },
      "source": [
        "df = pd.read_csv(\"quora_duplicate_questions.tsv\", sep='\\t')\n",
        "print(df.shape)\n",
        "df"
      ],
      "execution_count": 5,
      "outputs": [
        {
          "output_type": "stream",
          "text": [
            "(404290, 6)\n"
          ],
          "name": "stdout"
        },
        {
          "output_type": "execute_result",
          "data": {
            "text/html": [
              "<div>\n",
              "<style scoped>\n",
              "    .dataframe tbody tr th:only-of-type {\n",
              "        vertical-align: middle;\n",
              "    }\n",
              "\n",
              "    .dataframe tbody tr th {\n",
              "        vertical-align: top;\n",
              "    }\n",
              "\n",
              "    .dataframe thead th {\n",
              "        text-align: right;\n",
              "    }\n",
              "</style>\n",
              "<table border=\"1\" class=\"dataframe\">\n",
              "  <thead>\n",
              "    <tr style=\"text-align: right;\">\n",
              "      <th></th>\n",
              "      <th>id</th>\n",
              "      <th>qid1</th>\n",
              "      <th>qid2</th>\n",
              "      <th>question1</th>\n",
              "      <th>question2</th>\n",
              "      <th>is_duplicate</th>\n",
              "    </tr>\n",
              "  </thead>\n",
              "  <tbody>\n",
              "    <tr>\n",
              "      <th>0</th>\n",
              "      <td>0</td>\n",
              "      <td>1</td>\n",
              "      <td>2</td>\n",
              "      <td>What is the step by step guide to invest in sh...</td>\n",
              "      <td>What is the step by step guide to invest in sh...</td>\n",
              "      <td>0</td>\n",
              "    </tr>\n",
              "    <tr>\n",
              "      <th>1</th>\n",
              "      <td>1</td>\n",
              "      <td>3</td>\n",
              "      <td>4</td>\n",
              "      <td>What is the story of Kohinoor (Koh-i-Noor) Dia...</td>\n",
              "      <td>What would happen if the Indian government sto...</td>\n",
              "      <td>0</td>\n",
              "    </tr>\n",
              "    <tr>\n",
              "      <th>2</th>\n",
              "      <td>2</td>\n",
              "      <td>5</td>\n",
              "      <td>6</td>\n",
              "      <td>How can I increase the speed of my internet co...</td>\n",
              "      <td>How can Internet speed be increased by hacking...</td>\n",
              "      <td>0</td>\n",
              "    </tr>\n",
              "    <tr>\n",
              "      <th>3</th>\n",
              "      <td>3</td>\n",
              "      <td>7</td>\n",
              "      <td>8</td>\n",
              "      <td>Why am I mentally very lonely? How can I solve...</td>\n",
              "      <td>Find the remainder when [math]23^{24}[/math] i...</td>\n",
              "      <td>0</td>\n",
              "    </tr>\n",
              "    <tr>\n",
              "      <th>4</th>\n",
              "      <td>4</td>\n",
              "      <td>9</td>\n",
              "      <td>10</td>\n",
              "      <td>Which one dissolve in water quikly sugar, salt...</td>\n",
              "      <td>Which fish would survive in salt water?</td>\n",
              "      <td>0</td>\n",
              "    </tr>\n",
              "    <tr>\n",
              "      <th>...</th>\n",
              "      <td>...</td>\n",
              "      <td>...</td>\n",
              "      <td>...</td>\n",
              "      <td>...</td>\n",
              "      <td>...</td>\n",
              "      <td>...</td>\n",
              "    </tr>\n",
              "    <tr>\n",
              "      <th>404285</th>\n",
              "      <td>404285</td>\n",
              "      <td>433578</td>\n",
              "      <td>379845</td>\n",
              "      <td>How many keywords are there in the Racket prog...</td>\n",
              "      <td>How many keywords are there in PERL Programmin...</td>\n",
              "      <td>0</td>\n",
              "    </tr>\n",
              "    <tr>\n",
              "      <th>404286</th>\n",
              "      <td>404286</td>\n",
              "      <td>18840</td>\n",
              "      <td>155606</td>\n",
              "      <td>Do you believe there is life after death?</td>\n",
              "      <td>Is it true that there is life after death?</td>\n",
              "      <td>1</td>\n",
              "    </tr>\n",
              "    <tr>\n",
              "      <th>404287</th>\n",
              "      <td>404287</td>\n",
              "      <td>537928</td>\n",
              "      <td>537929</td>\n",
              "      <td>What is one coin?</td>\n",
              "      <td>What's this coin?</td>\n",
              "      <td>0</td>\n",
              "    </tr>\n",
              "    <tr>\n",
              "      <th>404288</th>\n",
              "      <td>404288</td>\n",
              "      <td>537930</td>\n",
              "      <td>537931</td>\n",
              "      <td>What is the approx annual cost of living while...</td>\n",
              "      <td>I am having little hairfall problem but I want...</td>\n",
              "      <td>0</td>\n",
              "    </tr>\n",
              "    <tr>\n",
              "      <th>404289</th>\n",
              "      <td>404289</td>\n",
              "      <td>537932</td>\n",
              "      <td>537933</td>\n",
              "      <td>What is like to have sex with cousin?</td>\n",
              "      <td>What is it like to have sex with your cousin?</td>\n",
              "      <td>0</td>\n",
              "    </tr>\n",
              "  </tbody>\n",
              "</table>\n",
              "<p>404290 rows × 6 columns</p>\n",
              "</div>"
            ],
            "text/plain": [
              "            id  ...  is_duplicate\n",
              "0            0  ...             0\n",
              "1            1  ...             0\n",
              "2            2  ...             0\n",
              "3            3  ...             0\n",
              "4            4  ...             0\n",
              "...        ...  ...           ...\n",
              "404285  404285  ...             0\n",
              "404286  404286  ...             1\n",
              "404287  404287  ...             0\n",
              "404288  404288  ...             0\n",
              "404289  404289  ...             0\n",
              "\n",
              "[404290 rows x 6 columns]"
            ]
          },
          "metadata": {
            "tags": []
          },
          "execution_count": 5
        }
      ]
    },
    {
      "cell_type": "code",
      "metadata": {
        "id": "ny9d7bZhq7FO"
      },
      "source": [
        "import torch\n",
        "import torch.nn as nn\n",
        "import torch.optim as optim\n",
        "\n",
        "from torchtext.legacy.data import Field, BucketIterator, Example, Dataset\n",
        "\n",
        "import spacy\n",
        "import numpy as np\n",
        "\n",
        "import random\n",
        "import math\n",
        "import time"
      ],
      "execution_count": 6,
      "outputs": []
    },
    {
      "cell_type": "code",
      "metadata": {
        "id": "mBXk_I4ardVy"
      },
      "source": [
        "SEED = 1234\n",
        "\n",
        "random.seed(SEED)\n",
        "np.random.seed(SEED)\n",
        "torch.manual_seed(SEED)\n",
        "torch.cuda.manual_seed(SEED)\n",
        "torch.backends.cudnn.deterministic = True\n",
        "#!pip install spacy --upgrade"
      ],
      "execution_count": 7,
      "outputs": []
    },
    {
      "cell_type": "code",
      "metadata": {
        "id": "fjwCRxOrrgN_"
      },
      "source": [
        "def tokenize_en(text):\n",
        "    \"\"\"\n",
        "    Tokenizes English text from a string into a list of strings (tokens)\n",
        "    \"\"\"\n",
        "    return [tok.text for tok in spacy_en.tokenizer(text)]"
      ],
      "execution_count": 8,
      "outputs": []
    },
    {
      "cell_type": "code",
      "metadata": {
        "id": "AC-k6CB5vaci"
      },
      "source": [
        "spacy_en = spacy.load('en_core_web_sm')"
      ],
      "execution_count": 9,
      "outputs": []
    },
    {
      "cell_type": "code",
      "metadata": {
        "id": "vrmUrSGermrF"
      },
      "source": [
        "SRC = Field(tokenize = tokenize_en,\n",
        "            init_token = '<sos>', \n",
        "            eos_token = '<eos>', \n",
        "            lower = True,\n",
        "            include_lengths=True)\n",
        "\n",
        "TRG = Field(tokenize = tokenize_en, \n",
        "            init_token = '<sos>', \n",
        "            eos_token = '<eos>', \n",
        "            lower = True,\n",
        "            include_lengths=True)"
      ],
      "execution_count": 10,
      "outputs": []
    },
    {
      "cell_type": "code",
      "metadata": {
        "id": "IQ-habA5uWFz"
      },
      "source": [
        "fields = [('question1', SRC), ('question2', TRG)]"
      ],
      "execution_count": 11,
      "outputs": []
    },
    {
      "cell_type": "code",
      "metadata": {
        "colab": {
          "base_uri": "https://localhost:8080/"
        },
        "id": "_IiRIhESikVZ",
        "outputId": "53613308-c62b-4b32-c30c-467d69c44025"
      },
      "source": [
        "df.is_duplicate.value_counts()"
      ],
      "execution_count": 12,
      "outputs": [
        {
          "output_type": "execute_result",
          "data": {
            "text/plain": [
              "0    255027\n",
              "1    149263\n",
              "Name: is_duplicate, dtype: int64"
            ]
          },
          "metadata": {
            "tags": []
          },
          "execution_count": 12
        }
      ]
    },
    {
      "cell_type": "code",
      "metadata": {
        "id": "aWM-P1NY2PNd"
      },
      "source": [
        "# Taking sample fo dataset\n",
        "#df1 = df.iloc[:5000,:]\n",
        "#print(df1.shape)\n",
        "df = df[df['is_duplicate'] == 1]"
      ],
      "execution_count": 13,
      "outputs": []
    },
    {
      "cell_type": "code",
      "metadata": {
        "colab": {
          "base_uri": "https://localhost:8080/"
        },
        "id": "6wNuIK8AqzT5",
        "outputId": "a821c63e-14e8-4386-e2e7-1d7856bb7358"
      },
      "source": [
        "print(df.question1.value_counts())\n",
        "print(df.question1.apply(len) > 1)\n",
        "print(df.shape[0])"
      ],
      "execution_count": 14,
      "outputs": [
        {
          "output_type": "stream",
          "text": [
            "How do I improve my English speaking?                                                         50\n",
            "How does the ban on 500 and 1000 rupee notes helps to identify black money and corruption?    48\n",
            "How can changing 500 and 1000 rupee notes end the black money in India?                       47\n",
            "How do I improve my English language?                                                         47\n",
            "What should I do to earn money online?                                                        46\n",
            "                                                                                              ..\n",
            "How can you be a werewolf in real life?                                                        1\n",
            "Where can I find an efficient rubbish removal service?                                         1\n",
            "Why does Israel engage in aparthied?                                                           1\n",
            "Which is your favourite question and favourite answer on Quora?                                1\n",
            "What does 'dragon blood' do in \"Harry Potter\"?                                                 1\n",
            "Name: question1, Length: 86169, dtype: int64\n",
            "5         True\n",
            "7         True\n",
            "11        True\n",
            "12        True\n",
            "13        True\n",
            "          ... \n",
            "404280    True\n",
            "404281    True\n",
            "404282    True\n",
            "404284    True\n",
            "404286    True\n",
            "Name: question1, Length: 149263, dtype: bool\n",
            "149263\n"
          ],
          "name": "stdout"
        }
      ]
    },
    {
      "cell_type": "code",
      "metadata": {
        "id": "9qU9NqBik8Ou"
      },
      "source": [
        "df.reset_index(inplace=True, drop=True)"
      ],
      "execution_count": 15,
      "outputs": []
    },
    {
      "cell_type": "code",
      "metadata": {
        "colab": {
          "base_uri": "https://localhost:8080/",
          "height": 206
        },
        "id": "Z1fYqHbtkcCt",
        "outputId": "01080daa-19dd-4bdb-e805-1eb0100fe204"
      },
      "source": [
        "df.head()"
      ],
      "execution_count": 16,
      "outputs": [
        {
          "output_type": "execute_result",
          "data": {
            "text/html": [
              "<div>\n",
              "<style scoped>\n",
              "    .dataframe tbody tr th:only-of-type {\n",
              "        vertical-align: middle;\n",
              "    }\n",
              "\n",
              "    .dataframe tbody tr th {\n",
              "        vertical-align: top;\n",
              "    }\n",
              "\n",
              "    .dataframe thead th {\n",
              "        text-align: right;\n",
              "    }\n",
              "</style>\n",
              "<table border=\"1\" class=\"dataframe\">\n",
              "  <thead>\n",
              "    <tr style=\"text-align: right;\">\n",
              "      <th></th>\n",
              "      <th>id</th>\n",
              "      <th>qid1</th>\n",
              "      <th>qid2</th>\n",
              "      <th>question1</th>\n",
              "      <th>question2</th>\n",
              "      <th>is_duplicate</th>\n",
              "    </tr>\n",
              "  </thead>\n",
              "  <tbody>\n",
              "    <tr>\n",
              "      <th>0</th>\n",
              "      <td>5</td>\n",
              "      <td>11</td>\n",
              "      <td>12</td>\n",
              "      <td>Astrology: I am a Capricorn Sun Cap moon and c...</td>\n",
              "      <td>I'm a triple Capricorn (Sun, Moon and ascendan...</td>\n",
              "      <td>1</td>\n",
              "    </tr>\n",
              "    <tr>\n",
              "      <th>1</th>\n",
              "      <td>7</td>\n",
              "      <td>15</td>\n",
              "      <td>16</td>\n",
              "      <td>How can I be a good geologist?</td>\n",
              "      <td>What should I do to be a great geologist?</td>\n",
              "      <td>1</td>\n",
              "    </tr>\n",
              "    <tr>\n",
              "      <th>2</th>\n",
              "      <td>11</td>\n",
              "      <td>23</td>\n",
              "      <td>24</td>\n",
              "      <td>How do I read and find my YouTube comments?</td>\n",
              "      <td>How can I see all my Youtube comments?</td>\n",
              "      <td>1</td>\n",
              "    </tr>\n",
              "    <tr>\n",
              "      <th>3</th>\n",
              "      <td>12</td>\n",
              "      <td>25</td>\n",
              "      <td>26</td>\n",
              "      <td>What can make Physics easy to learn?</td>\n",
              "      <td>How can you make physics easy to learn?</td>\n",
              "      <td>1</td>\n",
              "    </tr>\n",
              "    <tr>\n",
              "      <th>4</th>\n",
              "      <td>13</td>\n",
              "      <td>27</td>\n",
              "      <td>28</td>\n",
              "      <td>What was your first sexual experience like?</td>\n",
              "      <td>What was your first sexual experience?</td>\n",
              "      <td>1</td>\n",
              "    </tr>\n",
              "  </tbody>\n",
              "</table>\n",
              "</div>"
            ],
            "text/plain": [
              "   id  qid1  ...                                          question2 is_duplicate\n",
              "0   5    11  ...  I'm a triple Capricorn (Sun, Moon and ascendan...            1\n",
              "1   7    15  ...          What should I do to be a great geologist?            1\n",
              "2  11    23  ...             How can I see all my Youtube comments?            1\n",
              "3  12    25  ...            How can you make physics easy to learn?            1\n",
              "4  13    27  ...             What was your first sexual experience?            1\n",
              "\n",
              "[5 rows x 6 columns]"
            ]
          },
          "metadata": {
            "tags": []
          },
          "execution_count": 16
        }
      ]
    },
    {
      "cell_type": "code",
      "metadata": {
        "colab": {
          "base_uri": "https://localhost:8080/"
        },
        "id": "bsP0jztAnAQH",
        "outputId": "dd72aa62-d3e3-4d84-d657-1d110883c291"
      },
      "source": [
        "df.info()"
      ],
      "execution_count": 17,
      "outputs": [
        {
          "output_type": "stream",
          "text": [
            "<class 'pandas.core.frame.DataFrame'>\n",
            "RangeIndex: 149263 entries, 0 to 149262\n",
            "Data columns (total 6 columns):\n",
            " #   Column        Non-Null Count   Dtype \n",
            "---  ------        --------------   ----- \n",
            " 0   id            149263 non-null  int64 \n",
            " 1   qid1          149263 non-null  int64 \n",
            " 2   qid2          149263 non-null  int64 \n",
            " 3   question1     149263 non-null  object\n",
            " 4   question2     149263 non-null  object\n",
            " 5   is_duplicate  149263 non-null  int64 \n",
            "dtypes: int64(4), object(2)\n",
            "memory usage: 6.8+ MB\n"
          ],
          "name": "stdout"
        }
      ]
    },
    {
      "cell_type": "code",
      "metadata": {
        "id": "d8w4JTYxulCS"
      },
      "source": [
        "example = [Example.fromlist([str(df.question1[i]), str(df.question2[i])], fields) for i in range(df.shape[0])]"
      ],
      "execution_count": 18,
      "outputs": []
    },
    {
      "cell_type": "code",
      "metadata": {
        "id": "fDzIDiE4vKKP"
      },
      "source": [
        "quoraDataset = Dataset(example, fields)"
      ],
      "execution_count": 19,
      "outputs": []
    },
    {
      "cell_type": "code",
      "metadata": {
        "id": "caDXg78kxwnM"
      },
      "source": [
        "(train, test) = quoraDataset.split(split_ratio=[0.70, 0.30], random_state=random.seed(SEED))"
      ],
      "execution_count": 20,
      "outputs": []
    },
    {
      "cell_type": "code",
      "metadata": {
        "colab": {
          "base_uri": "https://localhost:8080/"
        },
        "id": "R-p_KLQDx3rO",
        "outputId": "74aea144-b301-4b10-b990-2a8132b329a9"
      },
      "source": [
        "print(f\"Number of training examples: {len(train.examples)}\")\n",
        "print(f\"Number of validation examples: {len(test.examples)}\")"
      ],
      "execution_count": 21,
      "outputs": [
        {
          "output_type": "stream",
          "text": [
            "Number of training examples: 104484\n",
            "Number of validation examples: 44779\n"
          ],
          "name": "stdout"
        }
      ]
    },
    {
      "cell_type": "code",
      "metadata": {
        "colab": {
          "base_uri": "https://localhost:8080/"
        },
        "id": "ladEex6I5ore",
        "outputId": "61db1026-6ce8-4064-dce7-e7540ce722c9"
      },
      "source": [
        "print(vars(train.examples[0]))"
      ],
      "execution_count": 22,
      "outputs": [
        {
          "output_type": "stream",
          "text": [
            "{'question1': ['what', 'are', 'the', 'most', 'intellectually', 'stimulating', 'movies', 'you', 'have', 'ever', 'seen', '?'], 'question2': ['what', 'are', 'the', 'most', 'intellectually', 'stimulating', 'films', 'you', 'have', 'ever', 'watched', '?']}\n"
          ],
          "name": "stdout"
        }
      ]
    },
    {
      "cell_type": "code",
      "metadata": {
        "id": "airwTeVf5tWe"
      },
      "source": [
        "SRC.build_vocab(train, min_freq = 2)\n",
        "TRG.build_vocab(train, min_freq = 2)"
      ],
      "execution_count": 23,
      "outputs": []
    },
    {
      "cell_type": "code",
      "metadata": {
        "colab": {
          "base_uri": "https://localhost:8080/"
        },
        "id": "W_xEho0uyB3b",
        "outputId": "9442d96a-b6bb-4778-f579-d95c7e3d7367"
      },
      "source": [
        "print(f\"Unique tokens in source (de) vocabulary: {len(SRC.vocab)}\")\n",
        "print(f\"Unique tokens in target (en) vocabulary: {len(TRG.vocab)}\")"
      ],
      "execution_count": 24,
      "outputs": [
        {
          "output_type": "stream",
          "text": [
            "Unique tokens in source (de) vocabulary: 14522\n",
            "Unique tokens in target (en) vocabulary: 14469\n"
          ],
          "name": "stdout"
        }
      ]
    },
    {
      "cell_type": "code",
      "metadata": {
        "id": "AXjm3RyFyQJk"
      },
      "source": [
        "device = torch.device('cuda' if torch.cuda.is_available() else 'cpu')"
      ],
      "execution_count": 25,
      "outputs": []
    },
    {
      "cell_type": "code",
      "metadata": {
        "id": "lD9_xk_dyQ4Y"
      },
      "source": [
        "BATCH_SIZE = 64\n",
        "\n",
        "train_iterator, test_iterator = BucketIterator.splits(\n",
        "    (train, test), \n",
        "    batch_size = BATCH_SIZE, \n",
        "    sort_key = lambda x: len(x.question1),\n",
        "    sort_within_batch=True, \n",
        "    device = device)"
      ],
      "execution_count": 26,
      "outputs": []
    },
    {
      "cell_type": "code",
      "metadata": {
        "id": "mKfNIDewOd6F"
      },
      "source": [
        "#SRC.vocab.stoi"
      ],
      "execution_count": 27,
      "outputs": []
    },
    {
      "cell_type": "code",
      "metadata": {
        "id": "YQlExBiUOZ72"
      },
      "source": [
        "import os, pickle\n",
        "with open(F\"./gdrive/MyDrive/NLP/tokenizer.pkl\", 'wb') as tokens:\n",
        "  pickle.dump( SRC.vocab.stoi, tokens)"
      ],
      "execution_count": 28,
      "outputs": []
    },
    {
      "cell_type": "markdown",
      "metadata": {
        "id": "zqeKSNVjV51E"
      },
      "source": [
        "# Final Implementation"
      ]
    },
    {
      "cell_type": "code",
      "metadata": {
        "id": "1SsiGjE5yca-"
      },
      "source": [
        "class Encoder(nn.Module):\n",
        "    def __init__(self, input_dim, emb_dim, hid_dim, n_layers, dropout):\n",
        "        super().__init__()\n",
        "        \n",
        "        self.hid_dim = hid_dim\n",
        "        self.n_layers = n_layers\n",
        "        \n",
        "        self.embedding = nn.Embedding(input_dim, emb_dim)\n",
        "        \n",
        "        self.rnn = nn.LSTM(emb_dim, hid_dim, n_layers, dropout = dropout)\n",
        "        \n",
        "        self.dropout = nn.Dropout(dropout)\n",
        "        \n",
        "    def forward(self, src):\n",
        "        \n",
        "        #src = [src len, batch size]\n",
        "        \n",
        "        embedded = self.dropout(self.embedding(src))\n",
        "        #embedded = [src len, batch size, emb dim]\n",
        "\n",
        "        outputs, (hidden, cell) = self.rnn(embedded)        \n",
        "\n",
        "        #outputs = [src len, batch size, hid dim * n directions]\n",
        "        #hidden = [n layers * n directions, batch size, hid dim]\n",
        "        #cell = [n layers * n directions, batch size, hid dim]\n",
        "        \n",
        "        #outputs are always from the top hidden layer\n",
        "        \n",
        "        return hidden, cell"
      ],
      "execution_count": 29,
      "outputs": []
    },
    {
      "cell_type": "code",
      "metadata": {
        "id": "krusrjV_8y0F"
      },
      "source": [
        "class Decoder(nn.Module):\n",
        "    def __init__(self, output_dim, emb_dim, hid_dim, n_layers, dropout):\n",
        "        super().__init__()\n",
        "        \n",
        "        self.output_dim = output_dim\n",
        "        self.hid_dim = hid_dim\n",
        "        self.n_layers = n_layers\n",
        "        \n",
        "        self.embedding = nn.Embedding(output_dim, emb_dim)\n",
        "        \n",
        "        self.rnn = nn.LSTM(emb_dim, hid_dim, n_layers, dropout = dropout)\n",
        "        \n",
        "        self.fc_out = nn.Linear(hid_dim, output_dim)\n",
        "        \n",
        "        self.dropout = nn.Dropout(dropout)\n",
        "        \n",
        "    def forward(self, input, hidden, cell):\n",
        "        \n",
        "        #input = [batch size]\n",
        "        #hidden = [n layers * n directions, batch  size, hid dim]\n",
        "        #cell = [n layers * n directions, batch size, hid dim]\n",
        "        \n",
        "        #n directions in the decoder will both always be 1, therefore:\n",
        "        #hidden = [n layers, batch size, hid dim]\n",
        "        #context = [n layers, batch size, hid dim]\n",
        "        \n",
        "        input = input.unsqueeze(0)\n",
        "        \n",
        "        #input = [1, batch size]\n",
        "        \n",
        "        embedded = self.dropout(self.embedding(input))\n",
        "        \n",
        "        #embedded = [1, batch size, emb dim]\n",
        "                \n",
        "        output, (hidden, cell) = self.rnn(embedded, (hidden, cell))\n",
        "        \n",
        "        #output = [seq len, batch size, hid dim * n directions]\n",
        "        #hidden = [n layers * n directions, batch size, hid dim]\n",
        "        #cell = [n layers * n directions, batch size, hid dim]\n",
        "        \n",
        "        #seq len and n directions will always be 1 in the decoder, therefore:\n",
        "        #output = [1, batch size, hid dim]\n",
        "        #hidden = [n layers, batch size, hid dim]\n",
        "        #cell = [n layers, batch size, hid dim]\n",
        "        \n",
        "        prediction = self.fc_out(output.squeeze(0))\n",
        "        \n",
        "        #prediction = [batch size, output dim]\n",
        "        \n",
        "        return prediction, hidden, cell"
      ],
      "execution_count": 30,
      "outputs": []
    },
    {
      "cell_type": "code",
      "metadata": {
        "id": "72FCbncU86eL"
      },
      "source": [
        "class Seq2Seq(nn.Module):\n",
        "    def __init__(self, encoder, decoder, device):\n",
        "        super().__init__()\n",
        "        \n",
        "        self.encoder = encoder\n",
        "        self.decoder = decoder\n",
        "        self.device = device\n",
        "        \n",
        "        assert encoder.hid_dim == decoder.hid_dim, \\\n",
        "            \"Hidden dimensions of encoder and decoder must be equal!\"\n",
        "        assert encoder.n_layers == decoder.n_layers, \\\n",
        "            \"Encoder and decoder must have equal number of layers!\"\n",
        "\n",
        "    def forward(self, src, trg, teacher_forcing_ratio = 0.5):\n",
        "        \n",
        "        #src = [src len, batch size]\n",
        "        #trg = [trg len, batch size]\n",
        "        #teacher_forcing_ratio is probability to use teacher forcing\n",
        "        #e.g. if teacher_forcing_ratio is 0.75 we use ground-truth inputs 75% of the time\n",
        "        \n",
        "        batch_size = trg.shape[1]\n",
        "        trg_len = trg.shape[0]\n",
        "        trg_vocab_size = self.decoder.output_dim\n",
        "        \n",
        "        #tensor to store decoder outputs\n",
        "        outputs = torch.zeros(trg_len, batch_size, trg_vocab_size).to(self.device)\n",
        "        \n",
        "        #last hidden state of the encoder is used as the initial hidden state of the decoder\n",
        "        hidden, cell = self.encoder(src)\n",
        "        \n",
        "        #first input to the decoder is the <sos> tokens\n",
        "        input = trg[0,:]\n",
        "        \n",
        "        for t in range(1, trg_len):\n",
        "            \n",
        "            #insert input token embedding, previous hidden and previous cell states\n",
        "            #receive output tensor (predictions) and new hidden and cell states\n",
        "            output, hidden, cell = self.decoder(input, hidden, cell)\n",
        "            \n",
        "            #place predictions in a tensor holding predictions for each token\n",
        "            outputs[t] = output\n",
        "            \n",
        "            #decide if we are going to use teacher forcing or not\n",
        "            teacher_force = random.random() < teacher_forcing_ratio\n",
        "            \n",
        "            #get the highest predicted token from our predictions\n",
        "            top1 = output.argmax(1) \n",
        "            \n",
        "            #if teacher forcing, use actual next token as next input\n",
        "            #if not, use predicted token\n",
        "            input = trg[t] if teacher_force else top1\n",
        "        \n",
        "        return outputs"
      ],
      "execution_count": 31,
      "outputs": []
    },
    {
      "cell_type": "code",
      "metadata": {
        "id": "Jr2yXqIc88VY"
      },
      "source": [
        "INPUT_DIM = len(SRC.vocab)\n",
        "OUTPUT_DIM = len(TRG.vocab)\n",
        "ENC_EMB_DIM = 256\n",
        "DEC_EMB_DIM = 256\n",
        "HID_DIM = 512\n",
        "N_LAYERS = 2\n",
        "ENC_DROPOUT = 0.5\n",
        "DEC_DROPOUT = 0.5\n",
        "\n",
        "enc = Encoder(INPUT_DIM, ENC_EMB_DIM, HID_DIM, N_LAYERS, ENC_DROPOUT)\n",
        "dec = Decoder(OUTPUT_DIM, DEC_EMB_DIM, HID_DIM, N_LAYERS, DEC_DROPOUT)\n",
        "\n",
        "model = Seq2Seq(enc, dec, device).to(device)"
      ],
      "execution_count": 32,
      "outputs": []
    },
    {
      "cell_type": "code",
      "metadata": {
        "colab": {
          "base_uri": "https://localhost:8080/"
        },
        "id": "mrzgi4Ic8-6K",
        "outputId": "6b3d4d2a-42ee-4e76-f545-cb1124f4e8ce"
      },
      "source": [
        "def init_weights(m):\n",
        "    for name, param in m.named_parameters():\n",
        "        nn.init.uniform_(param.data, -0.08, 0.08)\n",
        "        \n",
        "model.apply(init_weights)"
      ],
      "execution_count": 33,
      "outputs": [
        {
          "output_type": "execute_result",
          "data": {
            "text/plain": [
              "Seq2Seq(\n",
              "  (encoder): Encoder(\n",
              "    (embedding): Embedding(14522, 256)\n",
              "    (rnn): LSTM(256, 512, num_layers=2, dropout=0.5)\n",
              "    (dropout): Dropout(p=0.5, inplace=False)\n",
              "  )\n",
              "  (decoder): Decoder(\n",
              "    (embedding): Embedding(14469, 256)\n",
              "    (rnn): LSTM(256, 512, num_layers=2, dropout=0.5)\n",
              "    (fc_out): Linear(in_features=512, out_features=14469, bias=True)\n",
              "    (dropout): Dropout(p=0.5, inplace=False)\n",
              "  )\n",
              ")"
            ]
          },
          "metadata": {
            "tags": []
          },
          "execution_count": 33
        }
      ]
    },
    {
      "cell_type": "code",
      "metadata": {
        "colab": {
          "base_uri": "https://localhost:8080/"
        },
        "id": "zgGfDjLo9A_W",
        "outputId": "876e44eb-b0d3-4379-8dac-d51cdd7a579a"
      },
      "source": [
        "def count_parameters(model):\n",
        "    return sum(p.numel() for p in model.parameters() if p.requires_grad)\n",
        "\n",
        "print(f'The model has {count_parameters(model):,} trainable parameters')"
      ],
      "execution_count": 34,
      "outputs": [
        {
          "output_type": "stream",
          "text": [
            "The model has 22,200,709 trainable parameters\n"
          ],
          "name": "stdout"
        }
      ]
    },
    {
      "cell_type": "code",
      "metadata": {
        "id": "Lk7taZQc9EsQ"
      },
      "source": [
        "optimizer = optim.Adam(model.parameters(), lr=2e-4)"
      ],
      "execution_count": 35,
      "outputs": []
    },
    {
      "cell_type": "code",
      "metadata": {
        "id": "gCj1_zCI9F87"
      },
      "source": [
        "TRG_PAD_IDX = TRG.vocab.stoi[TRG.pad_token]\n",
        "\n",
        "criterion = nn.CrossEntropyLoss(ignore_index = TRG_PAD_IDX)"
      ],
      "execution_count": 36,
      "outputs": []
    },
    {
      "cell_type": "code",
      "metadata": {
        "id": "vrBu_mGE9G74"
      },
      "source": [
        "def train(model, iterator, optimizer, criterion, clip):\n",
        "    \n",
        "    model.train()\n",
        "    \n",
        "    epoch_loss = 0\n",
        "    \n",
        "    for i, batch in enumerate(iterator):\n",
        "        \n",
        "        src, slen = batch.question1\n",
        "        trg, tlen = batch.question2\n",
        "        \n",
        "        optimizer.zero_grad()\n",
        "        \n",
        "        output = model(src, trg)\n",
        "        \n",
        "        #trg = [trg len, batch size]\n",
        "        #output = [trg len, batch size, output dim]\n",
        "        \n",
        "        output_dim = output.shape[-1]\n",
        "        \n",
        "        output = output[1:].view(-1, output_dim)\n",
        "        trg = trg[1:].view(-1)\n",
        "        \n",
        "        #trg = [(trg len - 1) * batch size]\n",
        "        #output = [(trg len - 1) * batch size, output dim]\n",
        "        \n",
        "        loss = criterion(output, trg)\n",
        "        \n",
        "        loss.backward()\n",
        "        \n",
        "        torch.nn.utils.clip_grad_norm_(model.parameters(), clip)\n",
        "        \n",
        "        optimizer.step()\n",
        "        \n",
        "        epoch_loss += loss.item()\n",
        "        \n",
        "    return epoch_loss / len(iterator)"
      ],
      "execution_count": 37,
      "outputs": []
    },
    {
      "cell_type": "code",
      "metadata": {
        "id": "eBwuinnH9OYW"
      },
      "source": [
        "def evaluate(model, iterator, criterion):\n",
        "    \n",
        "    model.eval()\n",
        "    \n",
        "    epoch_loss = 0\n",
        "    \n",
        "    with torch.no_grad():\n",
        "    \n",
        "        for i, batch in enumerate(iterator):\n",
        "\n",
        "            src, slen = batch.question1\n",
        "            trg, tlen = batch.question2\n",
        "\n",
        "            output = model(src, trg, 0) #turn off teacher forcing\n",
        "\n",
        "            #trg = [trg len, batch size]\n",
        "            #output = [trg len, batch size, output dim]\n",
        "\n",
        "            output_dim = output.shape[-1]\n",
        "            \n",
        "            output = output[1:].view(-1, output_dim)\n",
        "            trg = trg[1:].view(-1)\n",
        "\n",
        "            #trg = [(trg len - 1) * batch size]\n",
        "            #output = [(trg len - 1) * batch size, output dim]\n",
        "\n",
        "            loss = criterion(output, trg)\n",
        "            \n",
        "            epoch_loss += loss.item()\n",
        "        \n",
        "    return epoch_loss / len(iterator)"
      ],
      "execution_count": 38,
      "outputs": []
    },
    {
      "cell_type": "code",
      "metadata": {
        "id": "L8aMTZVB9Qji"
      },
      "source": [
        "def epoch_time(start_time, end_time):\n",
        "    elapsed_time = end_time - start_time\n",
        "    elapsed_mins = int(elapsed_time / 60)\n",
        "    elapsed_secs = int(elapsed_time - (elapsed_mins * 60))\n",
        "    return elapsed_mins, elapsed_secs"
      ],
      "execution_count": 39,
      "outputs": []
    },
    {
      "cell_type": "code",
      "metadata": {
        "colab": {
          "base_uri": "https://localhost:8080/"
        },
        "id": "Ta9VB5319S2o",
        "outputId": "4a192f8b-9662-4243-fe8e-63452c17b021"
      },
      "source": [
        "N_EPOCHS = 22\n",
        "CLIP = 1\n",
        "\n",
        "trainLoss = []\n",
        "testLoss = []\n",
        "\n",
        "best_test_loss = float('inf')\n",
        "model_save_name = 'question2question1.pt'\n",
        "path = F\"./gdrive/MyDrive/NLP/{model_save_name}\" \n",
        "\n",
        "for epoch in range(N_EPOCHS):\n",
        "    \n",
        "    start_time = time.time()\n",
        "    \n",
        "    train_loss = train(model, train_iterator, optimizer, criterion, CLIP)\n",
        "    test_loss = evaluate(model, test_iterator, criterion)\n",
        "    \n",
        "    end_time = time.time()\n",
        "    \n",
        "    epoch_mins, epoch_secs = epoch_time(start_time, end_time)\n",
        "    \n",
        "    if test_loss < best_test_loss:\n",
        "        best_test_loss = test_loss\n",
        "        torch.save(model.state_dict(), path) \n",
        "    \n",
        "    print(f'Epoch: {epoch+1:02} | Time: {epoch_mins}m {epoch_secs}s')\n",
        "    print(f'\\tTrain Loss: {train_loss:.3f} | Train PPL: {math.exp(train_loss):7.3f}')\n",
        "    print(f'\\t Test Loss: {test_loss:.3f} |   Test PPL: {math.exp(test_loss):7.3f}')\n",
        "\n",
        "    trainLoss.append(train_loss)\n",
        "    testLoss.append(test_loss)\n"
      ],
      "execution_count": 40,
      "outputs": [
        {
          "output_type": "stream",
          "text": [
            "Epoch: 01 | Time: 4m 36s\n",
            "\tTrain Loss: 5.004 | Train PPL: 148.934\n",
            "\t Test Loss: 4.777 |   Test PPL: 118.765\n",
            "Epoch: 02 | Time: 4m 35s\n",
            "\tTrain Loss: 4.235 | Train PPL:  69.060\n",
            "\t Test Loss: 4.378 |   Test PPL:  79.655\n",
            "Epoch: 03 | Time: 4m 36s\n",
            "\tTrain Loss: 3.834 | Train PPL:  46.235\n",
            "\t Test Loss: 4.164 |   Test PPL:  64.343\n",
            "Epoch: 04 | Time: 4m 36s\n",
            "\tTrain Loss: 3.554 | Train PPL:  34.939\n",
            "\t Test Loss: 4.018 |   Test PPL:  55.574\n",
            "Epoch: 05 | Time: 4m 37s\n",
            "\tTrain Loss: 3.355 | Train PPL:  28.652\n",
            "\t Test Loss: 3.907 |   Test PPL:  49.737\n",
            "Epoch: 06 | Time: 4m 36s\n",
            "\tTrain Loss: 3.190 | Train PPL:  24.281\n",
            "\t Test Loss: 3.837 |   Test PPL:  46.374\n",
            "Epoch: 07 | Time: 4m 33s\n",
            "\tTrain Loss: 3.061 | Train PPL:  21.358\n",
            "\t Test Loss: 3.767 |   Test PPL:  43.241\n",
            "Epoch: 08 | Time: 4m 35s\n",
            "\tTrain Loss: 2.934 | Train PPL:  18.808\n",
            "\t Test Loss: 3.703 |   Test PPL:  40.564\n",
            "Epoch: 09 | Time: 4m 33s\n",
            "\tTrain Loss: 2.832 | Train PPL:  16.984\n",
            "\t Test Loss: 3.651 |   Test PPL:  38.511\n",
            "Epoch: 10 | Time: 4m 34s\n",
            "\tTrain Loss: 2.742 | Train PPL:  15.523\n",
            "\t Test Loss: 3.643 |   Test PPL:  38.196\n",
            "Epoch: 11 | Time: 4m 33s\n",
            "\tTrain Loss: 2.662 | Train PPL:  14.323\n",
            "\t Test Loss: 3.625 |   Test PPL:  37.517\n",
            "Epoch: 12 | Time: 4m 33s\n",
            "\tTrain Loss: 2.586 | Train PPL:  13.274\n",
            "\t Test Loss: 3.582 |   Test PPL:  35.952\n",
            "Epoch: 13 | Time: 4m 33s\n",
            "\tTrain Loss: 2.534 | Train PPL:  12.603\n",
            "\t Test Loss: 3.548 |   Test PPL:  34.736\n",
            "Epoch: 14 | Time: 4m 33s\n",
            "\tTrain Loss: 2.459 | Train PPL:  11.689\n",
            "\t Test Loss: 3.559 |   Test PPL:  35.144\n",
            "Epoch: 15 | Time: 4m 33s\n",
            "\tTrain Loss: 2.405 | Train PPL:  11.081\n",
            "\t Test Loss: 3.548 |   Test PPL:  34.745\n",
            "Epoch: 16 | Time: 4m 33s\n",
            "\tTrain Loss: 2.357 | Train PPL:  10.556\n",
            "\t Test Loss: 3.532 |   Test PPL:  34.195\n",
            "Epoch: 17 | Time: 4m 33s\n",
            "\tTrain Loss: 2.309 | Train PPL:  10.064\n",
            "\t Test Loss: 3.516 |   Test PPL:  33.642\n",
            "Epoch: 18 | Time: 4m 33s\n",
            "\tTrain Loss: 2.256 | Train PPL:   9.542\n",
            "\t Test Loss: 3.513 |   Test PPL:  33.558\n",
            "Epoch: 19 | Time: 4m 34s\n",
            "\tTrain Loss: 2.205 | Train PPL:   9.073\n",
            "\t Test Loss: 3.539 |   Test PPL:  34.438\n",
            "Epoch: 20 | Time: 4m 33s\n",
            "\tTrain Loss: 2.170 | Train PPL:   8.754\n",
            "\t Test Loss: 3.509 |   Test PPL:  33.404\n",
            "Epoch: 21 | Time: 4m 34s\n",
            "\tTrain Loss: 2.137 | Train PPL:   8.475\n",
            "\t Test Loss: 3.505 |   Test PPL:  33.269\n",
            "Epoch: 22 | Time: 4m 33s\n",
            "\tTrain Loss: 2.095 | Train PPL:   8.129\n",
            "\t Test Loss: 3.525 |   Test PPL:  33.955\n"
          ],
          "name": "stdout"
        }
      ]
    },
    {
      "cell_type": "code",
      "metadata": {
        "id": "mFDGrhyH9ubE",
        "colab": {
          "base_uri": "https://localhost:8080/"
        },
        "outputId": "8ec56e1a-157f-43a2-e671-6fe13c04bfcc"
      },
      "source": [
        "model.load_state_dict(torch.load(path))\n",
        "\n",
        "test_loss = evaluate(model, test_iterator, criterion)\n",
        "\n",
        "print(f'| Test Loss: {test_loss:.3f} | Test PPL: {math.exp(test_loss):7.3f} |')"
      ],
      "execution_count": 41,
      "outputs": [
        {
          "output_type": "stream",
          "text": [
            "| Test Loss: 3.505 | Test PPL:  33.269 |\n"
          ],
          "name": "stdout"
        }
      ]
    },
    {
      "cell_type": "code",
      "metadata": {
        "colab": {
          "base_uri": "https://localhost:8080/",
          "height": 295
        },
        "id": "rhntVJeDO7R_",
        "outputId": "4bcae509-1381-4c89-b2b3-4ff077c8557e"
      },
      "source": [
        "# Plotting metrics to see how model as learned and loss decreased\n",
        "import numpy as np\n",
        "import matplotlib.pyplot as plt\n",
        "\n",
        "plt.plot(range(N_EPOCHS), np.exp(trainLoss), marker='o')\n",
        "plt.plot(range(N_EPOCHS), np.exp(testLoss), marker = 'x')\n",
        "plt.xlabel(\"Epoch\")\n",
        "plt.ylabel(\"Loss\")\n",
        "plt.legend([\"Train Loss\", \"Test Loss\"])\n",
        "plt.title(\"Per-word perplexity Loss (e^loss)\")\n",
        "#plt.ylim([0,1.5])\n",
        "plt.show()"
      ],
      "execution_count": 42,
      "outputs": [
        {
          "output_type": "display_data",
          "data": {
            "image/png": "[encoded data removed]",
            "text/plain": [
              "<Figure size 432x288 with 1 Axes>"
            ]
          },
          "metadata": {
            "tags": [],
            "needs_background": "light"
          }
        }
      ]
    },
    {
      "cell_type": "code",
      "metadata": {
        "id": "CpDrh9PAnNeO"
      },
      "source": [
        "import os, pickle\n",
        "import spacy\n",
        "\n",
        "nlp = spacy.load('en')\n",
        "\n",
        "device = torch.device('cuda' if torch.cuda.is_available() else 'cpu')"
      ],
      "execution_count": 43,
      "outputs": []
    },
    {
      "cell_type": "code",
      "metadata": {
        "id": "G7Af2_gqEciW"
      },
      "source": [
        "def rephraseQuestion(ques, SRC, TRG, model, maxLength = 100):\n",
        "  model.eval()\n",
        "\n",
        "  # tokenize\n",
        "  tokenized = [tok.text.lower() for tok in nlp.tokenizer(ques)] \n",
        "  #print('tokenized: ', tokenized)\n",
        "\n",
        "  # add <sos> and add <eos>\n",
        "  tokenized = ['<sos>'] + tokenized + ['<eos>']\n",
        "  #print('tokenized: ', tokenized)\n",
        "\n",
        "  # convert to integer sequence using predefined tokenizer dictionary\n",
        "  indexed = [SRC.vocab.stoi[t] for t in tokenized]        \n",
        "  #print('indexed: ', indexed)\n",
        "\n",
        "  # compute no. of words        \n",
        "  length = [len(indexed)]\n",
        "  #print('length : ', length)\n",
        "\n",
        "  # convert to tensor                                    \n",
        "  tensor = torch.LongTensor(indexed).to(device)   \n",
        "  #print('tensor shape: ', tensor.shape)\n",
        "\n",
        "  # reshape in form of batch, no. of words           \n",
        "  tensor = tensor.unsqueeze(1) \n",
        "  #print('tensor shape: ', tensor.shape)\n",
        "\n",
        "\n",
        "  with torch.no_grad():\n",
        "    hidden, cell = model.encoder(tensor)\n",
        "\n",
        "  #first input to the decoder is the <sos> tokens\n",
        "  trg_indexes = [TRG.vocab.stoi[TRG.init_token]]\n",
        "\n",
        "  for t in range(1, maxLength):\n",
        "      \n",
        "      trg_tensor = torch.LongTensor([trg_indexes[-1]]).to(device)\n",
        "      #insert input token embedding, previous hidden and previous cell states\n",
        "      #receive output tensor (predictions) and new hidden and cell states\n",
        "      with torch.no_grad():\n",
        "        output, hidden, cell = model.decoder(trg_tensor, hidden, cell)\n",
        "      \n",
        "      #place predictions in a tensor holding predictions for each token\n",
        "      #outputs[t] = output\n",
        "      \n",
        "      #decide if we are going to use teacher forcing or not\n",
        "      #teacher_force = random.random() < teacher_forcing_ratio\n",
        "      \n",
        "      #get the highest predicted token from our predictions\n",
        "      pred_token = output.argmax(1).item()\n",
        "      #print(pred_token)\n",
        "\n",
        "\n",
        "      trg_indexes.append(pred_token)\n",
        "\n",
        "      if pred_token == TRG.vocab.stoi[TRG.eos_token]:\n",
        "              break\n",
        "      \n",
        "  trg_tokens = [TRG.vocab.itos[i] for i in trg_indexes]\n",
        "  words = trg_tokens[1:(len(trg_tokens)-1)]\n",
        "\n",
        "  pred = ' '.join(words) \n",
        "\n",
        "  return pred"
      ],
      "execution_count": 44,
      "outputs": []
    },
    {
      "cell_type": "code",
      "metadata": {
        "colab": {
          "base_uri": "https://localhost:8080/"
        },
        "id": "JZJCdrTBRvEh",
        "outputId": "c3ec6e4a-449e-4e9c-ad85-41a508bb3d49"
      },
      "source": [
        "for j in range(10):\n",
        "  i = random.randint(100,10000)\n",
        "  print('*'*50)\n",
        "  print('Input Quest    : ', df.question1[i])\n",
        "  pred = rephraseQuestion(df.question1[i], SRC, TRG, model)\n",
        "  print('Predicted Quest: ', pred)\n",
        "  print('Actual Quest 2 : ', df.question2[i])\n"
      ],
      "execution_count": 45,
      "outputs": [
        {
          "output_type": "stream",
          "text": [
            "**************************************************\n",
            "Input Quest    :  What is it like when the wife is older than the husband?\n",
            "Predicted Quest:  what is it like to be a elder elder elder ?\n",
            "Actual Quest 2 :  How does it feel for a wife to be elder than the husband?\n",
            "**************************************************\n",
            "Input Quest    :  Where can I get very friendly property transactions services in Sydney?\n",
            "Predicted Quest:  where can i get best support property transactions in sydney ?\n",
            "Actual Quest 2 :  Where can I get best property transaction support in Sydney?\n",
            "**************************************************\n",
            "Input Quest    :  What do you want from life?\n",
            "Predicted Quest:  what do you want to do in your life ?\n",
            "Actual Quest 2 :  What you want to do in your life?\n",
            "**************************************************\n",
            "Input Quest    :  What are some interesting facts about medicine?\n",
            "Predicted Quest:  what are some interesting facts about <unk> ?\n",
            "Actual Quest 2 :  What are some insane facts about medicine?\n",
            "**************************************************\n",
            "Input Quest    :  Why are some people so insecure?\n",
            "Predicted Quest:  why are people so insecure ?\n",
            "Actual Quest 2 :  Why are so many people insecure?\n",
            "**************************************************\n",
            "Input Quest    :  I wanna start preparing for ias exam, how should I proceed?\n",
            "Predicted Quest:  how do i start preparing for ias exam ?\n",
            "Actual Quest 2 :  How should I start preparing for UPSC(IAS) exams?\n",
            "**************************************************\n",
            "Input Quest    :  How do you improve your programming skills?\n",
            "Predicted Quest:  how can i improve my programming skills ?\n",
            "Actual Quest 2 :  Sir how to increase programming skills?\n",
            "**************************************************\n",
            "Input Quest    :  What are some mind-blowing mobile inventions that exist that most people don't know about?\n",
            "Predicted Quest:  what are some mind - blowing mobile tools that exist that most people do n't know about ?\n",
            "Actual Quest 2 :  What are some mind blowing phone tech Inventions that most people don't know about?\n",
            "**************************************************\n",
            "Input Quest    :  How can one invest ₹10,000, and in what way?\n",
            "Predicted Quest:  how can i invest the ?\n",
            "Actual Quest 2 :  How do I invest ₹10,000?\n",
            "**************************************************\n",
            "Input Quest    :  What conspiracy theories turned out to be true?\n",
            "Predicted Quest:  what is the most unlikely conspiracy theories that turned out to be true ?\n",
            "Actual Quest 2 :  What is a conspiracy theory that turned out to be real?\n"
          ],
          "name": "stdout"
        }
      ]
    },
    {
      "cell_type": "code",
      "metadata": {
        "id": "oeAQCOEVpnMk"
      },
      "source": [
        ""
      ],
      "execution_count": 45,
      "outputs": []
    }
  ]
}