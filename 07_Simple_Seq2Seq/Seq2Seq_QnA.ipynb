{
  "nbformat": 4,
  "nbformat_minor": 0,
  "metadata": {
    "colab": {
      "name": "Seq2Seq_QnA.ipynb",
      "provenance": []
    },
    "kernelspec": {
      "name": "python3",
      "display_name": "Python 3"
    },
    "language_info": {
      "name": "python"
    },
    "accelerator": "GPU"
  },
  "cells": [
    {
      "cell_type": "code",
      "metadata": {
        "colab": {
          "base_uri": "https://localhost:8080/"
        },
        "id": "HMiKvphar47U",
        "outputId": "eb2389c1-627e-42e0-f6e0-71be9edc5fd2"
      },
      "source": [
        "from google.colab import drive\n",
        "drive.mount('/content/gdrive')"
      ],
      "execution_count": 1,
      "outputs": [
        {
          "output_type": "stream",
          "text": [
            "Mounted at /content/gdrive\n"
          ],
          "name": "stdout"
        }
      ]
    },
    {
      "cell_type": "code",
      "metadata": {
        "colab": {
          "base_uri": "https://localhost:8080/"
        },
        "id": "gDMRjWdOsFOq",
        "outputId": "16595001-b47f-44be-f983-476e6c175919"
      },
      "source": [
        "!wget https://www.cs.cmu.edu/~ark/QA-data/data/Question_Answer_Dataset_v1.2.tar.gz"
      ],
      "execution_count": 2,
      "outputs": [
        {
          "output_type": "stream",
          "text": [
            "--2021-06-23 06:16:32--  https://www.cs.cmu.edu/~ark/QA-data/data/Question_Answer_Dataset_v1.2.tar.gz\n",
            "Resolving www.cs.cmu.edu (www.cs.cmu.edu)... 128.2.42.95\n",
            "Connecting to www.cs.cmu.edu (www.cs.cmu.edu)|128.2.42.95|:443... connected.\n",
            "HTTP request sent, awaiting response... 200 OK\n",
            "Length: 8254496 (7.9M) [application/x-gzip]\n",
            "Saving to: ‘Question_Answer_Dataset_v1.2.tar.gz’\n",
            "\n",
            "Question_Answer_Dat 100%[===================>]   7.87M  1.30MB/s    in 5.8s    \n",
            "\n",
            "2021-06-23 06:16:38 (1.35 MB/s) - ‘Question_Answer_Dataset_v1.2.tar.gz’ saved [8254496/8254496]\n",
            "\n"
          ],
          "name": "stdout"
        }
      ]
    },
    {
      "cell_type": "code",
      "metadata": {
        "id": "71n52IaPsiTF"
      },
      "source": [
        "import tarfile\n",
        "import pandas as pd\n",
        "\n",
        "fname = 'Question_Answer_Dataset_v1.2.tar.gz'\n",
        "tar = tarfile.open(fname, \"r:gz\")\n",
        "tar.extractall()\n",
        "tar.close()"
      ],
      "execution_count": 3,
      "outputs": []
    },
    {
      "cell_type": "code",
      "metadata": {
        "colab": {
          "base_uri": "https://localhost:8080/"
        },
        "id": "lMnwevVdumtf",
        "outputId": "5b5d7f5b-d49a-4503-a688-bf9b5c78eb9c"
      },
      "source": [
        "df1 = pd.read_csv('./Question_Answer_Dataset_v1.2/S08/question_answer_pairs.txt', sep='\\t', encoding='ISO-8859-1')\n",
        "df2 = pd.read_csv('./Question_Answer_Dataset_v1.2/S08/question_answer_pairs.txt', sep='\\t', encoding='ISO-8859-1')\n",
        "df3 = pd.read_csv('./Question_Answer_Dataset_v1.2/S08/question_answer_pairs.txt', sep='\\t', encoding='ISO-8859-1')\n",
        "\n",
        "dataset = pd.concat([df1,df2,df3], ignore_index=True, sort=False)\n",
        "print('Dataset - 1', df1.shape)\n",
        "print('Dataset - 2', df2.shape)\n",
        "print('Dataset - 3', df3.shape)\n",
        "print('Final dataset', dataset.shape)"
      ],
      "execution_count": 4,
      "outputs": [
        {
          "output_type": "stream",
          "text": [
            "Dataset - 1 (1715, 6)\n",
            "Dataset - 2 (1715, 6)\n",
            "Dataset - 3 (1715, 6)\n",
            "Final dataset (5145, 6)\n"
          ],
          "name": "stdout"
        }
      ]
    },
    {
      "cell_type": "code",
      "metadata": {
        "colab": {
          "base_uri": "https://localhost:8080/",
          "height": 424
        },
        "id": "_aBcNuTOvTGi",
        "outputId": "c8cc9057-3067-4540-8334-af719852526c"
      },
      "source": [
        "dataset"
      ],
      "execution_count": 5,
      "outputs": [
        {
          "output_type": "execute_result",
          "data": {
            "text/html": [
              "<div>\n",
              "<style scoped>\n",
              "    .dataframe tbody tr th:only-of-type {\n",
              "        vertical-align: middle;\n",
              "    }\n",
              "\n",
              "    .dataframe tbody tr th {\n",
              "        vertical-align: top;\n",
              "    }\n",
              "\n",
              "    .dataframe thead th {\n",
              "        text-align: right;\n",
              "    }\n",
              "</style>\n",
              "<table border=\"1\" class=\"dataframe\">\n",
              "  <thead>\n",
              "    <tr style=\"text-align: right;\">\n",
              "      <th></th>\n",
              "      <th>ArticleTitle</th>\n",
              "      <th>Question</th>\n",
              "      <th>Answer</th>\n",
              "      <th>DifficultyFromQuestioner</th>\n",
              "      <th>DifficultyFromAnswerer</th>\n",
              "      <th>ArticleFile</th>\n",
              "    </tr>\n",
              "  </thead>\n",
              "  <tbody>\n",
              "    <tr>\n",
              "      <th>0</th>\n",
              "      <td>Abraham_Lincoln</td>\n",
              "      <td>Was Abraham Lincoln the sixteenth President of...</td>\n",
              "      <td>yes</td>\n",
              "      <td>easy</td>\n",
              "      <td>easy</td>\n",
              "      <td>data/set3/a4</td>\n",
              "    </tr>\n",
              "    <tr>\n",
              "      <th>1</th>\n",
              "      <td>Abraham_Lincoln</td>\n",
              "      <td>Was Abraham Lincoln the sixteenth President of...</td>\n",
              "      <td>Yes.</td>\n",
              "      <td>easy</td>\n",
              "      <td>easy</td>\n",
              "      <td>data/set3/a4</td>\n",
              "    </tr>\n",
              "    <tr>\n",
              "      <th>2</th>\n",
              "      <td>Abraham_Lincoln</td>\n",
              "      <td>Did Lincoln sign the National Banking Act of 1...</td>\n",
              "      <td>yes</td>\n",
              "      <td>easy</td>\n",
              "      <td>medium</td>\n",
              "      <td>data/set3/a4</td>\n",
              "    </tr>\n",
              "    <tr>\n",
              "      <th>3</th>\n",
              "      <td>Abraham_Lincoln</td>\n",
              "      <td>Did Lincoln sign the National Banking Act of 1...</td>\n",
              "      <td>Yes.</td>\n",
              "      <td>easy</td>\n",
              "      <td>easy</td>\n",
              "      <td>data/set3/a4</td>\n",
              "    </tr>\n",
              "    <tr>\n",
              "      <th>4</th>\n",
              "      <td>Abraham_Lincoln</td>\n",
              "      <td>Did his mother die of pneumonia?</td>\n",
              "      <td>no</td>\n",
              "      <td>easy</td>\n",
              "      <td>medium</td>\n",
              "      <td>data/set3/a4</td>\n",
              "    </tr>\n",
              "    <tr>\n",
              "      <th>...</th>\n",
              "      <td>...</td>\n",
              "      <td>...</td>\n",
              "      <td>...</td>\n",
              "      <td>...</td>\n",
              "      <td>...</td>\n",
              "      <td>...</td>\n",
              "    </tr>\n",
              "    <tr>\n",
              "      <th>5140</th>\n",
              "      <td>Woodrow_Wilson</td>\n",
              "      <td>Was Wilson president of the American Political...</td>\n",
              "      <td>Yes</td>\n",
              "      <td>NaN</td>\n",
              "      <td>easy</td>\n",
              "      <td>data/set3/a8</td>\n",
              "    </tr>\n",
              "    <tr>\n",
              "      <th>5141</th>\n",
              "      <td>Woodrow_Wilson</td>\n",
              "      <td>Did he not cast his ballot for John M. Palmer ...</td>\n",
              "      <td>Yes</td>\n",
              "      <td>NaN</td>\n",
              "      <td>easy</td>\n",
              "      <td>data/set3/a8</td>\n",
              "    </tr>\n",
              "    <tr>\n",
              "      <th>5142</th>\n",
              "      <td>Woodrow_Wilson</td>\n",
              "      <td>Did Wilson not spend 1914 through the beginnin...</td>\n",
              "      <td>Yes</td>\n",
              "      <td>NaN</td>\n",
              "      <td>easy</td>\n",
              "      <td>data/set3/a8</td>\n",
              "    </tr>\n",
              "    <tr>\n",
              "      <th>5143</th>\n",
              "      <td>Woodrow_Wilson</td>\n",
              "      <td>Was Wilson , a staunch opponent of antisemitis...</td>\n",
              "      <td>Yes</td>\n",
              "      <td>NaN</td>\n",
              "      <td>easy</td>\n",
              "      <td>data/set3/a8</td>\n",
              "    </tr>\n",
              "    <tr>\n",
              "      <th>5144</th>\n",
              "      <td>Woodrow_Wilson</td>\n",
              "      <td>What happened in 1917?</td>\n",
              "      <td>raised billions through Liberty loans, imposed...</td>\n",
              "      <td>NaN</td>\n",
              "      <td>medium</td>\n",
              "      <td>data/set3/a8</td>\n",
              "    </tr>\n",
              "  </tbody>\n",
              "</table>\n",
              "<p>5145 rows × 6 columns</p>\n",
              "</div>"
            ],
            "text/plain": [
              "         ArticleTitle  ...   ArticleFile\n",
              "0     Abraham_Lincoln  ...  data/set3/a4\n",
              "1     Abraham_Lincoln  ...  data/set3/a4\n",
              "2     Abraham_Lincoln  ...  data/set3/a4\n",
              "3     Abraham_Lincoln  ...  data/set3/a4\n",
              "4     Abraham_Lincoln  ...  data/set3/a4\n",
              "...               ...  ...           ...\n",
              "5140   Woodrow_Wilson  ...  data/set3/a8\n",
              "5141   Woodrow_Wilson  ...  data/set3/a8\n",
              "5142   Woodrow_Wilson  ...  data/set3/a8\n",
              "5143   Woodrow_Wilson  ...  data/set3/a8\n",
              "5144   Woodrow_Wilson  ...  data/set3/a8\n",
              "\n",
              "[5145 rows x 6 columns]"
            ]
          },
          "metadata": {
            "tags": []
          },
          "execution_count": 5
        }
      ]
    },
    {
      "cell_type": "code",
      "metadata": {
        "colab": {
          "base_uri": "https://localhost:8080/"
        },
        "id": "Wkt2ECIRerrM",
        "outputId": "453a6674-0eb1-4284-f457-12d4b3edb5c0"
      },
      "source": [
        "print(dataset.Question.value_counts())\n",
        "print(dataset.Answer.value_counts())"
      ],
      "execution_count": 6,
      "outputs": [
        {
          "output_type": "stream",
          "text": [
            "Was King Victor Emmanuel III there to pay homage to Avogadro ?                                  18\n",
            "Where is Uruguay's oldest church?                                                               12\n",
            "Who founded Montevideo?                                                                         12\n",
            "Do all ducks \"quack\"?                                                                           12\n",
            "What is the largest living species of penguin?                                                  12\n",
            "                                                                                                ..\n",
            "Sibiu, a large city in Transylvania, was chosen as European Capital of Culture in what year?     3\n",
            "Was Fillmore one of the founders of the University of Buffalo?                                   3\n",
            "Volta became professor of physics in the Como high school in what year?                          3\n",
            "Is aquatic respiration in Australian freshwater turtles being studied?                           3\n",
            "Who was defeated for re-election in the`` Revolution of 1800'' by Thomas Jefferson?              3\n",
            "Name: Question, Length: 1032, dtype: int64\n",
            "Yes                                                                                                                      657\n",
            "yes                                                                                                                      633\n",
            "no                                                                                                                       174\n",
            "No                                                                                                                       171\n",
            "Yes.                                                                                                                     156\n",
            "                                                                                                                        ... \n",
            "at the Battle of Trenton, in his left shoulder                                                                             3\n",
            "By the length of the tail, panthers having longer tails than leopards                                                      3\n",
            "1890                                                                                                                       3\n",
            "Democratic Republicans                                                                                                     3\n",
            "They sometimes have problems with various skin diseases with dermatitis caused sometimes by mites or other parasites.      3\n",
            "Name: Answer, Length: 763, dtype: int64\n"
          ],
          "name": "stdout"
        }
      ]
    },
    {
      "cell_type": "code",
      "metadata": {
        "colab": {
          "base_uri": "https://localhost:8080/"
        },
        "id": "Nabd_D0nfm-B",
        "outputId": "1b66274b-2cef-46d3-9a26-c129d640c70b"
      },
      "source": [
        "dataset.info()"
      ],
      "execution_count": 7,
      "outputs": [
        {
          "output_type": "stream",
          "text": [
            "<class 'pandas.core.frame.DataFrame'>\n",
            "RangeIndex: 5145 entries, 0 to 5144\n",
            "Data columns (total 6 columns):\n",
            " #   Column                    Non-Null Count  Dtype \n",
            "---  ------                    --------------  ----- \n",
            " 0   ArticleTitle              5145 non-null   object\n",
            " 1   Question                  5088 non-null   object\n",
            " 2   Answer                    4425 non-null   object\n",
            " 3   DifficultyFromQuestioner  3672 non-null   object\n",
            " 4   DifficultyFromAnswerer    4419 non-null   object\n",
            " 5   ArticleFile               5139 non-null   object\n",
            "dtypes: object(6)\n",
            "memory usage: 241.3+ KB\n"
          ],
          "name": "stdout"
        }
      ]
    },
    {
      "cell_type": "code",
      "metadata": {
        "id": "uiHPs9lepjuZ"
      },
      "source": [
        "dataset.dropna(subset=['Question', 'Answer'], inplace=True)\n",
        "dataset.reset_index(inplace=True, drop=True)"
      ],
      "execution_count": 8,
      "outputs": []
    },
    {
      "cell_type": "code",
      "metadata": {
        "colab": {
          "base_uri": "https://localhost:8080/"
        },
        "id": "NZmxsNM6f3_n",
        "outputId": "ec874e90-aa41-4c6c-b59b-9b41dfe708dc"
      },
      "source": [
        "dataset.info()"
      ],
      "execution_count": 9,
      "outputs": [
        {
          "output_type": "stream",
          "text": [
            "<class 'pandas.core.frame.DataFrame'>\n",
            "RangeIndex: 4425 entries, 0 to 4424\n",
            "Data columns (total 6 columns):\n",
            " #   Column                    Non-Null Count  Dtype \n",
            "---  ------                    --------------  ----- \n",
            " 0   ArticleTitle              4425 non-null   object\n",
            " 1   Question                  4425 non-null   object\n",
            " 2   Answer                    4425 non-null   object\n",
            " 3   DifficultyFromQuestioner  3453 non-null   object\n",
            " 4   DifficultyFromAnswerer    4416 non-null   object\n",
            " 5   ArticleFile               4419 non-null   object\n",
            "dtypes: object(6)\n",
            "memory usage: 207.5+ KB\n"
          ],
          "name": "stdout"
        }
      ]
    },
    {
      "cell_type": "code",
      "metadata": {
        "id": "EZ3FEQNpXEuK"
      },
      "source": [
        "import torch\n",
        "import torch.nn as nn\n",
        "import torch.optim as optim\n",
        "\n",
        "from torchtext.legacy.data import Field, BucketIterator, Example, Dataset\n",
        "\n",
        "import spacy\n",
        "import numpy as np\n",
        "\n",
        "import random\n",
        "import math\n",
        "import time"
      ],
      "execution_count": 10,
      "outputs": []
    },
    {
      "cell_type": "code",
      "metadata": {
        "id": "TXDQOMnkXOy9"
      },
      "source": [
        "SEED = 1234\n",
        "\n",
        "random.seed(SEED)\n",
        "np.random.seed(SEED)\n",
        "torch.manual_seed(SEED)\n",
        "torch.cuda.manual_seed(SEED)\n",
        "torch.backends.cudnn.deterministic = True\n",
        "#!pip install spacy --upgrade"
      ],
      "execution_count": 11,
      "outputs": []
    },
    {
      "cell_type": "code",
      "metadata": {
        "id": "5jAJX8ZMXRxc"
      },
      "source": [
        "def tokenize_en(text):\n",
        "    \"\"\"\n",
        "    Tokenizes English text from a string into a list of strings (tokens)\n",
        "    \"\"\"\n",
        "    return [tok.text for tok in spacy_en.tokenizer(text)]"
      ],
      "execution_count": 12,
      "outputs": []
    },
    {
      "cell_type": "code",
      "metadata": {
        "id": "Cef4y0QBXUjv"
      },
      "source": [
        "spacy_en = spacy.load('en_core_web_sm')"
      ],
      "execution_count": 13,
      "outputs": []
    },
    {
      "cell_type": "code",
      "metadata": {
        "id": "i0ELlgwNXV4k"
      },
      "source": [
        "SRC = Field(tokenize = tokenize_en,\n",
        "            init_token = '<sos>', \n",
        "            eos_token = '<eos>', \n",
        "            lower = True,\n",
        "            include_lengths=True)\n",
        "\n",
        "TRG = Field(tokenize = tokenize_en, \n",
        "            init_token = '<sos>', \n",
        "            eos_token = '<eos>', \n",
        "            lower = True,\n",
        "            include_lengths=True)"
      ],
      "execution_count": 14,
      "outputs": []
    },
    {
      "cell_type": "code",
      "metadata": {
        "id": "1ad-YxV2XXGr"
      },
      "source": [
        "fields = [('Question', SRC), ('Answer', TRG)]"
      ],
      "execution_count": 15,
      "outputs": []
    },
    {
      "cell_type": "code",
      "metadata": {
        "id": "v2RMtdrCg5AB"
      },
      "source": [
        "example = [Example.fromlist([str(dataset.Question[i]), str(dataset.Answer[i])], fields) for i in range(dataset.shape[0])]"
      ],
      "execution_count": 16,
      "outputs": []
    },
    {
      "cell_type": "code",
      "metadata": {
        "id": "eUxNGdZ5hHom"
      },
      "source": [
        "quesAnswer = Dataset(example, fields)"
      ],
      "execution_count": 17,
      "outputs": []
    },
    {
      "cell_type": "code",
      "metadata": {
        "id": "id5TJqiphO8Z"
      },
      "source": [
        "(train, test) = quesAnswer.split(split_ratio=[0.70, 0.30], random_state=random.seed(SEED))"
      ],
      "execution_count": 18,
      "outputs": []
    },
    {
      "cell_type": "code",
      "metadata": {
        "colab": {
          "base_uri": "https://localhost:8080/"
        },
        "id": "87dWxjNyhR54",
        "outputId": "69d548a4-06a4-4db0-ec64-1c3b1621f9e2"
      },
      "source": [
        "print(f\"Number of training examples: {len(train.examples)}\")\n",
        "print(f\"Number of validation examples: {len(test.examples)}\")"
      ],
      "execution_count": 19,
      "outputs": [
        {
          "output_type": "stream",
          "text": [
            "Number of training examples: 3098\n",
            "Number of validation examples: 1327\n"
          ],
          "name": "stdout"
        }
      ]
    },
    {
      "cell_type": "code",
      "metadata": {
        "colab": {
          "base_uri": "https://localhost:8080/"
        },
        "id": "zwjt3pRFhTVA",
        "outputId": "1b291cd2-94cc-4e35-f5ff-94596ac4e934"
      },
      "source": [
        "print(vars(train.examples[0]))"
      ],
      "execution_count": 20,
      "outputs": [
        {
          "output_type": "stream",
          "text": [
            "{'Question': ['in', 'which', 'years', 'were', 'john', 'monroe', 'elected', 'as', 'president', '?'], 'Answer': ['1817', '-', '1825']}\n"
          ],
          "name": "stdout"
        }
      ]
    },
    {
      "cell_type": "code",
      "metadata": {
        "id": "pyzn4pUThXSr"
      },
      "source": [
        "SRC.build_vocab(train, min_freq = 2)\n",
        "TRG.build_vocab(train, min_freq = 2)"
      ],
      "execution_count": 21,
      "outputs": []
    },
    {
      "cell_type": "code",
      "metadata": {
        "colab": {
          "base_uri": "https://localhost:8080/"
        },
        "id": "F5vLjKvzhkht",
        "outputId": "992deacb-a730-40db-c545-a4feffbdbb71"
      },
      "source": [
        "print(f\"Unique tokens in source (de) vocabulary: {len(SRC.vocab)}\")\n",
        "print(f\"Unique tokens in target (en) vocabulary: {len(TRG.vocab)}\")"
      ],
      "execution_count": 22,
      "outputs": [
        {
          "output_type": "stream",
          "text": [
            "Unique tokens in source (de) vocabulary: 2110\n",
            "Unique tokens in target (en) vocabulary: 1511\n"
          ],
          "name": "stdout"
        }
      ]
    },
    {
      "cell_type": "code",
      "metadata": {
        "id": "Ix4wLChJhltR"
      },
      "source": [
        "device = torch.device('cuda' if torch.cuda.is_available() else 'cpu')"
      ],
      "execution_count": 23,
      "outputs": []
    },
    {
      "cell_type": "code",
      "metadata": {
        "id": "UJwqppoghocS"
      },
      "source": [
        "BATCH_SIZE = 64\n",
        "\n",
        "train_iterator, test_iterator = BucketIterator.splits(\n",
        "    (train, test), \n",
        "    batch_size = BATCH_SIZE, \n",
        "    sort_key = lambda x: len(x.Question),\n",
        "    sort_within_batch=True, \n",
        "    device = device)"
      ],
      "execution_count": 24,
      "outputs": []
    },
    {
      "cell_type": "code",
      "metadata": {
        "id": "3GhKOLDNhp1P"
      },
      "source": [
        "import os, pickle\n",
        "with open(F\"./gdrive/MyDrive/2021/tokenizer.pkl\", 'wb') as tokens:\n",
        "  pickle.dump( SRC.vocab.stoi, tokens)"
      ],
      "execution_count": 25,
      "outputs": []
    },
    {
      "cell_type": "code",
      "metadata": {
        "id": "lcFOObvYhzER"
      },
      "source": [
        "class Encoder(nn.Module):\n",
        "    def __init__(self, input_dim, emb_dim, hid_dim, n_layers, dropout):\n",
        "        super().__init__()\n",
        "        \n",
        "        self.hid_dim = hid_dim\n",
        "        self.n_layers = n_layers\n",
        "        \n",
        "        self.embedding = nn.Embedding(input_dim, emb_dim)\n",
        "        \n",
        "        self.rnn = nn.LSTM(emb_dim, hid_dim, n_layers, dropout = dropout)\n",
        "        \n",
        "        self.dropout = nn.Dropout(dropout)\n",
        "        \n",
        "    def forward(self, src):\n",
        "        \n",
        "        #src = [src len, batch size]\n",
        "        \n",
        "        embedded = self.dropout(self.embedding(src))\n",
        "        #embedded = [src len, batch size, emb dim]\n",
        "\n",
        "        outputs, (hidden, cell) = self.rnn(embedded)        \n",
        "\n",
        "        #outputs = [src len, batch size, hid dim * n directions]\n",
        "        #hidden = [n layers * n directions, batch size, hid dim]\n",
        "        #cell = [n layers * n directions, batch size, hid dim]\n",
        "        \n",
        "        #outputs are always from the top hidden layer\n",
        "        \n",
        "        return hidden, cell"
      ],
      "execution_count": 26,
      "outputs": []
    },
    {
      "cell_type": "code",
      "metadata": {
        "id": "WZti4eq8ngdG"
      },
      "source": [
        "class Decoder(nn.Module):\n",
        "    def __init__(self, output_dim, emb_dim, hid_dim, n_layers, dropout):\n",
        "        super().__init__()\n",
        "        \n",
        "        self.output_dim = output_dim\n",
        "        self.hid_dim = hid_dim\n",
        "        self.n_layers = n_layers\n",
        "        \n",
        "        self.embedding = nn.Embedding(output_dim, emb_dim)\n",
        "        \n",
        "        self.rnn = nn.LSTM(emb_dim, hid_dim, n_layers, dropout = dropout)\n",
        "        \n",
        "        self.fc_out = nn.Linear(hid_dim, output_dim)\n",
        "        \n",
        "        self.dropout = nn.Dropout(dropout)\n",
        "        \n",
        "    def forward(self, input, hidden, cell):\n",
        "        \n",
        "        #input = [batch size]\n",
        "        #hidden = [n layers * n directions, batch  size, hid dim]\n",
        "        #cell = [n layers * n directions, batch size, hid dim]\n",
        "        \n",
        "        #n directions in the decoder will both always be 1, therefore:\n",
        "        #hidden = [n layers, batch size, hid dim]\n",
        "        #context = [n layers, batch size, hid dim]\n",
        "        \n",
        "        input = input.unsqueeze(0)\n",
        "        \n",
        "        #input = [1, batch size]\n",
        "        \n",
        "        embedded = self.dropout(self.embedding(input))\n",
        "        \n",
        "        #embedded = [1, batch size, emb dim]\n",
        "                \n",
        "        output, (hidden, cell) = self.rnn(embedded, (hidden, cell))\n",
        "        \n",
        "        #output = [seq len, batch size, hid dim * n directions]\n",
        "        #hidden = [n layers * n directions, batch size, hid dim]\n",
        "        #cell = [n layers * n directions, batch size, hid dim]\n",
        "        \n",
        "        #seq len and n directions will always be 1 in the decoder, therefore:\n",
        "        #output = [1, batch size, hid dim]\n",
        "        #hidden = [n layers, batch size, hid dim]\n",
        "        #cell = [n layers, batch size, hid dim]\n",
        "        \n",
        "        prediction = self.fc_out(output.squeeze(0))\n",
        "        \n",
        "        #prediction = [batch size, output dim]\n",
        "        \n",
        "        return prediction, hidden, cell"
      ],
      "execution_count": 27,
      "outputs": []
    },
    {
      "cell_type": "code",
      "metadata": {
        "id": "FxvSyPzhniQH"
      },
      "source": [
        "class Seq2Seq(nn.Module):\n",
        "    def __init__(self, encoder, decoder, device):\n",
        "        super().__init__()\n",
        "        \n",
        "        self.encoder = encoder\n",
        "        self.decoder = decoder\n",
        "        self.device = device\n",
        "        \n",
        "        assert encoder.hid_dim == decoder.hid_dim, \\\n",
        "            \"Hidden dimensions of encoder and decoder must be equal!\"\n",
        "        assert encoder.n_layers == decoder.n_layers, \\\n",
        "            \"Encoder and decoder must have equal number of layers!\"\n",
        "\n",
        "    def forward(self, src, trg, teacher_forcing_ratio = 0.5):\n",
        "        \n",
        "        #src = [src len, batch size]\n",
        "        #trg = [trg len, batch size]\n",
        "        #teacher_forcing_ratio is probability to use teacher forcing\n",
        "        #e.g. if teacher_forcing_ratio is 0.75 we use ground-truth inputs 75% of the time\n",
        "        \n",
        "        batch_size = trg.shape[1]\n",
        "        trg_len = trg.shape[0]\n",
        "        trg_vocab_size = self.decoder.output_dim\n",
        "        \n",
        "        #tensor to store decoder outputs\n",
        "        outputs = torch.zeros(trg_len, batch_size, trg_vocab_size).to(self.device)\n",
        "        \n",
        "        #last hidden state of the encoder is used as the initial hidden state of the decoder\n",
        "        hidden, cell = self.encoder(src)\n",
        "        \n",
        "        #first input to the decoder is the <sos> tokens\n",
        "        input = trg[0,:]\n",
        "        \n",
        "        for t in range(1, trg_len):\n",
        "            \n",
        "            #insert input token embedding, previous hidden and previous cell states\n",
        "            #receive output tensor (predictions) and new hidden and cell states\n",
        "            output, hidden, cell = self.decoder(input, hidden, cell)\n",
        "            \n",
        "            #place predictions in a tensor holding predictions for each token\n",
        "            outputs[t] = output\n",
        "            \n",
        "            #decide if we are going to use teacher forcing or not\n",
        "            teacher_force = random.random() < teacher_forcing_ratio\n",
        "            \n",
        "            #get the highest predicted token from our predictions\n",
        "            top1 = output.argmax(1) \n",
        "            \n",
        "            #if teacher forcing, use actual next token as next input\n",
        "            #if not, use predicted token\n",
        "            input = trg[t] if teacher_force else top1\n",
        "        \n",
        "        return outputs"
      ],
      "execution_count": 28,
      "outputs": []
    },
    {
      "cell_type": "code",
      "metadata": {
        "id": "T4SMhWZQnjwS"
      },
      "source": [
        "INPUT_DIM = len(SRC.vocab)\n",
        "OUTPUT_DIM = len(TRG.vocab)\n",
        "ENC_EMB_DIM = 256\n",
        "DEC_EMB_DIM = 256\n",
        "HID_DIM = 512\n",
        "N_LAYERS = 2\n",
        "ENC_DROPOUT = 0.5\n",
        "DEC_DROPOUT = 0.5\n",
        "\n",
        "enc = Encoder(INPUT_DIM, ENC_EMB_DIM, HID_DIM, N_LAYERS, ENC_DROPOUT)\n",
        "dec = Decoder(OUTPUT_DIM, DEC_EMB_DIM, HID_DIM, N_LAYERS, DEC_DROPOUT)\n",
        "\n",
        "model = Seq2Seq(enc, dec, device).to(device)"
      ],
      "execution_count": 29,
      "outputs": []
    },
    {
      "cell_type": "code",
      "metadata": {
        "colab": {
          "base_uri": "https://localhost:8080/"
        },
        "id": "WVWFd8Asnl1E",
        "outputId": "f13f4c86-99da-4aec-d58c-1f882b260980"
      },
      "source": [
        "def init_weights(m):\n",
        "    for name, param in m.named_parameters():\n",
        "        nn.init.uniform_(param.data, -0.08, 0.08)\n",
        "        \n",
        "model.apply(init_weights)"
      ],
      "execution_count": 30,
      "outputs": [
        {
          "output_type": "execute_result",
          "data": {
            "text/plain": [
              "Seq2Seq(\n",
              "  (encoder): Encoder(\n",
              "    (embedding): Embedding(2110, 256)\n",
              "    (rnn): LSTM(256, 512, num_layers=2, dropout=0.5)\n",
              "    (dropout): Dropout(p=0.5, inplace=False)\n",
              "  )\n",
              "  (decoder): Decoder(\n",
              "    (embedding): Embedding(1511, 256)\n",
              "    (rnn): LSTM(256, 512, num_layers=2, dropout=0.5)\n",
              "    (fc_out): Linear(in_features=512, out_features=1511, bias=True)\n",
              "    (dropout): Dropout(p=0.5, inplace=False)\n",
              "  )\n",
              ")"
            ]
          },
          "metadata": {
            "tags": []
          },
          "execution_count": 30
        }
      ]
    },
    {
      "cell_type": "code",
      "metadata": {
        "colab": {
          "base_uri": "https://localhost:8080/"
        },
        "id": "Mp01Xzqonnga",
        "outputId": "da536811-011b-4ed6-dbb0-153a7ecaee26"
      },
      "source": [
        "def count_parameters(model):\n",
        "    return sum(p.numel() for p in model.parameters() if p.requires_grad)\n",
        "\n",
        "print(f'The model has {count_parameters(model):,} trainable parameters')"
      ],
      "execution_count": 31,
      "outputs": [
        {
          "output_type": "stream",
          "text": [
            "The model has 9,058,535 trainable parameters\n"
          ],
          "name": "stdout"
        }
      ]
    },
    {
      "cell_type": "code",
      "metadata": {
        "id": "c9i4YMFBnp1x"
      },
      "source": [
        "optimizer = optim.Adam(model.parameters())"
      ],
      "execution_count": 32,
      "outputs": []
    },
    {
      "cell_type": "code",
      "metadata": {
        "id": "YQWPwbG2nrgJ"
      },
      "source": [
        "TRG_PAD_IDX = TRG.vocab.stoi[TRG.pad_token]\n",
        "\n",
        "criterion = nn.CrossEntropyLoss(ignore_index = TRG_PAD_IDX)"
      ],
      "execution_count": 33,
      "outputs": []
    },
    {
      "cell_type": "code",
      "metadata": {
        "id": "xNt3Qj3knsjk"
      },
      "source": [
        "def train(model, iterator, optimizer, criterion, clip):\n",
        "    \n",
        "    model.train()\n",
        "    \n",
        "    epoch_loss = 0\n",
        "    \n",
        "    for i, batch in enumerate(iterator):\n",
        "        \n",
        "        src, slen = batch.Question\n",
        "        trg, tlen = batch.Answer\n",
        "        \n",
        "        optimizer.zero_grad()\n",
        "        \n",
        "        output = model(src, trg)\n",
        "        \n",
        "        #trg = [trg len, batch size]\n",
        "        #output = [trg len, batch size, output dim]\n",
        "        \n",
        "        output_dim = output.shape[-1]\n",
        "        \n",
        "        output = output[1:].view(-1, output_dim)\n",
        "        trg = trg[1:].view(-1)\n",
        "        \n",
        "        #trg = [(trg len - 1) * batch size]\n",
        "        #output = [(trg len - 1) * batch size, output dim]\n",
        "        \n",
        "        loss = criterion(output, trg)\n",
        "        \n",
        "        loss.backward()\n",
        "        \n",
        "        torch.nn.utils.clip_grad_norm_(model.parameters(), clip)\n",
        "        \n",
        "        optimizer.step()\n",
        "        \n",
        "        epoch_loss += loss.item()\n",
        "        \n",
        "    return epoch_loss / len(iterator)"
      ],
      "execution_count": 34,
      "outputs": []
    },
    {
      "cell_type": "code",
      "metadata": {
        "id": "0gOa-IwhntyS"
      },
      "source": [
        "def evaluate(model, iterator, criterion):\n",
        "    \n",
        "    model.eval()\n",
        "    \n",
        "    epoch_loss = 0\n",
        "    \n",
        "    with torch.no_grad():\n",
        "    \n",
        "        for i, batch in enumerate(iterator):\n",
        "\n",
        "            src, slen = batch.Question\n",
        "            trg, tlen = batch.Answer\n",
        "\n",
        "            output = model(src, trg, 0) #turn off teacher forcing\n",
        "\n",
        "            #trg = [trg len, batch size]\n",
        "            #output = [trg len, batch size, output dim]\n",
        "\n",
        "            output_dim = output.shape[-1]\n",
        "            \n",
        "            output = output[1:].view(-1, output_dim)\n",
        "            trg = trg[1:].view(-1)\n",
        "\n",
        "            #trg = [(trg len - 1) * batch size]\n",
        "            #output = [(trg len - 1) * batch size, output dim]\n",
        "\n",
        "            loss = criterion(output, trg)\n",
        "            \n",
        "            epoch_loss += loss.item()\n",
        "        \n",
        "    return epoch_loss / len(iterator)"
      ],
      "execution_count": 35,
      "outputs": []
    },
    {
      "cell_type": "code",
      "metadata": {
        "id": "RUaKB_APn606"
      },
      "source": [
        "def epoch_time(start_time, end_time):\n",
        "    elapsed_time = end_time - start_time\n",
        "    elapsed_mins = int(elapsed_time / 60)\n",
        "    elapsed_secs = int(elapsed_time - (elapsed_mins * 60))\n",
        "    return elapsed_mins, elapsed_secs"
      ],
      "execution_count": 36,
      "outputs": []
    },
    {
      "cell_type": "code",
      "metadata": {
        "colab": {
          "base_uri": "https://localhost:8080/"
        },
        "id": "Nbt8GF8Bn9JA",
        "outputId": "ff218e20-6025-4f05-e34c-083fa213f843"
      },
      "source": [
        "N_EPOCHS = 45\n",
        "CLIP = 1\n",
        "\n",
        "trainLoss = []\n",
        "testLoss = []\n",
        "\n",
        "best_test_loss = float('inf')\n",
        "model_save_name = 'questionAnswer.pt'\n",
        "path = F\"./gdrive/MyDrive/2021/{model_save_name}\" \n",
        "\n",
        "for epoch in range(N_EPOCHS):\n",
        "    \n",
        "    start_time = time.time()\n",
        "    \n",
        "    train_loss = train(model, train_iterator, optimizer, criterion, CLIP)\n",
        "    test_loss = evaluate(model, test_iterator, criterion)\n",
        "    \n",
        "    end_time = time.time()\n",
        "    \n",
        "    epoch_mins, epoch_secs = epoch_time(start_time, end_time)\n",
        "    \n",
        "    if test_loss < best_test_loss:\n",
        "        best_test_loss = test_loss\n",
        "        torch.save(model.state_dict(), path) \n",
        "    \n",
        "    print(f'Epoch: {epoch+1:02} | Time: {epoch_mins}m {epoch_secs}s')\n",
        "    print(f'\\tTrain Loss: {train_loss:.3f} | Train PPL: {math.exp(train_loss):7.3f}')\n",
        "    print(f'\\t Test Loss: {test_loss:.3f} |   Test PPL: {math.exp(test_loss):7.3f}')\n",
        "\n",
        "    trainLoss.append(train_loss)\n",
        "    testLoss.append(test_loss)\n",
        "    "
      ],
      "execution_count": 37,
      "outputs": [
        {
          "output_type": "stream",
          "text": [
            "Epoch: 01 | Time: 0m 4s\n",
            "\tTrain Loss: 5.276 | Train PPL: 195.494\n",
            "\t Test Loss: 4.759 |   Test PPL: 116.601\n",
            "Epoch: 02 | Time: 0m 3s\n",
            "\tTrain Loss: 4.646 | Train PPL: 104.166\n",
            "\t Test Loss: 4.530 |   Test PPL:  92.723\n",
            "Epoch: 03 | Time: 0m 3s\n",
            "\tTrain Loss: 4.430 | Train PPL:  83.937\n",
            "\t Test Loss: 4.375 |   Test PPL:  79.449\n",
            "Epoch: 04 | Time: 0m 3s\n",
            "\tTrain Loss: 4.250 | Train PPL:  70.120\n",
            "\t Test Loss: 4.290 |   Test PPL:  72.957\n",
            "Epoch: 05 | Time: 0m 4s\n",
            "\tTrain Loss: 4.135 | Train PPL:  62.467\n",
            "\t Test Loss: 4.244 |   Test PPL:  69.699\n",
            "Epoch: 06 | Time: 0m 3s\n",
            "\tTrain Loss: 4.005 | Train PPL:  54.897\n",
            "\t Test Loss: 4.191 |   Test PPL:  66.067\n",
            "Epoch: 07 | Time: 0m 3s\n",
            "\tTrain Loss: 3.881 | Train PPL:  48.481\n",
            "\t Test Loss: 4.092 |   Test PPL:  59.861\n",
            "Epoch: 08 | Time: 0m 3s\n",
            "\tTrain Loss: 3.726 | Train PPL:  41.526\n",
            "\t Test Loss: 4.016 |   Test PPL:  55.484\n",
            "Epoch: 09 | Time: 0m 3s\n",
            "\tTrain Loss: 3.583 | Train PPL:  35.968\n",
            "\t Test Loss: 3.951 |   Test PPL:  51.994\n",
            "Epoch: 10 | Time: 0m 3s\n",
            "\tTrain Loss: 3.445 | Train PPL:  31.345\n",
            "\t Test Loss: 3.863 |   Test PPL:  47.626\n",
            "Epoch: 11 | Time: 0m 3s\n",
            "\tTrain Loss: 3.299 | Train PPL:  27.087\n",
            "\t Test Loss: 3.847 |   Test PPL:  46.835\n",
            "Epoch: 12 | Time: 0m 3s\n",
            "\tTrain Loss: 3.132 | Train PPL:  22.920\n",
            "\t Test Loss: 3.787 |   Test PPL:  44.142\n",
            "Epoch: 13 | Time: 0m 3s\n",
            "\tTrain Loss: 3.001 | Train PPL:  20.112\n",
            "\t Test Loss: 3.680 |   Test PPL:  39.637\n",
            "Epoch: 14 | Time: 0m 3s\n",
            "\tTrain Loss: 2.821 | Train PPL:  16.795\n",
            "\t Test Loss: 3.671 |   Test PPL:  39.293\n",
            "Epoch: 15 | Time: 0m 3s\n",
            "\tTrain Loss: 2.645 | Train PPL:  14.077\n",
            "\t Test Loss: 3.508 |   Test PPL:  33.383\n",
            "Epoch: 16 | Time: 0m 3s\n",
            "\tTrain Loss: 2.462 | Train PPL:  11.723\n",
            "\t Test Loss: 3.430 |   Test PPL:  30.889\n",
            "Epoch: 17 | Time: 0m 3s\n",
            "\tTrain Loss: 2.201 | Train PPL:   9.034\n",
            "\t Test Loss: 3.457 |   Test PPL:  31.736\n",
            "Epoch: 18 | Time: 0m 3s\n",
            "\tTrain Loss: 2.088 | Train PPL:   8.073\n",
            "\t Test Loss: 3.409 |   Test PPL:  30.225\n",
            "Epoch: 19 | Time: 0m 3s\n",
            "\tTrain Loss: 1.910 | Train PPL:   6.753\n",
            "\t Test Loss: 3.228 |   Test PPL:  25.232\n",
            "Epoch: 20 | Time: 0m 3s\n",
            "\tTrain Loss: 1.698 | Train PPL:   5.463\n",
            "\t Test Loss: 3.145 |   Test PPL:  23.212\n",
            "Epoch: 21 | Time: 0m 3s\n",
            "\tTrain Loss: 1.477 | Train PPL:   4.379\n",
            "\t Test Loss: 3.022 |   Test PPL:  20.527\n",
            "Epoch: 22 | Time: 0m 3s\n",
            "\tTrain Loss: 1.293 | Train PPL:   3.643\n",
            "\t Test Loss: 2.807 |   Test PPL:  16.565\n",
            "Epoch: 23 | Time: 0m 3s\n",
            "\tTrain Loss: 1.152 | Train PPL:   3.163\n",
            "\t Test Loss: 2.681 |   Test PPL:  14.593\n",
            "Epoch: 24 | Time: 0m 3s\n",
            "\tTrain Loss: 0.985 | Train PPL:   2.678\n",
            "\t Test Loss: 2.506 |   Test PPL:  12.258\n",
            "Epoch: 25 | Time: 0m 3s\n",
            "\tTrain Loss: 0.855 | Train PPL:   2.351\n",
            "\t Test Loss: 2.234 |   Test PPL:   9.333\n",
            "Epoch: 26 | Time: 0m 3s\n",
            "\tTrain Loss: 0.703 | Train PPL:   2.020\n",
            "\t Test Loss: 2.250 |   Test PPL:   9.487\n",
            "Epoch: 27 | Time: 0m 3s\n",
            "\tTrain Loss: 0.662 | Train PPL:   1.938\n",
            "\t Test Loss: 2.044 |   Test PPL:   7.724\n",
            "Epoch: 28 | Time: 0m 3s\n",
            "\tTrain Loss: 0.606 | Train PPL:   1.834\n",
            "\t Test Loss: 2.119 |   Test PPL:   8.325\n",
            "Epoch: 29 | Time: 0m 3s\n",
            "\tTrain Loss: 0.491 | Train PPL:   1.634\n",
            "\t Test Loss: 2.146 |   Test PPL:   8.547\n",
            "Epoch: 30 | Time: 0m 3s\n",
            "\tTrain Loss: 0.499 | Train PPL:   1.647\n",
            "\t Test Loss: 1.847 |   Test PPL:   6.340\n",
            "Epoch: 31 | Time: 0m 3s\n",
            "\tTrain Loss: 0.468 | Train PPL:   1.596\n",
            "\t Test Loss: 1.874 |   Test PPL:   6.512\n",
            "Epoch: 32 | Time: 0m 3s\n",
            "\tTrain Loss: 0.410 | Train PPL:   1.507\n",
            "\t Test Loss: 1.907 |   Test PPL:   6.733\n",
            "Epoch: 33 | Time: 0m 3s\n",
            "\tTrain Loss: 0.393 | Train PPL:   1.481\n",
            "\t Test Loss: 1.604 |   Test PPL:   4.971\n",
            "Epoch: 34 | Time: 0m 3s\n",
            "\tTrain Loss: 0.362 | Train PPL:   1.437\n",
            "\t Test Loss: 1.687 |   Test PPL:   5.403\n",
            "Epoch: 35 | Time: 0m 3s\n",
            "\tTrain Loss: 0.356 | Train PPL:   1.428\n",
            "\t Test Loss: 1.735 |   Test PPL:   5.670\n",
            "Epoch: 36 | Time: 0m 3s\n",
            "\tTrain Loss: 0.346 | Train PPL:   1.413\n",
            "\t Test Loss: 1.509 |   Test PPL:   4.522\n",
            "Epoch: 37 | Time: 0m 3s\n",
            "\tTrain Loss: 0.302 | Train PPL:   1.353\n",
            "\t Test Loss: 1.559 |   Test PPL:   4.755\n",
            "Epoch: 38 | Time: 0m 3s\n",
            "\tTrain Loss: 0.264 | Train PPL:   1.303\n",
            "\t Test Loss: 1.553 |   Test PPL:   4.727\n",
            "Epoch: 39 | Time: 0m 3s\n",
            "\tTrain Loss: 0.271 | Train PPL:   1.311\n",
            "\t Test Loss: 1.586 |   Test PPL:   4.883\n",
            "Epoch: 40 | Time: 0m 3s\n",
            "\tTrain Loss: 0.289 | Train PPL:   1.334\n",
            "\t Test Loss: 1.392 |   Test PPL:   4.021\n",
            "Epoch: 41 | Time: 0m 3s\n",
            "\tTrain Loss: 0.302 | Train PPL:   1.352\n",
            "\t Test Loss: 1.462 |   Test PPL:   4.315\n",
            "Epoch: 42 | Time: 0m 3s\n",
            "\tTrain Loss: 0.286 | Train PPL:   1.332\n",
            "\t Test Loss: 1.437 |   Test PPL:   4.208\n",
            "Epoch: 43 | Time: 0m 3s\n",
            "\tTrain Loss: 0.298 | Train PPL:   1.348\n",
            "\t Test Loss: 1.412 |   Test PPL:   4.105\n",
            "Epoch: 44 | Time: 0m 3s\n",
            "\tTrain Loss: 0.239 | Train PPL:   1.270\n",
            "\t Test Loss: 1.377 |   Test PPL:   3.963\n",
            "Epoch: 45 | Time: 0m 3s\n",
            "\tTrain Loss: 0.237 | Train PPL:   1.267\n",
            "\t Test Loss: 1.486 |   Test PPL:   4.420\n"
          ],
          "name": "stdout"
        }
      ]
    },
    {
      "cell_type": "code",
      "metadata": {
        "colab": {
          "base_uri": "https://localhost:8080/"
        },
        "id": "tUILsc8_rWLj",
        "outputId": "1ab33c7f-083f-4ced-a6e4-13345f1de432"
      },
      "source": [
        "model.load_state_dict(torch.load(path))\n",
        "\n",
        "test_loss = evaluate(model, test_iterator, criterion)\n",
        "\n",
        "print(f'| Test Loss: {test_loss:.3f} | Test PPL: {math.exp(test_loss):7.3f} |')"
      ],
      "execution_count": 38,
      "outputs": [
        {
          "output_type": "stream",
          "text": [
            "| Test Loss: 1.377 | Test PPL:   3.963 |\n"
          ],
          "name": "stdout"
        }
      ]
    },
    {
      "cell_type": "code",
      "metadata": {
        "colab": {
          "base_uri": "https://localhost:8080/",
          "height": 295
        },
        "id": "GyH_OfuVoE54",
        "outputId": "db3f84b6-5cc1-42da-c07c-1847503c8ed1"
      },
      "source": [
        "# Plotting metrics to see how model as learned and loss decreased\n",
        "import numpy as np\n",
        "import matplotlib.pyplot as plt\n",
        "\n",
        "plt.plot(range(N_EPOCHS), np.exp(trainLoss), marker='o')\n",
        "plt.plot(range(N_EPOCHS), np.exp(testLoss), marker = 'x')\n",
        "plt.xlabel(\"Epoch\")\n",
        "plt.ylabel(\"Loss\")\n",
        "plt.legend([\"Train Loss\", \"Test Loss\"])\n",
        "plt.title(\"Per-word perplexity Loss (e^loss)\")\n",
        "#plt.ylim([0,1.5])\n",
        "plt.show()"
      ],
      "execution_count": 39,
      "outputs": [
        {
          "output_type": "display_data",
          "data": {
            "image/png": "[encoded data removed]",
            "text/plain": [
              "<Figure size 432x288 with 1 Axes>"
            ]
          },
          "metadata": {
            "tags": [],
            "needs_background": "light"
          }
        }
      ]
    },
    {
      "cell_type": "code",
      "metadata": {
        "id": "ptN8gNIurcVr"
      },
      "source": [
        "import os, pickle\n",
        "import spacy\n",
        "\n",
        "nlp = spacy.load('en')\n",
        "\n",
        "device = torch.device('cuda' if torch.cuda.is_available() else 'cpu')"
      ],
      "execution_count": 40,
      "outputs": []
    },
    {
      "cell_type": "code",
      "metadata": {
        "id": "-8-I7K2_rd5x"
      },
      "source": [
        "def questionAnswer(ques, SRC, TRG, model, maxLength = 100):\n",
        "  model.eval()\n",
        "\n",
        "  # tokenize\n",
        "  tokenized = [tok.text.lower() for tok in nlp.tokenizer(ques)] \n",
        "  #print('tokenized: ', tokenized)\n",
        "\n",
        "  # add <sos> and add <eos>\n",
        "  tokenized = ['<sos>'] + tokenized + ['<eos>']\n",
        "  #print('tokenized: ', tokenized)\n",
        "\n",
        "  # convert to integer sequence using predefined tokenizer dictionary\n",
        "  indexed = [SRC.vocab.stoi[t] for t in tokenized]        \n",
        "  #print('indexed: ', indexed)\n",
        "\n",
        "  # compute no. of words        \n",
        "  length = [len(indexed)]\n",
        "  #print('length : ', length)\n",
        "\n",
        "  # convert to tensor                                    \n",
        "  tensor = torch.LongTensor(indexed).to(device)   \n",
        "  #print('tensor shape: ', tensor.shape)\n",
        "\n",
        "  # reshape in form of batch, no. of words           \n",
        "  tensor = tensor.unsqueeze(1) \n",
        "  #print('tensor shape: ', tensor.shape)\n",
        "\n",
        "\n",
        "  with torch.no_grad():\n",
        "    hidden, cell = model.encoder(tensor)\n",
        "\n",
        "  #first input to the decoder is the <sos> tokens\n",
        "  trg_indexes = [TRG.vocab.stoi[TRG.init_token]]\n",
        "\n",
        "  for t in range(1, maxLength):\n",
        "      \n",
        "      trg_tensor = torch.LongTensor([trg_indexes[-1]]).to(device)\n",
        "      #insert input token embedding, previous hidden and previous cell states\n",
        "      #receive output tensor (predictions) and new hidden and cell states\n",
        "      with torch.no_grad():\n",
        "        output, hidden, cell = model.decoder(trg_tensor, hidden, cell)\n",
        "      \n",
        "      #place predictions in a tensor holding predictions for each token\n",
        "      #outputs[t] = output\n",
        "      \n",
        "      #decide if we are going to use teacher forcing or not\n",
        "      #teacher_force = random.random() < teacher_forcing_ratio\n",
        "      \n",
        "      #get the highest predicted token from our predictions\n",
        "      pred_token = output.argmax(1).item()\n",
        "      #print(pred_token)\n",
        "\n",
        "\n",
        "      trg_indexes.append(pred_token)\n",
        "\n",
        "      if pred_token == TRG.vocab.stoi[TRG.eos_token]:\n",
        "              break\n",
        "      \n",
        "  trg_tokens = [TRG.vocab.itos[i] for i in trg_indexes]\n",
        "  words = trg_tokens[1:(len(trg_tokens)-1)]\n",
        "\n",
        "  pred = ' '.join(words) \n",
        "\n",
        "  return pred"
      ],
      "execution_count": 41,
      "outputs": []
    },
    {
      "cell_type": "code",
      "metadata": {
        "colab": {
          "base_uri": "https://localhost:8080/"
        },
        "id": "W4fm_VM3rm89",
        "outputId": "34e5f9fe-ca99-4a8a-ef84-10b40d3a96d6"
      },
      "source": [
        "for j in range(10):\n",
        "  i = random.randint(100,1000)\n",
        "  print('*'*50)\n",
        "  print('Input Quest    : ', dataset.Question[i])\n",
        "  pred = questionAnswer(dataset.Question[i], SRC, TRG, model)\n",
        "  print('Predicted Quest: ', pred)\n",
        "  print('Actual Quest 2 : ', dataset.Answer[i])"
      ],
      "execution_count": 51,
      "outputs": [
        {
          "output_type": "stream",
          "text": [
            "**************************************************\n",
            "Input Quest    :  Who also discovered that less than three percent of kangaroos exposed to the virus developed blindness ?\n",
            "Predicted Quest:  veterinarians\n",
            "Actual Quest 2 :  Veterinarians\n",
            "**************************************************\n",
            "Input Quest    :  Is Fillmore the first of two presidents to have been an indentured servant ?\n",
            "Predicted Quest:  yes\n",
            "Actual Quest 2 :  yes\n",
            "**************************************************\n",
            "Input Quest    :  When did Monroe's presidency expired?\n",
            "Predicted Quest:  march 4 , 1825 .\n",
            "Actual Quest 2 :  March 4, 1825\n",
            "**************************************************\n",
            "Input Quest    :  Does salmon remain the favorite of fly rod enthusiasts?\n",
            "Predicted Quest:  yes\n",
            "Actual Quest 2 :  Yes\n",
            "**************************************************\n",
            "Input Quest    :  Did ford get an award called \"Congressman's congressman\"?\n",
            "Predicted Quest:  yes\n",
            "Actual Quest 2 :  Yes\n",
            "**************************************************\n",
            "Input Quest    :  What is the primary item in an otter's diet?\n",
            "Predicted Quest:  fish\n",
            "Actual Quest 2 :  fish\n",
            "**************************************************\n",
            "Input Quest    :  Was James Cook the first to record the name \"Kangooroo?\"\n",
            "Predicted Quest:  yes\n",
            "Actual Quest 2 :  Yes\n",
            "**************************************************\n",
            "Input Quest    :  Did the Dutch build the Elmina Castle?\n",
            "Predicted Quest:  no\n",
            "Actual Quest 2 :  no\n",
            "**************************************************\n",
            "Input Quest    :  What positions Ford played in the school football team?\n",
            "Predicted Quest:  center and linebacker\n",
            "Actual Quest 2 :  Captain\n",
            "**************************************************\n",
            "Input Quest    :  What did James Monroe make in 1817?\n",
            "Predicted Quest:  two long tours\n",
            "Actual Quest 2 :  two long tours\n"
          ],
          "name": "stdout"
        }
      ]
    },
    {
      "cell_type": "code",
      "metadata": {
        "id": "GZPgTcFMm8I0"
      },
      "source": [
        ""
      ],
      "execution_count": null,
      "outputs": []
    }
  ]
}