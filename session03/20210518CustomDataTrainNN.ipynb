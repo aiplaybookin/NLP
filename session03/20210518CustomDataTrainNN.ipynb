{
  "nbformat": 4,
  "nbformat_minor": 0,
  "metadata": {
    "colab": {
      "name": "20210518CustomDataTrainNN.ipynb",
      "provenance": [],
      "collapsed_sections": []
    },
    "kernelspec": {
      "name": "python3",
      "display_name": "Python 3"
    },
    "language_info": {
      "name": "python"
    },
    "accelerator": "GPU"
  },
  "cells": [
    {
      "cell_type": "code",
      "metadata": {
        "colab": {
          "base_uri": "https://localhost:8080/"
        },
        "id": "vH-dZoiLu2XN",
        "outputId": "8294a3cb-0c3e-4375-9b8b-9dcabbd5fd85"
      },
      "source": [
        "!pip install torch"
      ],
      "execution_count": 1,
      "outputs": [
        {
          "output_type": "stream",
          "text": [
            "Requirement already satisfied: torch in /usr/local/lib/python3.7/dist-packages (1.8.1+cu101)\n",
            "Requirement already satisfied: numpy in /usr/local/lib/python3.7/dist-packages (from torch) (1.19.5)\n",
            "Requirement already satisfied: typing-extensions in /usr/local/lib/python3.7/dist-packages (from torch) (3.7.4.3)\n"
          ],
          "name": "stdout"
        }
      ]
    },
    {
      "cell_type": "code",
      "metadata": {
        "colab": {
          "base_uri": "https://localhost:8080/"
        },
        "id": "Yv1mAjH4qKSF",
        "outputId": "a8163548-1562-404c-9c28-be0287969517"
      },
      "source": [
        "import torch\n",
        "import torch.nn as nn\n",
        "import torch.nn.functional as F\n",
        "import torch.optim as optim\n",
        "\n",
        "import torchvision\n",
        "import torchvision.transforms as transforms\n",
        "\n",
        "torch.set_printoptions(linewidth=120)\n",
        "torch.set_grad_enabled(True) #ON by default"
      ],
      "execution_count": 2,
      "outputs": [
        {
          "output_type": "execute_result",
          "data": {
            "text/plain": [
              "<torch.autograd.grad_mode.set_grad_enabled at 0x7fd3abba9810>"
            ]
          },
          "metadata": {
            "tags": []
          },
          "execution_count": 2
        }
      ]
    },
    {
      "cell_type": "code",
      "metadata": {
        "colab": {
          "base_uri": "https://localhost:8080/"
        },
        "id": "2rW9pFL-qLBA",
        "outputId": "f5324443-db56-4a47-8785-c13d1d7adceb"
      },
      "source": [
        "# Using GPU\n",
        "CUDA = torch.cuda.is_available()\n",
        "print(\"CUDA is available:\",CUDA)\n",
        "\n",
        "device = torch.device(\"cuda\" if CUDA else \"cpu\")\n",
        "print(device)\n",
        "\n",
        "print(torch.__version__)\n",
        "print(torchvision.__version__)\n"
      ],
      "execution_count": 3,
      "outputs": [
        {
          "output_type": "stream",
          "text": [
            "CUDA is available: True\n",
            "cuda\n",
            "1.8.1+cu101\n",
            "0.9.1+cu101\n"
          ],
          "name": "stdout"
        }
      ]
    },
    {
      "cell_type": "code",
      "metadata": {
        "id": "XOr9cTShqS54"
      },
      "source": [
        "# Function to get number of correct classifications\n",
        "def get_correct(preds, labels):\n",
        "  return preds.argmax(dim=1).eq(labels).sum().item()"
      ],
      "execution_count": 4,
      "outputs": []
    },
    {
      "cell_type": "code",
      "metadata": {
        "id": "7CoVNgaOqZHx"
      },
      "source": [
        "# Train Dataset for MNIST\n",
        "train_set = torchvision.datasets.MNIST(\n",
        "    root='./data/'\n",
        "    ,train=True\n",
        "    ,download=True\n",
        "    ,transform=transforms.Compose([\n",
        "                                    transforms.ToTensor()\n",
        "    ]) \n",
        ")\n",
        "\n",
        "# Test data set for MNIST\n",
        "test_set = torchvision.datasets.MNIST(\n",
        "    root='./data/'\n",
        "    ,train=False\n",
        "    ,download=True\n",
        "    ,transform=transforms.Compose([\n",
        "                                    transforms.ToTensor()\n",
        "    ]) \n",
        ")"
      ],
      "execution_count": 5,
      "outputs": []
    },
    {
      "cell_type": "code",
      "metadata": {
        "id": "uLE7CxQ_qort"
      },
      "source": [
        "# Model for MNIST Digit classification and ADDER classification\n",
        "# Input1 : 28x28 digit image to cov layer 1\n",
        "# Input 2 : One-hot encoding of digit 0-9\n",
        "# Output 1 : MNIST image digit classification\n",
        "# Output 2 : Retrun SUM of MINIT Digit and Input2 digit\n",
        "\n",
        "class Network(nn.Module):\n",
        "  def __init__(self):\n",
        "    super().__init__()\n",
        "    # These act as attributes\n",
        "    self.conv1 = nn.Conv2d(in_channels=1, out_channels=6, kernel_size=5) \n",
        "    self.conv2 = nn.Conv2d(in_channels=6, out_channels=12, kernel_size=5)\n",
        "\n",
        "    self.fc1 = nn.Linear(in_features=(12*4*4) + 10, out_features=120)\n",
        "    self.fc2 = nn.Linear(in_features=120, out_features=60)\n",
        "    self.out1 = nn.Linear(in_features=60, out_features=10)\n",
        "    self.out2 = nn.Linear(in_features=60, out_features=19)\n",
        "\n",
        "  def forward(self, t, d):\n",
        "\n",
        "    #(1) input layer : not necessary to write- just for understanding purpose\n",
        "    t = t\n",
        "\n",
        "    #(2) hidden conv1 layer\n",
        "    t = self.conv1(t)\n",
        "    t = F.relu(t)\n",
        "    t = F.max_pool2d(t, kernel_size=2, stride=2)\n",
        "\n",
        "    #(3) hidden conv2 layer\n",
        "    t = self.conv2(t)\n",
        "    t = F.relu(t)\n",
        "    t = F.max_pool2d(t, kernel_size=2, stride=2)\n",
        "\n",
        "    #(4) hidden fc1 linear layer\n",
        "    t = t.reshape(-1, 12*4*4)\n",
        "    # Concatenating one hot encoding of input2 digit to FC layer\n",
        "    t = torch.cat((t, d), dim=1) \n",
        "    t = self.fc1(t)\n",
        "    t = F.relu(t)\n",
        "\n",
        "    #(5) hidden fc2 linear layer\n",
        "    t = self.fc2(t)\n",
        "    t = F.relu(t)\n",
        "\n",
        "    #(6) output linear layer\n",
        "    t1 = self.out1(t)\n",
        "    t2 = self.out2(t)\n",
        "\n",
        "    return t1, t2"
      ],
      "execution_count": 6,
      "outputs": []
    },
    {
      "cell_type": "code",
      "metadata": {
        "id": "MkRBprIMzqG9"
      },
      "source": [
        "# Can write more on Decision on these params\n",
        "num_epoch = 50 # number of times to iterate on complete dataset\n",
        "batch_size = 100 # subset or records to fetch at once\n",
        "learning_rate = 0.005 # Can be played around with for better "
      ],
      "execution_count": 7,
      "outputs": []
    },
    {
      "cell_type": "code",
      "metadata": {
        "colab": {
          "base_uri": "https://localhost:8080/"
        },
        "id": "eDXvX8H9qwK0",
        "outputId": "5385672f-068e-432a-8ff2-3ea6ff2ed8f2"
      },
      "source": [
        "network = Network().to(device)\n",
        "print(network)"
      ],
      "execution_count": 8,
      "outputs": [
        {
          "output_type": "stream",
          "text": [
            "Network(\n",
            "  (conv1): Conv2d(1, 6, kernel_size=(5, 5), stride=(1, 1))\n",
            "  (conv2): Conv2d(6, 12, kernel_size=(5, 5), stride=(1, 1))\n",
            "  (fc1): Linear(in_features=202, out_features=120, bias=True)\n",
            "  (fc2): Linear(in_features=120, out_features=60, bias=True)\n",
            "  (out1): Linear(in_features=60, out_features=10, bias=True)\n",
            "  (out2): Linear(in_features=60, out_features=19, bias=True)\n",
            ")\n"
          ],
          "name": "stdout"
        }
      ]
    },
    {
      "cell_type": "code",
      "metadata": {
        "colab": {
          "base_uri": "https://localhost:8080/"
        },
        "id": "skqgnShcr4EK",
        "outputId": "8fc9528d-3882-4949-8519-86827c0576b7"
      },
      "source": [
        "train_loader = torch.utils.data.DataLoader(train_set, batch_size = batch_size) # for training iter\n",
        "test_loader = torch.utils.data.DataLoader(test_set, batch_size = batch_size) # for testing post each epoch\n",
        "optimiser = optim.Adam(network.parameters(), lr=learning_rate)\n",
        "\n",
        "# metrics to capture as we train for multiple epochs : understand where are losses more, when it becomes flat, when to stop/ needs fixes\n",
        "train_loss = []\n",
        "train_lossMNIST = []\n",
        "train_lossADDER = []\n",
        "\n",
        "train_accMNIST = []\n",
        "train_accADDER =[]\n",
        "\n",
        "test_accMNIST = []\n",
        "test_accADDER = []\n",
        "\n",
        "for epoch in range(num_epoch):\n",
        "\n",
        "  lossMNIST = 0\n",
        "  lossADDER = 0\n",
        "\n",
        "  accMNIST = 0\n",
        "  accADDER = 0\n",
        "  \n",
        "  for batch in train_loader:\n",
        "    images, labels = batch \n",
        "    images = images.to(device)\n",
        "    labels = labels.to(device)\n",
        "\n",
        "    # Random digits generated\n",
        "    digits = torch.randint(0, 10, (batch_size,)) # batch_size rand ints\n",
        "    digits_one = F.one_hot(digits, num_classes=10) # one hot encoding\n",
        "    digits_one = digits_one.to(device)\n",
        "    digits = digits.to(device)\n",
        "    #digits = digits.unsqueeze(dim=1)\n",
        "\n",
        "    preds1, preds2 = network(images, digits_one) # Pass Batch\n",
        "    loss1 = F.cross_entropy(preds1, labels) # Calculate Loss\n",
        "    loss2 = F.cross_entropy(preds2, digits + labels) # Calculate Loss\n",
        "\n",
        "    loss = loss1 + loss2\n",
        "\n",
        "    optimiser.zero_grad()\n",
        "    loss.backward() #Calculating Gradients\n",
        "    optimiser.step() # Updating the weights\n",
        "\n",
        "    lossMNIST += loss1.item()\n",
        "    lossADDER += loss2.item()\n",
        "\n",
        "    accMNIST += get_correct(preds1, labels)\n",
        "    accADDER += get_correct(preds2, digits+labels)\n",
        "\n",
        "  train_loss.append(lossMNIST + lossADDER)\n",
        "  train_lossMNIST.append(lossMNIST)\n",
        "  train_lossADDER.append(lossADDER)\n",
        "\n",
        "  train_accMNIST.append((accMNIST/len(train_set))*100)\n",
        "  train_accADDER.append((accADDER/len(train_set))*100)\n",
        "  \n",
        "  print('epoch:', epoch, 'Train: Loss MNIST', lossMNIST, '; Loss Adder: ', lossADDER)\n",
        "\n",
        "  accMNIST = 0\n",
        "  accADDER = 0\n",
        "  # Predicting on test data -----------\n",
        "  for batch in test_loader:\n",
        "    images, labels = batch\n",
        "    images = images.to(device)\n",
        "    labels = labels.to(device)\n",
        "\n",
        "    # Random digits generated\n",
        "    digits = torch.randint(0, 10, (batch_size,)) # batch_size rand ints\n",
        "    digits_one = F.one_hot(digits, num_classes=10) # one hot encoding 0-9 : 10 different values : *could improvised here*\n",
        "    digits_one = digits_one.to(device)\n",
        "    digits = digits.to(device)\n",
        "\n",
        "    # Do predictions\n",
        "    preds1, preds2 = network(images, digits_one)\n",
        "\n",
        "    accMNIST += get_correct(preds1, labels)\n",
        "    accADDER += get_correct(preds2, digits+labels)\n",
        "\n",
        "  test_accMNIST.append((accMNIST/len(test_set))*100)\n",
        "  test_accADDER.append((accADDER/len(test_set))*100)\n",
        "\n",
        "  print('epoch:', epoch, 'test: Accuracy MNIST', accMNIST/len(test_set), '; Accuracy Adder: ', accADDER/len(test_set) )\n"
      ],
      "execution_count": 9,
      "outputs": [
        {
          "output_type": "stream",
          "text": [
            "epoch: 0 Train: Loss MNIST 184.15961156971753 ; Loss Adder:  898.5571035891771\n",
            "epoch: 0 test: Accuracy MNIST 0.9366 ; Accuracy Adder:  0.8758\n",
            "epoch: 1 Train: Loss MNIST 66.73474983917549 ; Loss Adder:  128.5864815339446\n",
            "epoch: 1 test: Accuracy MNIST 0.975 ; Accuracy Adder:  0.9604\n",
            "epoch: 2 Train: Loss MNIST 48.144466020865366 ; Loss Adder:  73.5801737611182\n",
            "epoch: 2 test: Accuracy MNIST 0.9711 ; Accuracy Adder:  0.9573\n",
            "epoch: 3 Train: Loss MNIST 44.82385481739766 ; Loss Adder:  63.621001636143774\n",
            "epoch: 3 test: Accuracy MNIST 0.9794 ; Accuracy Adder:  0.9729\n",
            "epoch: 4 Train: Loss MNIST 38.69591502676485 ; Loss Adder:  54.891220702789724\n",
            "epoch: 4 test: Accuracy MNIST 0.9794 ; Accuracy Adder:  0.9736\n",
            "epoch: 5 Train: Loss MNIST 37.943979647767264 ; Loss Adder:  51.657974135829136\n",
            "epoch: 5 test: Accuracy MNIST 0.9824 ; Accuracy Adder:  0.9775\n",
            "epoch: 6 Train: Loss MNIST 35.558883854042506 ; Loss Adder:  48.75897618243471\n",
            "epoch: 6 test: Accuracy MNIST 0.9801 ; Accuracy Adder:  0.9781\n",
            "epoch: 7 Train: Loss MNIST 34.70223158196313 ; Loss Adder:  46.79716743971221\n",
            "epoch: 7 test: Accuracy MNIST 0.9791 ; Accuracy Adder:  0.9745\n",
            "epoch: 8 Train: Loss MNIST 31.188401754043298 ; Loss Adder:  41.98136974207591\n",
            "epoch: 8 test: Accuracy MNIST 0.9823 ; Accuracy Adder:  0.9793\n",
            "epoch: 9 Train: Loss MNIST 30.174946002924116 ; Loss Adder:  41.83618339244276\n",
            "epoch: 9 test: Accuracy MNIST 0.9805 ; Accuracy Adder:  0.9766\n",
            "epoch: 10 Train: Loss MNIST 29.3198835735966 ; Loss Adder:  39.740501729305834\n",
            "epoch: 10 test: Accuracy MNIST 0.9819 ; Accuracy Adder:  0.9802\n",
            "epoch: 11 Train: Loss MNIST 29.1227154946464 ; Loss Adder:  38.69479289051378\n",
            "epoch: 11 test: Accuracy MNIST 0.9834 ; Accuracy Adder:  0.9799\n",
            "epoch: 12 Train: Loss MNIST 28.297915008093696 ; Loss Adder:  38.17886058578733\n",
            "epoch: 12 test: Accuracy MNIST 0.9836 ; Accuracy Adder:  0.9816\n",
            "epoch: 13 Train: Loss MNIST 27.641691551616532 ; Loss Adder:  36.85172131785657\n",
            "epoch: 13 test: Accuracy MNIST 0.9839 ; Accuracy Adder:  0.9818\n",
            "epoch: 14 Train: Loss MNIST 25.593006386989146 ; Loss Adder:  34.33373218320776\n",
            "epoch: 14 test: Accuracy MNIST 0.9858 ; Accuracy Adder:  0.9841\n",
            "epoch: 15 Train: Loss MNIST 24.734146862014313 ; Loss Adder:  32.7765864598332\n",
            "epoch: 15 test: Accuracy MNIST 0.9815 ; Accuracy Adder:  0.9781\n",
            "epoch: 16 Train: Loss MNIST 25.184033406425442 ; Loss Adder:  33.787300248397514\n",
            "epoch: 16 test: Accuracy MNIST 0.9835 ; Accuracy Adder:  0.9799\n",
            "epoch: 17 Train: Loss MNIST 24.73598313621187 ; Loss Adder:  33.96547594567528\n",
            "epoch: 17 test: Accuracy MNIST 0.9835 ; Accuracy Adder:  0.9806\n",
            "epoch: 18 Train: Loss MNIST 24.114262748385954 ; Loss Adder:  31.527982654049993\n",
            "epoch: 18 test: Accuracy MNIST 0.9835 ; Accuracy Adder:  0.9817\n",
            "epoch: 19 Train: Loss MNIST 23.602468563403818 ; Loss Adder:  31.57355080882553\n",
            "epoch: 19 test: Accuracy MNIST 0.9823 ; Accuracy Adder:  0.9829\n",
            "epoch: 20 Train: Loss MNIST 22.70994342164704 ; Loss Adder:  30.813396192359505\n",
            "epoch: 20 test: Accuracy MNIST 0.9821 ; Accuracy Adder:  0.9801\n",
            "epoch: 21 Train: Loss MNIST 20.308865388316917 ; Loss Adder:  26.556755260331556\n",
            "epoch: 21 test: Accuracy MNIST 0.986 ; Accuracy Adder:  0.982\n",
            "epoch: 22 Train: Loss MNIST 19.567473941802746 ; Loss Adder:  26.16157389107684\n",
            "epoch: 22 test: Accuracy MNIST 0.9866 ; Accuracy Adder:  0.9833\n",
            "epoch: 23 Train: Loss MNIST 19.32620408442017 ; Loss Adder:  26.32126028383209\n",
            "epoch: 23 test: Accuracy MNIST 0.9841 ; Accuracy Adder:  0.9814\n",
            "epoch: 24 Train: Loss MNIST 21.193191564027074 ; Loss Adder:  26.54454681952484\n",
            "epoch: 24 test: Accuracy MNIST 0.982 ; Accuracy Adder:  0.9818\n",
            "epoch: 25 Train: Loss MNIST 18.225501086519216 ; Loss Adder:  25.137008135119686\n",
            "epoch: 25 test: Accuracy MNIST 0.9854 ; Accuracy Adder:  0.9821\n",
            "epoch: 26 Train: Loss MNIST 18.205637452439987 ; Loss Adder:  24.062804723871523\n",
            "epoch: 26 test: Accuracy MNIST 0.9856 ; Accuracy Adder:  0.9849\n",
            "epoch: 27 Train: Loss MNIST 19.251880924661236 ; Loss Adder:  24.454741258261492\n",
            "epoch: 27 test: Accuracy MNIST 0.9855 ; Accuracy Adder:  0.9824\n",
            "epoch: 28 Train: Loss MNIST 18.517746014575096 ; Loss Adder:  23.985157748888014\n",
            "epoch: 28 test: Accuracy MNIST 0.9848 ; Accuracy Adder:  0.9828\n",
            "epoch: 29 Train: Loss MNIST 18.023050734867866 ; Loss Adder:  23.62122861536045\n",
            "epoch: 29 test: Accuracy MNIST 0.9858 ; Accuracy Adder:  0.9822\n",
            "epoch: 30 Train: Loss MNIST 19.44384186161824 ; Loss Adder:  24.91039181582164\n",
            "epoch: 30 test: Accuracy MNIST 0.9834 ; Accuracy Adder:  0.9823\n",
            "epoch: 31 Train: Loss MNIST 16.036062420283997 ; Loss Adder:  21.03446336586785\n",
            "epoch: 31 test: Accuracy MNIST 0.9872 ; Accuracy Adder:  0.9833\n",
            "epoch: 32 Train: Loss MNIST 17.53605806351152 ; Loss Adder:  23.156790662003914\n",
            "epoch: 32 test: Accuracy MNIST 0.985 ; Accuracy Adder:  0.9831\n",
            "epoch: 33 Train: Loss MNIST 15.495545066386512 ; Loss Adder:  20.4887560354764\n",
            "epoch: 33 test: Accuracy MNIST 0.9863 ; Accuracy Adder:  0.9848\n",
            "epoch: 34 Train: Loss MNIST 16.3345922753565 ; Loss Adder:  21.902811394407763\n",
            "epoch: 34 test: Accuracy MNIST 0.9846 ; Accuracy Adder:  0.9807\n",
            "epoch: 35 Train: Loss MNIST 18.421043273941905 ; Loss Adder:  23.732039439026266\n",
            "epoch: 35 test: Accuracy MNIST 0.9863 ; Accuracy Adder:  0.9851\n",
            "epoch: 36 Train: Loss MNIST 13.32367133495427 ; Loss Adder:  18.747368810927583\n",
            "epoch: 36 test: Accuracy MNIST 0.9843 ; Accuracy Adder:  0.9835\n",
            "epoch: 37 Train: Loss MNIST 15.287401451821097 ; Loss Adder:  20.28201940724466\n",
            "epoch: 37 test: Accuracy MNIST 0.986 ; Accuracy Adder:  0.9844\n",
            "epoch: 38 Train: Loss MNIST 16.81370189239533 ; Loss Adder:  22.34877701894584\n",
            "epoch: 38 test: Accuracy MNIST 0.9844 ; Accuracy Adder:  0.9834\n",
            "epoch: 39 Train: Loss MNIST 15.330134977716625 ; Loss Adder:  19.27363694270207\n",
            "epoch: 39 test: Accuracy MNIST 0.9847 ; Accuracy Adder:  0.9824\n",
            "epoch: 40 Train: Loss MNIST 14.38758498669904 ; Loss Adder:  19.211044309660792\n",
            "epoch: 40 test: Accuracy MNIST 0.9842 ; Accuracy Adder:  0.9833\n",
            "epoch: 41 Train: Loss MNIST 15.224936998754401 ; Loss Adder:  20.7845166717525\n",
            "epoch: 41 test: Accuracy MNIST 0.9858 ; Accuracy Adder:  0.9847\n",
            "epoch: 42 Train: Loss MNIST 13.947343656795056 ; Loss Adder:  18.563786078197154\n",
            "epoch: 42 test: Accuracy MNIST 0.9841 ; Accuracy Adder:  0.9818\n",
            "epoch: 43 Train: Loss MNIST 13.143610052851727 ; Loss Adder:  17.774676499593625\n",
            "epoch: 43 test: Accuracy MNIST 0.985 ; Accuracy Adder:  0.9838\n",
            "epoch: 44 Train: Loss MNIST 15.235944768388435 ; Loss Adder:  19.910063087547314\n",
            "epoch: 44 test: Accuracy MNIST 0.9836 ; Accuracy Adder:  0.9829\n",
            "epoch: 45 Train: Loss MNIST 12.571645530351361 ; Loss Adder:  17.313265675439652\n",
            "epoch: 45 test: Accuracy MNIST 0.9868 ; Accuracy Adder:  0.9852\n",
            "epoch: 46 Train: Loss MNIST 14.506010271529703 ; Loss Adder:  19.53723912976966\n",
            "epoch: 46 test: Accuracy MNIST 0.9826 ; Accuracy Adder:  0.9813\n",
            "epoch: 47 Train: Loss MNIST 15.324967743109028 ; Loss Adder:  20.22151397339985\n",
            "epoch: 47 test: Accuracy MNIST 0.9842 ; Accuracy Adder:  0.984\n",
            "epoch: 48 Train: Loss MNIST 14.402433629585175 ; Loss Adder:  19.837891765826498\n",
            "epoch: 48 test: Accuracy MNIST 0.9837 ; Accuracy Adder:  0.9833\n",
            "epoch: 49 Train: Loss MNIST 15.622919050922519 ; Loss Adder:  21.0070985838247\n",
            "epoch: 49 test: Accuracy MNIST 0.9848 ; Accuracy Adder:  0.9824\n"
          ],
          "name": "stdout"
        }
      ]
    },
    {
      "cell_type": "code",
      "metadata": {
        "colab": {
          "base_uri": "https://localhost:8080/",
          "height": 573
        },
        "id": "k9nD7U2RTj34",
        "outputId": "97597939-6d25-431f-b260-d8c4bf537295"
      },
      "source": [
        "# Plotting metrics to see how model as learned and loss decreased\n",
        "import matplotlib.pyplot as plt\n",
        "\n",
        "plt.plot(range(epoch+1), train_loss, marker='o')\n",
        "plt.plot(range(epoch+1), train_lossMNIST, marker = 'x')\n",
        "plt.plot(range(epoch+1), train_lossADDER, marker = 'd')\n",
        "plt.xlabel(\"Epoch\")\n",
        "plt.ylabel(\"Loss\")\n",
        "plt.legend([\"Total Loss\", \"MNIST Loss\", \"ADDER Loss\"])\n",
        "plt.title(\"Train Loss\")\n",
        "#plt.ylim([0,100])\n",
        "plt.show()\n",
        "\n",
        "plt.plot(range(epoch+1), train_accMNIST, linestyle='dashed')\n",
        "plt.plot(range(epoch+1), test_accMNIST, marker = 'x')\n",
        "plt.plot(range(epoch+1), train_accADDER, linestyle='dashed')\n",
        "plt.plot(range(epoch+1), test_accADDER, marker = 'd')\n",
        "plt.xlabel(\"Epoch\")\n",
        "plt.ylabel(\"Accuracy\")\n",
        "plt.legend([\"Train MNIST ACC\", \"Test MNIST ACC\", \"Train ADDER Acc\", \"Test ADDER ACC\"])\n",
        "plt.title(\"Accuracy\")\n",
        "plt.ylim([50,100])\n",
        "plt.show()\n"
      ],
      "execution_count": 13,
      "outputs": [
        {
          "output_type": "display_data",
          "data": {
            "image/png": "[encoded data removed]",
            "text/plain": [
              "<Figure size 432x288 with 1 Axes>"
            ]
          },
          "metadata": {
            "tags": [],
            "needs_background": "light"
          }
        },
        {
          "output_type": "display_data",
          "data": {
            "image/png": "[encoded data removed]",
            "text/plain": [
              "<Figure size 432x288 with 1 Axes>"
            ]
          },
          "metadata": {
            "tags": [],
            "needs_background": "light"
          }
        }
      ]
    },
    {
      "cell_type": "markdown",
      "metadata": {
        "id": "moui7-XrvFtU"
      },
      "source": [
        "## Functions to plot Classifications and show examples results\n",
        "\n",
        "There could be 4 combinations -\n",
        "1. Correct Image Class & Correct Addition\n",
        "\n",
        "2. Correct Image Class & **Wrong Addition** \n",
        "\n",
        "3. **Wrong Image Class** & Correct Addition\n",
        "\n",
        "4. **Wrong Image Class** & **Wrong Addition**"
      ]
    },
    {
      "cell_type": "code",
      "metadata": {
        "id": "z2gloByADEI5"
      },
      "source": [
        "def correct_idx(a_c, p_c):\n",
        "  correct_idx = p_c.eq(a_c).nonzero(as_tuple=True)\n",
        "  return correct_idx[0]\n",
        "  # print(correct_idx)\n",
        "def wrong_idx(a_c, p_c):\n",
        "  wrong_idx = p_c.ne(a_c).nonzero(as_tuple=True)\n",
        "  return wrong_idx[0]\n",
        "\n",
        "def get_outputs(images,actual_class,pred_class,actual_sum,pred_sum,digits,class_id,sum_id):\n",
        "  imgs = images[class_id][sum_id]\n",
        "  lbls = actual_class[class_id][sum_id]\n",
        "  predict_class = pred_class[class_id][sum_id]\n",
        "  sums = actual_sum[class_id][sum_id]\n",
        "  predict_sums = pred_sum[class_id][sum_id]\n",
        "  rn = digits[class_id][sum_id]\n",
        "  return imgs,lbls,predict_class,sums,predict_sums,rn\n",
        "\n",
        "def show_results(imgs,lbls,predict_class,sums,predict_sums,rn,bgcolor = \"white\", tcolor = \"black\"):\n",
        "  fig = plt.figure(figsize=(14,14), facecolor = bgcolor)\n",
        "  img_count = len(imgs)\n",
        "  if img_count == 0:\n",
        "    print(\"ALl the additions for this batch was correct\")\n",
        "  elif img_count >= 1:\n",
        "    if img_count > 6:\n",
        "      img_count = 6\n",
        "    for i in range(img_count):\n",
        "      plt.subplot(1,img_count,i+1)\n",
        "      # plt.tight_layout()\n",
        "      plt.imshow(imgs[i][0].to(\"cpu\"), cmap='gray', interpolation='none')\n",
        "      plt.title(\"Actual {} + {} = {} \\n Predicted {} + {} = {}\".format(lbls[i],rn[i],sums[i],\n",
        "                                                              predict_class[i],rn[i],predict_sums[i]),\n",
        "                color = tcolor)\n",
        "      plt.xticks([])\n",
        "      plt.yticks([])\n",
        "    plt.show()\n"
      ],
      "execution_count": 11,
      "outputs": []
    },
    {
      "cell_type": "code",
      "metadata": {
        "colab": {
          "base_uri": "https://localhost:8080/",
          "height": 778
        },
        "id": "ldVwMEPUZZaw",
        "outputId": "c27a8e27-855e-4bd0-c0d6-f2a27ff05094"
      },
      "source": [
        "# Plotting the results correctly classified and wrongly classifed\n",
        "# for images, labels in train_loader: \n",
        "\n",
        "train_loader = torch.utils.data.DataLoader(train_set, batch_size = 2000)\n",
        "j=1\n",
        "\n",
        "class_all_correct_idx = torch.IntTensor()\n",
        "sum_all_correct_idx = torch.IntTensor()\n",
        "\n",
        "for images, labels in train_loader:\n",
        "  images = images.to(device)\n",
        "  labels = labels.to(device)\n",
        "\n",
        "  # Random digits generated\n",
        "  digits = torch.randint(0, 10, (2000,)) # 100 rand ints\n",
        "  digits_one = F.one_hot(digits, num_classes=10) # one hot encoding\n",
        "  digits_one = digits_one.to(device)\n",
        "  digits = digits.to(device)\n",
        "\n",
        "  # Run the model   \n",
        "  preds_class_prob, preds_sum_prob = network(images, digits_one) # Pass Batch\n",
        "  \n",
        "  pred_class = preds_class_prob.argmax(dim=1)\n",
        "  pred_sum = preds_sum_prob.argmax(dim=1)\n",
        "  actual_class = labels\n",
        "  actual_sum = labels+digits\n",
        "\n",
        "  # Get ID of the correct classification\n",
        "  class_correct_idx = correct_idx(actual_class, pred_class)\n",
        "\n",
        "  #Get IDs for correct additions\n",
        "  sum_correct_idx = correct_idx(actual_sum[class_correct_idx], pred_sum[class_correct_idx])\n",
        "  imgs,lbls,predict_class,sums,predict_sums,rn = get_outputs(images,actual_class,pred_class,actual_sum,pred_sum,digits,class_correct_idx,sum_correct_idx)\n",
        "  print(\"Results for Correct Image class and Correct additions\")\n",
        "  show_results(imgs,lbls,predict_class,sums,predict_sums,rn,\"green\",tcolor = \"white\")\n",
        "\n",
        "  #Get IDs for wrong additions\n",
        "  sum_wrong_idx = wrong_idx(actual_sum[class_correct_idx], pred_sum[class_correct_idx])\n",
        "  imgs,lbls,predict_class,sums,predict_sums,rn = get_outputs(images,actual_class,pred_class,actual_sum,pred_sum,digits,class_correct_idx,sum_wrong_idx)\n",
        "  print(\"Results for Correct Image class and Wrong Additions\")\n",
        "  show_results(imgs,lbls,predict_class,sums,predict_sums,rn,\"yellow\")\n",
        "\n",
        "  # Get ID of the correct classification\n",
        "  class_wrong_idx = wrong_idx(actual_class, pred_class)\n",
        "\n",
        "  #Get IDs for correct additions\n",
        "  sum_correct_idx = correct_idx(actual_sum[class_wrong_idx], pred_sum[class_wrong_idx])\n",
        "  imgs,lbls,predict_class,sums,predict_sums,rn = get_outputs(images,actual_class,pred_class,actual_sum,pred_sum,digits,class_wrong_idx,sum_correct_idx)\n",
        "  print(\"Results for Wrong Image class and Correct additions\")\n",
        "  show_results(imgs,lbls,predict_class,sums,predict_sums,rn,\"orange\")\n",
        "\n",
        "  #Get IDs for wrong additions\n",
        "  sum_wrong_idx = wrong_idx(actual_sum[class_wrong_idx], pred_sum[class_wrong_idx])\n",
        "  imgs,lbls,predict_class,sums,predict_sums,rn = get_outputs(images,actual_class,pred_class,actual_sum,pred_sum,digits,class_wrong_idx,sum_wrong_idx)\n",
        "  print(\"Results for Wrong Image class and Wrong Additions\")\n",
        "  show_results(imgs,lbls,predict_class,sums,predict_sums,rn,\"red\", tcolor = \"white\")\n",
        "\n",
        "  \n",
        "\n",
        "  if j ==1:\n",
        "    break\n",
        "\n"
      ],
      "execution_count": 14,
      "outputs": [
        {
          "output_type": "stream",
          "text": [
            "Results for Correct Image class and Correct additions\n"
          ],
          "name": "stdout"
        },
        {
          "output_type": "display_data",
          "data": {
            "image/png": "[encoded data removed]",
            "text/plain": [
              "<Figure size 1008x1008 with 6 Axes>"
            ]
          },
          "metadata": {
            "tags": []
          }
        },
        {
          "output_type": "stream",
          "text": [
            "Results for Correct Image class and Wrong Additions\n"
          ],
          "name": "stdout"
        },
        {
          "output_type": "display_data",
          "data": {
            "image/png": "[encoded data removed]",
            "text/plain": [
              "<Figure size 1008x1008 with 5 Axes>"
            ]
          },
          "metadata": {
            "tags": []
          }
        },
        {
          "output_type": "stream",
          "text": [
            "Results for Wrong Image class and Correct additions\n"
          ],
          "name": "stdout"
        },
        {
          "output_type": "display_data",
          "data": {
            "image/png": "[encoded data removed]",
            "text/plain": [
              "<Figure size 1008x1008 with 5 Axes>"
            ]
          },
          "metadata": {
            "tags": []
          }
        },
        {
          "output_type": "stream",
          "text": [
            "Results for Wrong Image class and Wrong Additions\n"
          ],
          "name": "stdout"
        },
        {
          "output_type": "display_data",
          "data": {
            "image/png": "[encoded data removed]",
            "text/plain": [
              "<Figure size 1008x1008 with 6 Axes>"
            ]
          },
          "metadata": {
            "tags": []
          }
        }
      ]
    },
    {
      "cell_type": "code",
      "metadata": {
        "id": "x98nbhsLQM1B"
      },
      "source": [
        ""
      ],
      "execution_count": null,
      "outputs": []
    }
  ]
}