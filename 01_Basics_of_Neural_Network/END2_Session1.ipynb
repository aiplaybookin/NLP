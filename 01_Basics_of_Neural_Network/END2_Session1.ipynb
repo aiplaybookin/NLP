{
  "nbformat": 4,
  "nbformat_minor": 0,
  "metadata": {
    "colab": {
      "name": "END2.Session1",
      "provenance": []
    },
    "kernelspec": {
      "name": "python3",
      "display_name": "Python 3"
    },
    "language_info": {
      "name": "python"
    }
  },
  "cells": [
    {
      "cell_type": "code",
      "metadata": {
        "colab": {
          "base_uri": "https://localhost:8080/"
        },
        "id": "kDVh3p4JlkH_",
        "outputId": "95137e0d-57b6-4efc-ce91-341b4bc5c126"
      },
      "source": [
        "import torch\n",
        "from torch.autograd import Variable\n",
        "import torch.nn as nn\n",
        "import torch.nn.functional as F\n",
        "import torch.optim as optim\n",
        "import numpy as np\n",
        "import matplotlib.pyplot as plt\n",
        "%matplotlib inline\n",
        "torch.manual_seed(2)"
      ],
      "execution_count": 1,
      "outputs": [
        {
          "output_type": "execute_result",
          "data": {
            "text/plain": [
              "<torch._C.Generator at 0x7f21debad8d0>"
            ]
          },
          "metadata": {
            "tags": []
          },
          "execution_count": 1
        }
      ]
    },
    {
      "cell_type": "code",
      "metadata": {
        "id": "ONTFIstmlp4P"
      },
      "source": [
        "X = torch.Tensor([[0,0], [0,1], [1,0], [1,1]])\n",
        "Y = torch.Tensor([0, 1, 1, 0]).view(-1,1)"
      ],
      "execution_count": 2,
      "outputs": []
    },
    {
      "cell_type": "code",
      "metadata": {
        "id": "Aev18MZnluh5"
      },
      "source": [
        "class XOR(nn.Module):\n",
        "    def __init__(self, input_dim = 2, output_dim=1):\n",
        "        super(XOR, self).__init__()\n",
        "        self.lin1 = nn.Linear(input_dim, 5)\n",
        "        self.lin2 = nn.Linear(5, 4)\n",
        "        self.lin3 = nn.Linear(4, output_dim)\n",
        "    \n",
        "    def forward(self, x):\n",
        "        x = self.lin1(x)\n",
        "        x = F.tanh(x)\n",
        "        x = self.lin2(x)\n",
        "        x = F.tanh(x)\n",
        "        x = self.lin3(x)\n",
        "        return x"
      ],
      "execution_count": 3,
      "outputs": []
    },
    {
      "cell_type": "code",
      "metadata": {
        "colab": {
          "base_uri": "https://localhost:8080/"
        },
        "id": "NJfkDmc7lxgF",
        "outputId": "3bd05b6c-c680-4c73-977f-db515098c06d"
      },
      "source": [
        "model = XOR()\n",
        "print(model)\n",
        "from torchsummary import summary\n",
        "summary(model, (2,2))"
      ],
      "execution_count": 4,
      "outputs": [
        {
          "output_type": "stream",
          "text": [
            "XOR(\n",
            "  (lin1): Linear(in_features=2, out_features=5, bias=True)\n",
            "  (lin2): Linear(in_features=5, out_features=4, bias=True)\n",
            "  (lin3): Linear(in_features=4, out_features=1, bias=True)\n",
            ")\n",
            "----------------------------------------------------------------\n",
            "        Layer (type)               Output Shape         Param #\n",
            "================================================================\n",
            "            Linear-1                 [-1, 2, 5]              15\n",
            "            Linear-2                 [-1, 2, 4]              24\n",
            "            Linear-3                 [-1, 2, 1]               5\n",
            "================================================================\n",
            "Total params: 44\n",
            "Trainable params: 44\n",
            "Non-trainable params: 0\n",
            "----------------------------------------------------------------\n",
            "Input size (MB): 0.00\n",
            "Forward/backward pass size (MB): 0.00\n",
            "Params size (MB): 0.00\n",
            "Estimated Total Size (MB): 0.00\n",
            "----------------------------------------------------------------\n"
          ],
          "name": "stdout"
        },
        {
          "output_type": "stream",
          "text": [
            "/usr/local/lib/python3.7/dist-packages/torch/nn/functional.py:1698: UserWarning: nn.functional.tanh is deprecated. Use torch.tanh instead.\n",
            "  warnings.warn(\"nn.functional.tanh is deprecated. Use torch.tanh instead.\")\n"
          ],
          "name": "stderr"
        }
      ]
    },
    {
      "cell_type": "code",
      "metadata": {
        "id": "3mf_jJvMl2hj"
      },
      "source": [
        "def weights_init(model):\n",
        "    for m in model.modules():\n",
        "        if isinstance(m, nn.Linear):\n",
        "            # initialize the weight tensor, here we use a normal distribution\n",
        "            m.weight.data.normal_(0, 1)\n",
        "\n",
        "weights_init(model)"
      ],
      "execution_count": 5,
      "outputs": []
    },
    {
      "cell_type": "code",
      "metadata": {
        "id": "DWHYZgiSl756"
      },
      "source": [
        "loss_func = nn.L1Loss()"
      ],
      "execution_count": 6,
      "outputs": []
    },
    {
      "cell_type": "code",
      "metadata": {
        "id": "Vll1YZqjl-Vf"
      },
      "source": [
        "optimizer = optim.SGD(model.parameters(), lr=0.02, momentum=0.9)"
      ],
      "execution_count": 7,
      "outputs": []
    },
    {
      "cell_type": "code",
      "metadata": {
        "colab": {
          "base_uri": "https://localhost:8080/"
        },
        "id": "TMwPPhmHmCEK",
        "outputId": "092cd621-22d7-4778-bc11-a58fd5b8d8a9"
      },
      "source": [
        "epochs = 2001\n",
        "steps = X.size(0)\n",
        "for i in range(epochs):\n",
        "    for j in range(steps):\n",
        "        data_point = np.random.randint(X.size(0))\n",
        "        x_var = Variable(X[data_point], requires_grad=False)\n",
        "        y_var = Variable(Y[data_point], requires_grad=False)\n",
        "        \n",
        "        optimizer.zero_grad()\n",
        "        y_hat = model(x_var)\n",
        "        loss = loss_func.forward(y_hat, y_var)\n",
        "        loss.backward()\n",
        "        optimizer.step()\n",
        "        \n",
        "    if i % 50 == 0:\n",
        "        print( \"Epoch: {0}, Loss: {1}, \".format(i, loss.data.numpy()))"
      ],
      "execution_count": 8,
      "outputs": [
        {
          "output_type": "stream",
          "text": [
            "/usr/local/lib/python3.7/dist-packages/torch/nn/functional.py:1698: UserWarning: nn.functional.tanh is deprecated. Use torch.tanh instead.\n",
            "  warnings.warn(\"nn.functional.tanh is deprecated. Use torch.tanh instead.\")\n"
          ],
          "name": "stderr"
        },
        {
          "output_type": "stream",
          "text": [
            "Epoch: 0, Loss: 1.9957894086837769, \n",
            "Epoch: 50, Loss: 0.2127026915550232, \n",
            "Epoch: 100, Loss: 0.4502403736114502, \n",
            "Epoch: 150, Loss: 0.011260271072387695, \n",
            "Epoch: 200, Loss: 0.14251351356506348, \n",
            "Epoch: 250, Loss: 0.4130188226699829, \n",
            "Epoch: 300, Loss: 0.0384596586227417, \n",
            "Epoch: 350, Loss: 0.25087904930114746, \n",
            "Epoch: 400, Loss: 0.05587005615234375, \n",
            "Epoch: 450, Loss: 0.0759928822517395, \n",
            "Epoch: 500, Loss: 0.2365323305130005, \n",
            "Epoch: 550, Loss: 0.03839468955993652, \n",
            "Epoch: 600, Loss: 0.3741549849510193, \n",
            "Epoch: 650, Loss: 0.009596467018127441, \n",
            "Epoch: 700, Loss: 0.42342185974121094, \n",
            "Epoch: 750, Loss: 0.2538738250732422, \n",
            "Epoch: 800, Loss: 0.10399866104125977, \n",
            "Epoch: 850, Loss: 0.27207475900650024, \n",
            "Epoch: 900, Loss: 0.09456360340118408, \n",
            "Epoch: 950, Loss: 0.0033895373344421387, \n",
            "Epoch: 1000, Loss: 0.08662974834442139, \n",
            "Epoch: 1050, Loss: 0.4825064539909363, \n",
            "Epoch: 1100, Loss: 0.915143609046936, \n",
            "Epoch: 1150, Loss: 0.2725919485092163, \n",
            "Epoch: 1200, Loss: 0.025821208953857422, \n",
            "Epoch: 1250, Loss: 0.02041161060333252, \n",
            "Epoch: 1300, Loss: 0.09493893384933472, \n",
            "Epoch: 1350, Loss: 0.25973236560821533, \n",
            "Epoch: 1400, Loss: 0.034064531326293945, \n",
            "Epoch: 1450, Loss: 0.0005966424942016602, \n",
            "Epoch: 1500, Loss: 0.08134305477142334, \n",
            "Epoch: 1550, Loss: 0.012307405471801758, \n",
            "Epoch: 1600, Loss: 0.30836236476898193, \n",
            "Epoch: 1650, Loss: 0.021529078483581543, \n",
            "Epoch: 1700, Loss: 0.2528458833694458, \n",
            "Epoch: 1750, Loss: 0.20337337255477905, \n",
            "Epoch: 1800, Loss: 0.05786490440368652, \n",
            "Epoch: 1850, Loss: 0.19569379091262817, \n",
            "Epoch: 1900, Loss: 0.25305914878845215, \n",
            "Epoch: 1950, Loss: 0.07957172393798828, \n",
            "Epoch: 2000, Loss: 0.36399316787719727, \n"
          ],
          "name": "stdout"
        }
      ]
    },
    {
      "cell_type": "code",
      "metadata": {
        "id": "3-pG2kWsmCHx"
      },
      "source": [
        ""
      ],
      "execution_count": null,
      "outputs": []
    }
  ]
}